{
 "cells": [
  {
   "cell_type": "code",
   "execution_count": 44,
   "metadata": {},
   "outputs": [
    {
     "ename": "ModuleNotFoundError",
     "evalue": "No module named 'rapidframes'",
     "output_type": "error",
     "traceback": [
      "\u001b[0;31m---------------------------------------------------------------------------\u001b[0m",
      "\u001b[0;31mModuleNotFoundError\u001b[0m                       Traceback (most recent call last)",
      "Cell \u001b[0;32mIn[44], line 6\u001b[0m\n\u001b[1;32m      3\u001b[0m \u001b[38;5;28;01mfrom\u001b[39;00m \u001b[38;5;21;01msqlalchemy\u001b[39;00m\u001b[38;5;21;01m.\u001b[39;00m\u001b[38;5;21;01mexc\u001b[39;00m \u001b[38;5;28;01mimport\u001b[39;00m SQLAlchemyError\n\u001b[1;32m      4\u001b[0m \u001b[38;5;28;01mfrom\u001b[39;00m \u001b[38;5;21;01msqlalchemy\u001b[39;00m\u001b[38;5;21;01m.\u001b[39;00m\u001b[38;5;21;01morm\u001b[39;00m \u001b[38;5;28;01mimport\u001b[39;00m declarative_base, sessionmaker\n\u001b[0;32m----> 6\u001b[0m \u001b[38;5;28;01mfrom\u001b[39;00m \u001b[38;5;21;01mrapidframes\u001b[39;00m \u001b[38;5;28;01mimport\u001b[39;00m RapiDF, QueryBuilder\n\u001b[1;32m      8\u001b[0m \u001b[38;5;28;01mimport\u001b[39;00m \u001b[38;5;21;01mthreading\u001b[39;00m\n\u001b[1;32m      9\u001b[0m \u001b[38;5;28;01mimport\u001b[39;00m \u001b[38;5;21;01mwarnings\u001b[39;00m\n",
      "\u001b[0;31mModuleNotFoundError\u001b[0m: No module named 'rapidframes'"
     ]
    }
   ],
   "source": [
    "from sqlalchemy import Column, Integer, Numeric, String, Date, Index, Text, text, Float, create_engine  # The architects of our database schema, crafting the structure of our data haven.\n",
    "from sqlalchemy.orm import sessionmaker, declarative_base  # Craftsmen who build the bridge between our Pythonic realm and the database underworld.\n",
    "from sqlalchemy.exc import SQLAlchemyError\n",
    "from sqlalchemy.orm import declarative_base, sessionmaker\n",
    "\n",
    "from rapidframes import RapiDF, QueryBuilder\n",
    "\n",
    "import threading\n",
    "import warnings\n",
    "from typing import List, Dict\n",
    "import polars as pl\n",
    "import pandas as pd"
   ]
  },
  {
   "cell_type": "code",
   "execution_count": 2,
   "metadata": {},
   "outputs": [
    {
     "name": "stdout",
     "output_type": "stream",
     "text": [
      "Defaulting to user installation because normal site-packages is not writeable\n",
      "Requirement already satisfied: annotated-types==0.6.0 in /home/ubuntu/.local/lib/python3.10/site-packages (from -r requirements.txt (line 1)) (0.6.0)\n",
      "Requirement already satisfied: anyio==4.3.0 in /home/ubuntu/.local/lib/python3.10/site-packages (from -r requirements.txt (line 2)) (4.3.0)\n",
      "Requirement already satisfied: argon2-cffi==23.1.0 in /home/ubuntu/.local/lib/python3.10/site-packages (from -r requirements.txt (line 3)) (23.1.0)\n",
      "Requirement already satisfied: argon2-cffi-bindings==21.2.0 in /home/ubuntu/.local/lib/python3.10/site-packages (from -r requirements.txt (line 4)) (21.2.0)\n",
      "Requirement already satisfied: arrow==1.3.0 in /home/ubuntu/.local/lib/python3.10/site-packages (from -r requirements.txt (line 5)) (1.3.0)\n",
      "Requirement already satisfied: asttokens==2.4.1 in /home/ubuntu/.local/lib/python3.10/site-packages (from -r requirements.txt (line 6)) (2.4.1)\n",
      "Requirement already satisfied: async-lru==2.0.4 in /home/ubuntu/.local/lib/python3.10/site-packages (from -r requirements.txt (line 7)) (2.0.4)\n",
      "Requirement already satisfied: attr==0.3.2 in /home/ubuntu/.local/lib/python3.10/site-packages (from -r requirements.txt (line 8)) (0.3.2)\n",
      "Requirement already satisfied: attrs==23.2.0 in /home/ubuntu/.local/lib/python3.10/site-packages (from -r requirements.txt (line 9)) (23.2.0)\n",
      "Requirement already satisfied: Babel==2.14.0 in /home/ubuntu/.local/lib/python3.10/site-packages (from -r requirements.txt (line 10)) (2.14.0)\n",
      "Requirement already satisfied: beautifulsoup4==4.12.3 in /home/ubuntu/.local/lib/python3.10/site-packages (from -r requirements.txt (line 11)) (4.12.3)\n",
      "Requirement already satisfied: bleach==6.1.0 in /home/ubuntu/.local/lib/python3.10/site-packages (from -r requirements.txt (line 12)) (6.1.0)\n",
      "Requirement already satisfied: cachetools==5.3.2 in /home/ubuntu/.local/lib/python3.10/site-packages (from -r requirements.txt (line 13)) (5.3.2)\n",
      "Requirement already satisfied: certifi==2024.2.2 in /home/ubuntu/.local/lib/python3.10/site-packages (from -r requirements.txt (line 14)) (2024.2.2)\n",
      "Requirement already satisfied: cffi==1.16.0 in /home/ubuntu/.local/lib/python3.10/site-packages (from -r requirements.txt (line 15)) (1.16.0)\n",
      "Requirement already satisfied: charset-normalizer==3.3.2 in /home/ubuntu/.local/lib/python3.10/site-packages (from -r requirements.txt (line 16)) (3.3.2)\n",
      "Requirement already satisfied: comm==0.2.1 in /home/ubuntu/.local/lib/python3.10/site-packages (from -r requirements.txt (line 17)) (0.2.1)\n",
      "Requirement already satisfied: debugpy==1.8.1 in /home/ubuntu/.local/lib/python3.10/site-packages (from -r requirements.txt (line 18)) (1.8.1)\n",
      "Requirement already satisfied: decorator==5.1.1 in /home/ubuntu/.local/lib/python3.10/site-packages (from -r requirements.txt (line 19)) (5.1.1)\n",
      "Requirement already satisfied: defusedxml==0.7.1 in /home/ubuntu/.local/lib/python3.10/site-packages (from -r requirements.txt (line 20)) (0.7.1)\n",
      "Requirement already satisfied: dnspython==2.6.1 in /home/ubuntu/.local/lib/python3.10/site-packages (from -r requirements.txt (line 21)) (2.6.1)\n",
      "Requirement already satisfied: et-xmlfile==1.1.0 in /home/ubuntu/.local/lib/python3.10/site-packages (from -r requirements.txt (line 22)) (1.1.0)\n",
      "Requirement already satisfied: exceptiongroup==1.2.0 in /home/ubuntu/.local/lib/python3.10/site-packages (from -r requirements.txt (line 23)) (1.2.0)\n",
      "Requirement already satisfied: executing==2.0.1 in /home/ubuntu/.local/lib/python3.10/site-packages (from -r requirements.txt (line 24)) (2.0.1)\n",
      "Requirement already satisfied: fastapi==0.109.2 in /home/ubuntu/.local/lib/python3.10/site-packages (from -r requirements.txt (line 25)) (0.109.2)\n",
      "Requirement already satisfied: fastjsonschema==2.19.1 in /home/ubuntu/.local/lib/python3.10/site-packages (from -r requirements.txt (line 26)) (2.19.1)\n",
      "Requirement already satisfied: fqdn==1.5.1 in /home/ubuntu/.local/lib/python3.10/site-packages (from -r requirements.txt (line 27)) (1.5.1)\n",
      "Requirement already satisfied: google-api-core==2.17.1 in /home/ubuntu/.local/lib/python3.10/site-packages (from -r requirements.txt (line 28)) (2.17.1)\n",
      "Requirement already satisfied: google-api-python-client==2.119.0 in /home/ubuntu/.local/lib/python3.10/site-packages (from -r requirements.txt (line 29)) (2.119.0)\n",
      "Requirement already satisfied: google-auth==2.28.1 in /home/ubuntu/.local/lib/python3.10/site-packages (from -r requirements.txt (line 30)) (2.28.1)\n",
      "Requirement already satisfied: google-auth-httplib2==0.2.0 in /home/ubuntu/.local/lib/python3.10/site-packages (from -r requirements.txt (line 31)) (0.2.0)\n",
      "Requirement already satisfied: googleapis-common-protos==1.62.0 in /home/ubuntu/.local/lib/python3.10/site-packages (from -r requirements.txt (line 32)) (1.62.0)\n",
      "Requirement already satisfied: greenlet==3.0.3 in /home/ubuntu/.local/lib/python3.10/site-packages (from -r requirements.txt (line 33)) (3.0.3)\n",
      "Requirement already satisfied: h11==0.14.0 in /home/ubuntu/.local/lib/python3.10/site-packages (from -r requirements.txt (line 34)) (0.14.0)\n",
      "Requirement already satisfied: httpcore==1.0.4 in /home/ubuntu/.local/lib/python3.10/site-packages (from -r requirements.txt (line 35)) (1.0.4)\n",
      "Requirement already satisfied: httplib2==0.22.0 in /home/ubuntu/.local/lib/python3.10/site-packages (from -r requirements.txt (line 36)) (0.22.0)\n",
      "Requirement already satisfied: httpx==0.27.0 in /home/ubuntu/.local/lib/python3.10/site-packages (from -r requirements.txt (line 37)) (0.27.0)\n",
      "Requirement already satisfied: idna==3.6 in /home/ubuntu/.local/lib/python3.10/site-packages (from -r requirements.txt (line 38)) (3.6)\n",
      "Requirement already satisfied: ipykernel==6.29.3 in /home/ubuntu/.local/lib/python3.10/site-packages (from -r requirements.txt (line 39)) (6.29.3)\n",
      "Requirement already satisfied: ipython==8.22.1 in /home/ubuntu/.local/lib/python3.10/site-packages (from -r requirements.txt (line 40)) (8.22.1)\n",
      "Requirement already satisfied: ipywidgets==8.1.2 in /home/ubuntu/.local/lib/python3.10/site-packages (from -r requirements.txt (line 41)) (8.1.2)\n",
      "Requirement already satisfied: isoduration==20.11.0 in /home/ubuntu/.local/lib/python3.10/site-packages (from -r requirements.txt (line 42)) (20.11.0)\n",
      "Requirement already satisfied: jedi==0.19.1 in /home/ubuntu/.local/lib/python3.10/site-packages (from -r requirements.txt (line 43)) (0.19.1)\n",
      "Requirement already satisfied: Jinja2==3.1.3 in /home/ubuntu/.local/lib/python3.10/site-packages (from -r requirements.txt (line 44)) (3.1.3)\n",
      "Requirement already satisfied: json5==0.9.17 in /home/ubuntu/.local/lib/python3.10/site-packages (from -r requirements.txt (line 45)) (0.9.17)\n",
      "Requirement already satisfied: jsonpointer==2.4 in /home/ubuntu/.local/lib/python3.10/site-packages (from -r requirements.txt (line 46)) (2.4)\n",
      "Requirement already satisfied: jsonschema==4.21.1 in /home/ubuntu/.local/lib/python3.10/site-packages (from -r requirements.txt (line 47)) (4.21.1)\n",
      "Requirement already satisfied: jsonschema-specifications==2023.12.1 in /home/ubuntu/.local/lib/python3.10/site-packages (from -r requirements.txt (line 48)) (2023.12.1)\n",
      "Requirement already satisfied: jupyter==1.0.0 in /home/ubuntu/.local/lib/python3.10/site-packages (from -r requirements.txt (line 49)) (1.0.0)\n",
      "Requirement already satisfied: jupyter-console==6.6.3 in /home/ubuntu/.local/lib/python3.10/site-packages (from -r requirements.txt (line 50)) (6.6.3)\n",
      "Requirement already satisfied: jupyter-events==0.9.0 in /home/ubuntu/.local/lib/python3.10/site-packages (from -r requirements.txt (line 51)) (0.9.0)\n",
      "Requirement already satisfied: jupyter-lsp==2.2.3 in /home/ubuntu/.local/lib/python3.10/site-packages (from -r requirements.txt (line 52)) (2.2.3)\n",
      "Requirement already satisfied: jupyter_client==8.6.0 in /home/ubuntu/.local/lib/python3.10/site-packages (from -r requirements.txt (line 53)) (8.6.0)\n",
      "Requirement already satisfied: jupyter_core==5.7.1 in /home/ubuntu/.local/lib/python3.10/site-packages (from -r requirements.txt (line 54)) (5.7.1)\n",
      "Requirement already satisfied: jupyter_server==2.12.5 in /home/ubuntu/.local/lib/python3.10/site-packages (from -r requirements.txt (line 55)) (2.12.5)\n",
      "Requirement already satisfied: jupyter_server_terminals==0.5.2 in /home/ubuntu/.local/lib/python3.10/site-packages (from -r requirements.txt (line 56)) (0.5.2)\n",
      "Requirement already satisfied: jupyterlab==4.1.2 in /home/ubuntu/.local/lib/python3.10/site-packages (from -r requirements.txt (line 57)) (4.1.2)\n",
      "Requirement already satisfied: jupyterlab_pygments==0.3.0 in /home/ubuntu/.local/lib/python3.10/site-packages (from -r requirements.txt (line 58)) (0.3.0)\n",
      "Requirement already satisfied: jupyterlab_server==2.25.3 in /home/ubuntu/.local/lib/python3.10/site-packages (from -r requirements.txt (line 59)) (2.25.3)\n",
      "Requirement already satisfied: jupyterlab_widgets==3.0.10 in /home/ubuntu/.local/lib/python3.10/site-packages (from -r requirements.txt (line 60)) (3.0.10)\n",
      "Requirement already satisfied: MarkupSafe==2.1.5 in /home/ubuntu/.local/lib/python3.10/site-packages (from -r requirements.txt (line 61)) (2.1.5)\n",
      "Requirement already satisfied: matplotlib-inline==0.1.6 in /home/ubuntu/.local/lib/python3.10/site-packages (from -r requirements.txt (line 62)) (0.1.6)\n",
      "Requirement already satisfied: memory-profiler==0.61.0 in /home/ubuntu/.local/lib/python3.10/site-packages (from -r requirements.txt (line 63)) (0.61.0)\n",
      "Requirement already satisfied: mistune==3.0.2 in /home/ubuntu/.local/lib/python3.10/site-packages (from -r requirements.txt (line 64)) (3.0.2)\n",
      "Requirement already satisfied: msgpack==1.0.7 in /home/ubuntu/.local/lib/python3.10/site-packages (from -r requirements.txt (line 65)) (1.0.7)\n",
      "Requirement already satisfied: nbclient==0.9.0 in /home/ubuntu/.local/lib/python3.10/site-packages (from -r requirements.txt (line 66)) (0.9.0)\n",
      "Requirement already satisfied: nbconvert==7.16.1 in /home/ubuntu/.local/lib/python3.10/site-packages (from -r requirements.txt (line 67)) (7.16.1)\n",
      "Requirement already satisfied: nbformat==5.9.2 in /home/ubuntu/.local/lib/python3.10/site-packages (from -r requirements.txt (line 68)) (5.9.2)\n",
      "Requirement already satisfied: nest-asyncio==1.6.0 in /home/ubuntu/.local/lib/python3.10/site-packages (from -r requirements.txt (line 69)) (1.6.0)\n",
      "Requirement already satisfied: notebook==7.1.1 in /home/ubuntu/.local/lib/python3.10/site-packages (from -r requirements.txt (line 70)) (7.1.1)\n",
      "Requirement already satisfied: notebook_shim==0.2.4 in /home/ubuntu/.local/lib/python3.10/site-packages (from -r requirements.txt (line 71)) (0.2.4)\n",
      "Requirement already satisfied: numpy==1.26.4 in /home/ubuntu/.local/lib/python3.10/site-packages (from -r requirements.txt (line 72)) (1.26.4)\n",
      "Requirement already satisfied: openpyxl==3.1.2 in /home/ubuntu/.local/lib/python3.10/site-packages (from -r requirements.txt (line 73)) (3.1.2)\n",
      "Requirement already satisfied: overrides==7.7.0 in /home/ubuntu/.local/lib/python3.10/site-packages (from -r requirements.txt (line 74)) (7.7.0)\n",
      "Requirement already satisfied: packaging==23.2 in /home/ubuntu/.local/lib/python3.10/site-packages (from -r requirements.txt (line 75)) (23.2)\n",
      "Requirement already satisfied: pandas==2.2.1 in /home/ubuntu/.local/lib/python3.10/site-packages (from -r requirements.txt (line 76)) (2.2.1)\n",
      "Requirement already satisfied: pandocfilters==1.5.1 in /home/ubuntu/.local/lib/python3.10/site-packages (from -r requirements.txt (line 77)) (1.5.1)\n",
      "Requirement already satisfied: parso==0.8.3 in /home/ubuntu/.local/lib/python3.10/site-packages (from -r requirements.txt (line 78)) (0.8.3)\n",
      "Requirement already satisfied: pexpect==4.9.0 in /home/ubuntu/.local/lib/python3.10/site-packages (from -r requirements.txt (line 79)) (4.9.0)\n",
      "Requirement already satisfied: platformdirs==4.2.0 in /home/ubuntu/.local/lib/python3.10/site-packages (from -r requirements.txt (line 80)) (4.2.0)\n",
      "Requirement already satisfied: polars==0.20.10 in /home/ubuntu/.local/lib/python3.10/site-packages (from -r requirements.txt (line 81)) (0.20.10)\n",
      "Requirement already satisfied: prometheus_client==0.20.0 in /home/ubuntu/.local/lib/python3.10/site-packages (from -r requirements.txt (line 82)) (0.20.0)\n",
      "Requirement already satisfied: prompt-toolkit==3.0.43 in /home/ubuntu/.local/lib/python3.10/site-packages (from -r requirements.txt (line 83)) (3.0.43)\n",
      "Requirement already satisfied: protobuf==4.25.3 in /home/ubuntu/.local/lib/python3.10/site-packages (from -r requirements.txt (line 84)) (4.25.3)\n",
      "Requirement already satisfied: psutil==5.9.8 in /home/ubuntu/.local/lib/python3.10/site-packages (from -r requirements.txt (line 85)) (5.9.8)\n",
      "Requirement already satisfied: psycopg2-binary in /home/ubuntu/.local/lib/python3.10/site-packages (from -r requirements.txt (line 86)) (2.9.9)\n",
      "Requirement already satisfied: ptyprocess==0.7.0 in /usr/lib/python3/dist-packages (from -r requirements.txt (line 88)) (0.7.0)\n",
      "Requirement already satisfied: pure-eval==0.2.2 in /home/ubuntu/.local/lib/python3.10/site-packages (from -r requirements.txt (line 89)) (0.2.2)\n",
      "Requirement already satisfied: pyarrow==15.0.0 in /home/ubuntu/.local/lib/python3.10/site-packages (from -r requirements.txt (line 90)) (15.0.0)\n",
      "Requirement already satisfied: pyasn1==0.5.1 in /home/ubuntu/.local/lib/python3.10/site-packages (from -r requirements.txt (line 91)) (0.5.1)\n",
      "Requirement already satisfied: pyasn1-modules==0.3.0 in /home/ubuntu/.local/lib/python3.10/site-packages (from -r requirements.txt (line 92)) (0.3.0)\n",
      "Requirement already satisfied: pycparser==2.21 in /home/ubuntu/.local/lib/python3.10/site-packages (from -r requirements.txt (line 93)) (2.21)\n",
      "Requirement already satisfied: pydantic==2.6.2 in /home/ubuntu/.local/lib/python3.10/site-packages (from -r requirements.txt (line 94)) (2.6.2)\n",
      "Requirement already satisfied: pydantic_core==2.16.3 in /home/ubuntu/.local/lib/python3.10/site-packages (from -r requirements.txt (line 95)) (2.16.3)\n",
      "Requirement already satisfied: Pygments==2.17.2 in /home/ubuntu/.local/lib/python3.10/site-packages (from -r requirements.txt (line 96)) (2.17.2)\n",
      "Requirement already satisfied: pymongo==4.6.2 in /home/ubuntu/.local/lib/python3.10/site-packages (from -r requirements.txt (line 97)) (4.6.2)\n",
      "Requirement already satisfied: pyparsing==3.1.1 in /home/ubuntu/.local/lib/python3.10/site-packages (from -r requirements.txt (line 98)) (3.1.1)\n",
      "Requirement already satisfied: python-dateutil==2.8.2 in /home/ubuntu/.local/lib/python3.10/site-packages (from -r requirements.txt (line 99)) (2.8.2)\n",
      "Requirement already satisfied: python-json-logger==2.0.7 in /home/ubuntu/.local/lib/python3.10/site-packages (from -r requirements.txt (line 100)) (2.0.7)\n",
      "Requirement already satisfied: pytz==2024.1 in /home/ubuntu/.local/lib/python3.10/site-packages (from -r requirements.txt (line 101)) (2024.1)\n",
      "Requirement already satisfied: PyYAML==6.0.1 in /home/ubuntu/.local/lib/python3.10/site-packages (from -r requirements.txt (line 102)) (6.0.1)\n",
      "Requirement already satisfied: pyzmq==25.1.2 in /home/ubuntu/.local/lib/python3.10/site-packages (from -r requirements.txt (line 103)) (25.1.2)\n",
      "Requirement already satisfied: qtconsole==5.5.1 in /home/ubuntu/.local/lib/python3.10/site-packages (from -r requirements.txt (line 104)) (5.5.1)\n",
      "Requirement already satisfied: QtPy==2.4.1 in /home/ubuntu/.local/lib/python3.10/site-packages (from -r requirements.txt (line 105)) (2.4.1)\n",
      "Requirement already satisfied: referencing==0.33.0 in /home/ubuntu/.local/lib/python3.10/site-packages (from -r requirements.txt (line 106)) (0.33.0)\n",
      "Requirement already satisfied: requests==2.31.0 in /home/ubuntu/.local/lib/python3.10/site-packages (from -r requirements.txt (line 107)) (2.31.0)\n",
      "Requirement already satisfied: rfc3339-validator==0.1.4 in /home/ubuntu/.local/lib/python3.10/site-packages (from -r requirements.txt (line 108)) (0.1.4)\n",
      "Requirement already satisfied: rfc3986-validator==0.1.1 in /home/ubuntu/.local/lib/python3.10/site-packages (from -r requirements.txt (line 109)) (0.1.1)\n",
      "Requirement already satisfied: rpds-py==0.18.0 in /home/ubuntu/.local/lib/python3.10/site-packages (from -r requirements.txt (line 110)) (0.18.0)\n",
      "Requirement already satisfied: rsa==4.9 in /home/ubuntu/.local/lib/python3.10/site-packages (from -r requirements.txt (line 111)) (4.9)\n",
      "Requirement already satisfied: Send2Trash==1.8.2 in /home/ubuntu/.local/lib/python3.10/site-packages (from -r requirements.txt (line 112)) (1.8.2)\n",
      "Requirement already satisfied: six==1.16.0 in /usr/lib/python3/dist-packages (from -r requirements.txt (line 113)) (1.16.0)\n",
      "Requirement already satisfied: sniffio==1.3.0 in /home/ubuntu/.local/lib/python3.10/site-packages (from -r requirements.txt (line 114)) (1.3.0)\n",
      "Requirement already satisfied: soupsieve==2.5 in /home/ubuntu/.local/lib/python3.10/site-packages (from -r requirements.txt (line 115)) (2.5)\n",
      "Requirement already satisfied: SQLAlchemy==2.0.27 in /home/ubuntu/.local/lib/python3.10/site-packages (from -r requirements.txt (line 116)) (2.0.27)\n",
      "Requirement already satisfied: stack-data==0.6.3 in /home/ubuntu/.local/lib/python3.10/site-packages (from -r requirements.txt (line 117)) (0.6.3)\n",
      "Requirement already satisfied: starlette==0.36.3 in /home/ubuntu/.local/lib/python3.10/site-packages (from -r requirements.txt (line 118)) (0.36.3)\n",
      "Requirement already satisfied: terminado==0.18.0 in /home/ubuntu/.local/lib/python3.10/site-packages (from -r requirements.txt (line 119)) (0.18.0)\n",
      "Requirement already satisfied: tinycss2==1.2.1 in /home/ubuntu/.local/lib/python3.10/site-packages (from -r requirements.txt (line 120)) (1.2.1)\n",
      "Requirement already satisfied: tomli==2.0.1 in /home/ubuntu/.local/lib/python3.10/site-packages (from -r requirements.txt (line 121)) (2.0.1)\n",
      "Requirement already satisfied: tornado==6.4 in /home/ubuntu/.local/lib/python3.10/site-packages (from -r requirements.txt (line 122)) (6.4)\n",
      "Requirement already satisfied: traitlets==5.14.1 in /home/ubuntu/.local/lib/python3.10/site-packages (from -r requirements.txt (line 123)) (5.14.1)\n",
      "Requirement already satisfied: types-python-dateutil==2.8.19.20240106 in /home/ubuntu/.local/lib/python3.10/site-packages (from -r requirements.txt (line 124)) (2.8.19.20240106)\n",
      "Requirement already satisfied: typing_extensions==4.9.0 in /home/ubuntu/.local/lib/python3.10/site-packages (from -r requirements.txt (line 125)) (4.9.0)\n",
      "Requirement already satisfied: tzdata==2024.1 in /home/ubuntu/.local/lib/python3.10/site-packages (from -r requirements.txt (line 126)) (2024.1)\n",
      "Requirement already satisfied: uri-template==1.3.0 in /home/ubuntu/.local/lib/python3.10/site-packages (from -r requirements.txt (line 127)) (1.3.0)\n",
      "Requirement already satisfied: uritemplate==4.1.1 in /home/ubuntu/.local/lib/python3.10/site-packages (from -r requirements.txt (line 128)) (4.1.1)\n",
      "Requirement already satisfied: urllib3==2.2.1 in /home/ubuntu/.local/lib/python3.10/site-packages (from -r requirements.txt (line 129)) (2.2.1)\n",
      "Requirement already satisfied: wcwidth==0.2.13 in /home/ubuntu/.local/lib/python3.10/site-packages (from -r requirements.txt (line 130)) (0.2.13)\n",
      "Requirement already satisfied: webcolors==1.13 in /home/ubuntu/.local/lib/python3.10/site-packages (from -r requirements.txt (line 131)) (1.13)\n",
      "Requirement already satisfied: webencodings==0.5.1 in /home/ubuntu/.local/lib/python3.10/site-packages (from -r requirements.txt (line 132)) (0.5.1)\n",
      "Requirement already satisfied: websocket-client==1.7.0 in /home/ubuntu/.local/lib/python3.10/site-packages (from -r requirements.txt (line 133)) (1.7.0)\n",
      "Requirement already satisfied: widgetsnbextension==4.0.10 in /home/ubuntu/.local/lib/python3.10/site-packages (from -r requirements.txt (line 134)) (4.0.10)\n",
      "Requirement already satisfied: xlrd==2.0.1 in /home/ubuntu/.local/lib/python3.10/site-packages (from -r requirements.txt (line 135)) (2.0.1)\n"
     ]
    }
   ],
   "source": [
    "!pip3 install -r requirements.txt "
   ]
  },
  {
   "cell_type": "code",
   "execution_count": 4,
   "metadata": {},
   "outputs": [],
   "source": [
    "import sys\n",
    "import os"
   ]
  },
  {
   "cell_type": "markdown",
   "metadata": {},
   "source": [
    "sys.path.append('/home/ubuntu/OTB/rapidframes/')\n",
    "sys.path.append('/home/ubuntu/OTB/BMAPS/routes')"
   ]
  },
  {
   "cell_type": "code",
   "execution_count": 5,
   "metadata": {},
   "outputs": [],
   "source": [
    "import datetime\n",
    "from collections import namedtuple\n",
    "from datetime import datetime, timedelta, date\n",
    "from time import ctime\n",
    "from typing import Dict, List\n",
    "import pandas as pd\n",
    "import numpy as np\n",
    "import polars as pl\n",
    "from rapidframes import QueryBuilder, RapiDF\n",
    "from warnings import simplefilter"
   ]
  },
  {
   "cell_type": "code",
   "execution_count": 6,
   "metadata": {},
   "outputs": [],
   "source": [
    "STORAGE_URL = 'lmdb://databases/bmaps_data?map_size=50GB'\n",
    "rf = RapiDF(STORAGE_URL)"
   ]
  },
  {
   "cell_type": "code",
   "execution_count": 7,
   "metadata": {},
   "outputs": [
    {
     "data": {
      "text/plain": [
       "['ra_item_joined',\n",
       " 'kpi_trnx',\n",
       " 'item_master',\n",
       " 'ra_kpi_joined',\n",
       " 'stock_trnx',\n",
       " 'ra_stock_joined',\n",
       " 'cst_trnx',\n",
       " 'sales_filtered',\n",
       " 'filtered_symobl',\n",
       " 'ra_trnx',\n",
       " 'ra_sales_join']"
      ]
     },
     "execution_count": 7,
     "metadata": {},
     "output_type": "execute_result"
    }
   ],
   "source": [
    "# Library RA_DATA got created\n",
    "rf.get_library(\"RA_DATA\").list_symbols()"
   ]
  },
  {
   "cell_type": "code",
   "execution_count": 8,
   "metadata": {},
   "outputs": [],
   "source": [
    "LIBRARY_NAME = \"RA_DATA\""
   ]
  },
  {
   "cell_type": "code",
   "execution_count": 45,
   "metadata": {},
   "outputs": [],
   "source": [
    "class PostgresDatabaseSecretsHolder:\n",
    "    # Configuring the warehouse to store the contraband.\n",
    "    USERNAME = \"postgres\"\n",
    "    PASSWORD = \"6eA1Wyp6l'sj\"\n",
    "    HOST     = \"localhost\"\n",
    "    PORT     = \"5432\"\n",
    "    DATABASE = \"bmaps\"\n",
    "\n",
    "# Establish a connection to the MariaDB and Postgre Server, like making an untraceable phone call to an old friend.\n",
    "# Connecting to the MariaDB and Postgre Instances is akin to reaching out to a contact in a foreign land.\n",
    "# The connection stringv, a secret formula for establishing a clandestine rendezvous.\n",
    "# mariadb_connection_string = f\"mysql+pymysql://{MariaDBDatabaseSecretsHolder.USERNAME}:{MariaDBDatabaseSecretsHolder.6eA1Wyp6l'sj}\\\n",
    "# @{MariaDBDatabaseSecretsHolder.HOST}:{MariaDBDatabaseSecretsHolder.PORT}/{MariaDBDatabaseSecretsHolder.DATABASE}\"\n",
    "\n",
    "postgres_connection_string = f\"postgresql+psycopg2://{PostgresDatabaseSecretsHolder.USERNAME}:{PostgresDatabaseSecretsHolder.PASSWORD}\\\n",
    "@{PostgresDatabaseSecretsHolder.HOST}:{PostgresDatabaseSecretsHolder.PORT}/{PostgresDatabaseSecretsHolder.DATABASE}\"\n",
    "\n",
    "# Create the engines, the heart of our operation, silent yet powerful.\n",
    "# mariadb_engine = create_engine(mariadb_connection_string)\n",
    "postgres_engine = create_engine(postgres_connection_string)\n",
    "# The blueprint of our data structure, meticulous and precise.\n",
    "Base = declarative_base()\n",
    "Session = sessionmaker(bind=postgres_engine)\n",
    "session = Session()\n",
    "\n",
    "class SalesDataTrnx(Base):\n",
    "    __tablename__ = 'salesdata_trnx'\n",
    "    ID               = Column(Integer, primary_key=True, autoincrement=True)\n",
    "    INVENTLOCATIONID = Column(String(25))\n",
    "    ITEMID           = Column(String(50))\n",
    "    SALESQTY         = Column(Numeric(15, 3))\n",
    "    LINEDISC         = Column(Numeric(15, 3))\n",
    "    LINEAMOUNT       = Column(Numeric(15, 3))\n",
    "    SALESPRICE       = Column(Numeric(15, 3))\n",
    "    COSTPRICE        = Column(Numeric(15, 3))\n",
    "    INVOICEDATE      = Column(Date())\n",
    "    channel          = Column(String(50))\n",
    "    family           = Column(String(30))\n",
    "\n",
    "    __table_args__ = (\n",
    "        Index('salesdata_trnx_INVOICEDATE_IDX', 'INVOICEDATE'),\n",
    "        Index('salesdata_trnx_ITEMID_IDX', 'ITEMID', 'INVENTLOCATIONID', 'channel', 'family'),\n",
    "        Index('salesdata_trnx_LINEAMOUNT_IDX', 'LINEAMOUNT'),\n",
    "        Index('salesdata_trnx_INVENTLOCATIONID_1_IDX', 'INVENTLOCATIONID', 'ITEMID', 'channel'),\n",
    "        Index('salesdata_trnx_INVENTLOCATIONID_2_IDX', 'INVENTLOCATIONID', 'channel', 'INVOICEDATE', 'ITEMID', 'family'),\n",
    "        Index('salesdata_trnx_family_IDX', 'family', 'ITEMID', 'LINEAMOUNT'),\n",
    "        Index('salesdata_trnx_family_amt_IDX', 'family', 'LINEAMOUNT'),\n",
    "    )\n",
    "\n",
    "class RATransactionTable(Base):\n",
    "    __tablename__ = 'ra_transaction_table'\n",
    "    \n",
    "    id = Column(Integer, primary_key=True, autoincrement=True)\n",
    "    Channel = Column(Text)\n",
    "    country = Column(Text)\n",
    "    Region = Column(Text)\n",
    "    area = Column(Text)\n",
    "    city = Column(Text)\n",
    "    StoreId = Column(Integer)\n",
    "    Store = Column(Text)\n",
    "    season = Column(Text)\n",
    "    Department = Column(Text)\n",
    "    Family = Column(Text)\n",
    "    SubFamily = Column(Text)\n",
    "    Category = Column(Text)\n",
    "    DOM_COMM = Column(Text)\n",
    "    SubCategory = Column(Text)\n",
    "    ExtendedSubCategory = Column(Text)\n",
    "    Supplier = Column(Text)\n",
    "    SubCategorySupplier = Column(Text)\n",
    "    AssemblyCodeNickName = Column(Text)\n",
    "    Status = Column(Text)\n",
    "    ENDOFLife = Column(Text)\n",
    "    Description = Column(Text)\n",
    "    ItemLookupCode = Column(Text)\n",
    "    BudgetYear = Column(Float)\n",
    "    BDate = Column(Date)\n",
    "    BudgetAmount = Column(Float)\n",
    "    UnitsBuyBySku = Column(Numeric)\n",
    "    BudgetGrossMarginP = Column(Float)\n",
    "    BudgetCost = Column(Float)\n",
    "    BudgetQTY = Column(Numeric)\n",
    "    OpeningStock = Column(Numeric)\n",
    "    ClosingStock = Column(Numeric)\n",
    "    StockReceivedQty = Column(Integer)\n",
    "    TotalPurchaseQty = Column(Numeric)\n",
    "    StockOnHandQty = Column(Numeric)\n",
    "    CurrentStockCost = Column(Float)\n",
    "    budget_quarter = Column(Text)\n",
    "    budget_month = Column(Text)\n",
    "    budget_week = Column(Text)\n",
    "    budget_day = Column(Text)"
   ]
  },
  {
   "cell_type": "code",
   "execution_count": 46,
   "metadata": {},
   "outputs": [
    {
     "name": "stdout",
     "output_type": "stream",
     "text": [
      "True\n"
     ]
    }
   ],
   "source": [
    "import logging\n",
    "import psycopg2\n",
    "from psycopg2 import OperationalError\n",
    "import traceback\n",
    "\n",
    "# Enable logging\n",
    "logging.basicConfig()\n",
    "logging.getLogger().setLevel(logging.DEBUG)\n",
    "\n",
    "try:\n",
    "    conn = psycopg2.connect(dbname=\"bmaps\", user=\"mohit\", host = \"localhost\", port = \"5432\", password = \"password\")\n",
    "    conn.close()\n",
    "    print(True)\n",
    "except Exception as e:\n",
    "    print(traceback.format_exc())\n",
    "    print(e)"
   ]
  },
  {
   "cell_type": "code",
   "execution_count": 12,
   "metadata": {},
   "outputs": [],
   "source": [
    "# When no fetch\n",
    "lib = rf.get_library('RA_DATA', create_if_missing=True)"
   ]
  },
  {
   "cell_type": "code",
   "execution_count": 13,
   "metadata": {},
   "outputs": [
    {
     "name": "stdout",
     "output_type": "stream",
     "text": [
      "[INFO] FETCH ITEM_MASTER TRANSACTIONS\n"
     ]
    }
   ],
   "source": [
    "def fetch_item_data():\n",
    "    lib = rf.get_library('RA_DATA', create_if_missing=True)\n",
    "    print(f\"[INFO] FETCH ITEM_MASTER TRANSACTIONS\")\n",
    "    \n",
    "    ps_session = sessionmaker(bind=postgres_engine)\n",
    "    ps_conn    = ps_session()\n",
    "    item_data    = ps_conn.execute(text('''SELECT \"ItemLookupCode\" AS \"ITEMID\",\n",
    "                                                 MAX(\"Description\") AS \"Description\",\n",
    "                                                 MAX(\"Department\") AS \"Department\",\n",
    "                                                 MAX(\"CategoryName\") AS \"Category\",\n",
    "                                                 MAX(\"Family\") AS \"Family\",\n",
    "                                                 MAX(\"subFamily\") AS \"SubFamily\",\n",
    "                                                 MAX(\"SubCategory\") AS \"SubCategory\",\n",
    "                                                 MAX(\"ExtendedSubCategory\") AS \"ExtendedSubCategory\",\n",
    "                                                 MAX(\"SubCategorySupplier\") AS \"SubCategorySupplier\",\n",
    "                                                 MAX(\"AssemblyCodeNickname\") AS \"AssemblyCodeNickName\",\n",
    "                                                 MAX(\"ENDOFLife\") AS \"ENDOFLife\",\n",
    "                                                 MAX(\"DOM_COMM\") AS \"DOM_COMM\",\n",
    "                                                 MAX(\"Status\") AS \"Status\",\n",
    "                                                 MAX(\"Supplier\") AS \"Supplier\"\n",
    "                                                 FROM \n",
    "                                                    itemmaster\n",
    "                                                 GROUP BY \n",
    "                                                    \"ItemLookupCode\"'''))\n",
    "    item_master      = pd.DataFrame(item_data, columns=item_data.keys())\n",
    "    item_master[\"ENDOFLife\"]  = item_master[\"ENDOFLife\"].fillna(\"\")\n",
    "    item_master['ITEMID'] = item_master['ITEMID'].astype(str)\n",
    "\n",
    "    lib.write(\"item_master\", item_master, prune_previous_versions=True) # , prune_previous_versions=True\n",
    "    return lib\n",
    "lib = fetch_item_data()"
   ]
  },
  {
   "cell_type": "code",
   "execution_count": 15,
   "metadata": {},
   "outputs": [
    {
     "data": {
      "text/plain": [
       "polars.dataframe.frame.DataFrame"
      ]
     },
     "execution_count": 15,
     "metadata": {},
     "output_type": "execute_result"
    }
   ],
   "source": [
    "q = QueryBuilder()\n",
    "item_master = pl.DataFrame(rf.get_library(\"RA_DATA\").read('item_master', query_builder=q).data)\n",
    "type(item_master.head(2))"
   ]
  },
  {
   "cell_type": "code",
   "execution_count": 16,
   "metadata": {},
   "outputs": [],
   "source": [
    "def get_type_name(val):\n",
    "    return type(val).__name__\n",
    "\n",
    "    # Apply the function to the column\n",
    "# item_master = item_master.with_columns(pl.col('ITEMID').apply(get_type_name).alias('type_name'))\n",
    "\n",
    "    # Count the values\n",
    "    # item_master = item_master.groupby('type_name').agg(pl.count('type_name'))"
   ]
  },
  {
   "cell_type": "code",
   "execution_count": 14,
   "metadata": {},
   "outputs": [],
   "source": [
    "# item_master['type_name'].value_counts()"
   ]
  },
  {
   "cell_type": "code",
   "execution_count": 17,
   "metadata": {},
   "outputs": [
    {
     "name": "stdout",
     "output_type": "stream",
     "text": [
      "[INFO] FETCH RA TRANSACTIONS\n"
     ]
    }
   ],
   "source": [
    "def fetch_ra_data():\n",
    "    lib = rf.get_library('RA_DATA', create_if_missing=True)\n",
    "\n",
    "    # Fetch RA Transactions\n",
    "    print(f\"[INFO] FETCH RA TRANSACTIONS\")\n",
    "    \n",
    "    ps_session = sessionmaker(bind=postgres_engine)\n",
    "    ps_conn    = ps_session()\n",
    "    ra_data    = ps_conn.execute(text(\"SELECT * from ra_table; \"))\n",
    "    ra_df      = pd.DataFrame(ra_data, columns=ra_data.keys())\n",
    "    ra_df['ITEMID'] = ra_df['ITEMID'].astype(str)\n",
    "    ra_df[\"Budget_date\"]      = pd.to_datetime(ra_df[\"Budget_date\"])\n",
    "    # ra_df[\"ENDOFLife\"]  = ra_df[\"ENDOFLife\"].fillna(\"\")\n",
    "    # cols_to_conv        = [\"ClosingStock\", \"TotalPurchaseQty\", \"StockOnHandQty\", \"UnitsBuyBySku\", \"BudgetQTY\", \"OpeningStock\"]\n",
    "    # ra_df[cols_to_conv] = ra_df[cols_to_conv].apply(pd.to_numeric)\n",
    "\n",
    "    lib.write(\"ra_trnx\", ra_df, prune_previous_versions=True)\n",
    "    ra_df = None\n",
    "\n",
    "    return lib\n",
    "\n",
    "lib = fetch_ra_data()"
   ]
  },
  {
   "cell_type": "code",
   "execution_count": 18,
   "metadata": {},
   "outputs": [],
   "source": [
    "q = QueryBuilder()\n",
    "ra_trnx = pl.DataFrame(rf.get_library(\"RA_DATA\").read('ra_trnx', query_builder=q).data)"
   ]
  },
  {
   "cell_type": "code",
   "execution_count": 19,
   "metadata": {},
   "outputs": [
    {
     "data": {
      "text/plain": [
       "datetime.datetime(2024, 4, 20, 0, 0)"
      ]
     },
     "execution_count": 19,
     "metadata": {},
     "output_type": "execute_result"
    }
   ],
   "source": [
    "ra_trnx['Budget_date'].value_counts()\n",
    "max(ra_trnx['Budget_date'])"
   ]
  },
  {
   "cell_type": "code",
   "execution_count": 20,
   "metadata": {},
   "outputs": [
    {
     "data": {
      "text/plain": [
       "(9792848, 11)"
      ]
     },
     "execution_count": 20,
     "metadata": {},
     "output_type": "execute_result"
    }
   ],
   "source": [
    "ra_trnx.shape"
   ]
  },
  {
   "cell_type": "code",
   "execution_count": 21,
   "metadata": {},
   "outputs": [],
   "source": [
    "# ra_trnx = ra_trnx.with_columns(pl.col('ITEMID').apply(get_type_name).alias('type_name'))\n",
    "# ra_trnx['type_name'].value_counts()"
   ]
  },
  {
   "cell_type": "code",
   "execution_count": 22,
   "metadata": {},
   "outputs": [
    {
     "data": {
      "text/html": [
       "<div><style>\n",
       ".dataframe > thead > tr,\n",
       ".dataframe > tbody > tr {\n",
       "  text-align: right;\n",
       "  white-space: pre-wrap;\n",
       "}\n",
       "</style>\n",
       "<small>shape: (2, 2)</small><table border=\"1\" class=\"dataframe\"><thead><tr><th>Budget_date</th><th>count</th></tr><tr><td>datetime[ns]</td><td>u32</td></tr></thead><tbody><tr><td>2024-03-27 00:00:00</td><td>4896424</td></tr><tr><td>2024-04-20 00:00:00</td><td>4896424</td></tr></tbody></table></div>"
      ],
      "text/plain": [
       "shape: (2, 2)\n",
       "┌─────────────────────┬─────────┐\n",
       "│ Budget_date         ┆ count   │\n",
       "│ ---                 ┆ ---     │\n",
       "│ datetime[ns]        ┆ u32     │\n",
       "╞═════════════════════╪═════════╡\n",
       "│ 2024-03-27 00:00:00 ┆ 4896424 │\n",
       "│ 2024-04-20 00:00:00 ┆ 4896424 │\n",
       "└─────────────────────┴─────────┘"
      ]
     },
     "execution_count": 22,
     "metadata": {},
     "output_type": "execute_result"
    }
   ],
   "source": [
    "ra_trnx['Budget_date'].value_counts()"
   ]
  },
  {
   "cell_type": "code",
   "execution_count": 23,
   "metadata": {},
   "outputs": [
    {
     "name": "stdout",
     "output_type": "stream",
     "text": [
      "[INFO] FETCH CURRENT SALES TRANSACTIONS\n"
     ]
    }
   ],
   "source": [
    "def fetch_cst_data():\n",
    "    lib = rf.get_library('RA_DATA', create_if_missing=True)\n",
    "\n",
    "    # Fetch CST Transactions\n",
    "    print(f\"[INFO] FETCH CURRENT SALES TRANSACTIONS\")\n",
    "    \n",
    "    ps_session            = sessionmaker(bind=postgres_engine)\n",
    "    ps_conn               = ps_session()\n",
    "    cst_data              = ps_conn.execute(text(\"SELECT * from current_sales_trnx;\"))\n",
    "    cst_df                = pd.DataFrame(cst_data, columns=cst_data.keys())\n",
    "    cst_df[\"INVOICEDATE\"] = pd.to_datetime(cst_df[\"INVOICEDATE\"])\n",
    "    cols_to_conv          = [\"LINEAMOUNT\", \"SALESQTY\", \"COSTPRICE\", \"gross_sales\", \"historical_year\"]\n",
    "    cst_df[cols_to_conv]  = cst_df[cols_to_conv].apply(pd.to_numeric)\n",
    "    \n",
    "    lib.write(\"cst_trnx\", cst_df, prune_previous_versions=True) # , prune_previous_versions=True\n",
    "\n",
    "    return lib\n",
    "\n",
    "\n",
    "lib = fetch_cst_data()"
   ]
  },
  {
   "cell_type": "code",
   "execution_count": 24,
   "metadata": {},
   "outputs": [],
   "source": [
    "q = QueryBuilder()\n",
    "cst_trnx  = pl.DataFrame(rf.get_library(\"RA_DATA\").read('cst_trnx', query_builder=q).data)"
   ]
  },
  {
   "cell_type": "code",
   "execution_count": 25,
   "metadata": {},
   "outputs": [
    {
     "data": {
      "text/html": [
       "<div><style>\n",
       ".dataframe > thead > tr,\n",
       ".dataframe > tbody > tr {\n",
       "  text-align: right;\n",
       "  white-space: pre-wrap;\n",
       "}\n",
       "</style>\n",
       "<small>shape: (9, 14)</small><table border=\"1\" class=\"dataframe\"><thead><tr><th>statistic</th><th>ITEMID</th><th>channel</th><th>INVENTLOCATIONID</th><th>LINEAMOUNT</th><th>SALESQTY</th><th>COSTPRICE</th><th>gross_sales</th><th>historical_year</th><th>INVOICEDATE</th><th>history_quarter</th><th>history_month</th><th>history_week</th><th>history_day</th></tr><tr><td>str</td><td>str</td><td>str</td><td>str</td><td>f64</td><td>f64</td><td>f64</td><td>f64</td><td>f64</td><td>str</td><td>str</td><td>str</td><td>str</td><td>str</td></tr></thead><tbody><tr><td>&quot;count&quot;</td><td>&quot;7570000&quot;</td><td>&quot;7550913&quot;</td><td>&quot;7570001&quot;</td><td>7.569999e6</td><td>7.569999e6</td><td>7.569999e6</td><td>7.569999e6</td><td>7.569999e6</td><td>&quot;7569999&quot;</td><td>&quot;7569999&quot;</td><td>&quot;7569999&quot;</td><td>&quot;7569999&quot;</td><td>&quot;7569999&quot;</td></tr><tr><td>&quot;null_count&quot;</td><td>&quot;1&quot;</td><td>&quot;19088&quot;</td><td>&quot;0&quot;</td><td>2.0</td><td>2.0</td><td>2.0</td><td>2.0</td><td>2.0</td><td>&quot;2&quot;</td><td>&quot;2&quot;</td><td>&quot;2&quot;</td><td>&quot;2&quot;</td><td>&quot;2&quot;</td></tr><tr><td>&quot;mean&quot;</td><td>null</td><td>null</td><td>null</td><td>6688.88592</td><td>14.731555</td><td>4613.288953</td><td>6805.761984</td><td>2022.056929</td><td>&quot;2022-07-14 13:…</td><td>null</td><td>null</td><td>null</td><td>null</td></tr><tr><td>&quot;std&quot;</td><td>null</td><td>null</td><td>null</td><td>75202.841194</td><td>461.447365</td><td>37146.798065</td><td>75826.438706</td><td>0.871128</td><td>null</td><td>null</td><td>null</td><td>null</td><td>null</td></tr><tr><td>&quot;min&quot;</td><td>&quot;1AAMACWLAMI010…</td><td>&quot;&quot;</td><td>&quot;&quot;</td><td>-8.7073e6</td><td>-263157.0</td><td>0.0</td><td>-8.7073e6</td><td>2021.0</td><td>&quot;2021-01-01 00:…</td><td>&quot;1&quot;</td><td>&quot;April    &quot;</td><td>&quot;1&quot;</td><td>&quot;Friday   &quot;</td></tr><tr><td>&quot;25%&quot;</td><td>null</td><td>null</td><td>null</td><td>320.0</td><td>1.0</td><td>285.5</td><td>330.0</td><td>2021.0</td><td>&quot;2021-11-06 00:…</td><td>null</td><td>null</td><td>null</td><td>null</td></tr><tr><td>&quot;50%&quot;</td><td>null</td><td>null</td><td>null</td><td>2049.0</td><td>1.0</td><td>1738.75</td><td>2090.0</td><td>2022.0</td><td>&quot;2022-06-28 00:…</td><td>null</td><td>null</td><td>null</td><td>null</td></tr><tr><td>&quot;75%&quot;</td><td>null</td><td>null</td><td>null</td><td>6760.0</td><td>1.0</td><td>5292.88</td><td>6839.0</td><td>2023.0</td><td>&quot;2023-03-28 00:…</td><td>null</td><td>null</td><td>null</td><td>null</td></tr><tr><td>&quot;max&quot;</td><td>&quot;transferfeeson…</td><td>&quot;WAREHOUSE&quot;</td><td>&quot;re-9014&quot;</td><td>9.0877e7</td><td>524899.0</td><td>2.9371e7</td><td>9.0877e7</td><td>2024.0</td><td>&quot;2024-02-27 00:…</td><td>&quot;4&quot;</td><td>&quot;September&quot;</td><td>&quot;9&quot;</td><td>&quot;Wednesday&quot;</td></tr></tbody></table></div>"
      ],
      "text/plain": [
       "shape: (9, 14)\n",
       "┌───────────┬───────────┬───────────┬───────────┬───┬───────────┬───────────┬───────────┬──────────┐\n",
       "│ statistic ┆ ITEMID    ┆ channel   ┆ INVENTLOC ┆ … ┆ history_q ┆ history_m ┆ history_w ┆ history_ │\n",
       "│ ---       ┆ ---       ┆ ---       ┆ ATIONID   ┆   ┆ uarter    ┆ onth      ┆ eek       ┆ day      │\n",
       "│ str       ┆ str       ┆ str       ┆ ---       ┆   ┆ ---       ┆ ---       ┆ ---       ┆ ---      │\n",
       "│           ┆           ┆           ┆ str       ┆   ┆ str       ┆ str       ┆ str       ┆ str      │\n",
       "╞═══════════╪═══════════╪═══════════╪═══════════╪═══╪═══════════╪═══════════╪═══════════╪══════════╡\n",
       "│ count     ┆ 7570000   ┆ 7550913   ┆ 7570001   ┆ … ┆ 7569999   ┆ 7569999   ┆ 7569999   ┆ 7569999  │\n",
       "│ null_coun ┆ 1         ┆ 19088     ┆ 0         ┆ … ┆ 2         ┆ 2         ┆ 2         ┆ 2        │\n",
       "│ t         ┆           ┆           ┆           ┆   ┆           ┆           ┆           ┆          │\n",
       "│ mean      ┆ null      ┆ null      ┆ null      ┆ … ┆ null      ┆ null      ┆ null      ┆ null     │\n",
       "│ std       ┆ null      ┆ null      ┆ null      ┆ … ┆ null      ┆ null      ┆ null      ┆ null     │\n",
       "│ min       ┆ 1AAMACWLA ┆           ┆           ┆ … ┆ 1         ┆ April     ┆ 1         ┆ Friday   │\n",
       "│           ┆ MI010CRL0 ┆           ┆           ┆   ┆           ┆           ┆           ┆          │\n",
       "│           ┆ 01        ┆           ┆           ┆   ┆           ┆           ┆           ┆          │\n",
       "│ 25%       ┆ null      ┆ null      ┆ null      ┆ … ┆ null      ┆ null      ┆ null      ┆ null     │\n",
       "│ 50%       ┆ null      ┆ null      ┆ null      ┆ … ┆ null      ┆ null      ┆ null      ┆ null     │\n",
       "│ 75%       ┆ null      ┆ null      ┆ null      ┆ … ┆ null      ┆ null      ┆ null      ┆ null     │\n",
       "│ max       ┆ transferf ┆ WAREHOUSE ┆ re-9014   ┆ … ┆ 4         ┆ September ┆ 9         ┆ Wednesda │\n",
       "│           ┆ eesonline ┆           ┆           ┆   ┆           ┆           ┆           ┆ y        │\n",
       "│           ┆ 25        ┆           ┆           ┆   ┆           ┆           ┆           ┆          │\n",
       "└───────────┴───────────┴───────────┴───────────┴───┴───────────┴───────────┴───────────┴──────────┘"
      ]
     },
     "execution_count": 25,
     "metadata": {},
     "output_type": "execute_result"
    }
   ],
   "source": [
    "cst_trnx.describe()\n"
   ]
  },
  {
   "cell_type": "code",
   "execution_count": 26,
   "metadata": {},
   "outputs": [
    {
     "data": {
      "text/plain": [
       "Library(s(config=LMDB(path=/home/ubuntu/OTB/databases/bmaps_data)), path=RA_DATA, storage=lmdb_storage)"
      ]
     },
     "execution_count": 26,
     "metadata": {},
     "output_type": "execute_result"
    }
   ],
   "source": [
    "lib"
   ]
  },
  {
   "cell_type": "code",
   "execution_count": 27,
   "metadata": {},
   "outputs": [
    {
     "data": {
      "text/html": [
       "<div><style>\n",
       ".dataframe > thead > tr,\n",
       ".dataframe > tbody > tr {\n",
       "  text-align: right;\n",
       "  white-space: pre-wrap;\n",
       "}\n",
       "</style>\n",
       "<small>shape: (8, 2)</small><table border=\"1\" class=\"dataframe\"><thead><tr><th>history_day</th><th>count</th></tr><tr><td>str</td><td>u32</td></tr></thead><tbody><tr><td>&quot;Tuesday  &quot;</td><td>1099861</td></tr><tr><td>&quot;Saturday &quot;</td><td>1086948</td></tr><tr><td>null</td><td>2</td></tr><tr><td>&quot;Wednesday&quot;</td><td>1131032</td></tr><tr><td>&quot;Sunday   &quot;</td><td>1108307</td></tr><tr><td>&quot;Thursday &quot;</td><td>1170404</td></tr><tr><td>&quot;Friday   &quot;</td><td>851371</td></tr><tr><td>&quot;Monday   &quot;</td><td>1122076</td></tr></tbody></table></div>"
      ],
      "text/plain": [
       "shape: (8, 2)\n",
       "┌─────────────┬─────────┐\n",
       "│ history_day ┆ count   │\n",
       "│ ---         ┆ ---     │\n",
       "│ str         ┆ u32     │\n",
       "╞═════════════╪═════════╡\n",
       "│ Tuesday     ┆ 1099861 │\n",
       "│ Saturday    ┆ 1086948 │\n",
       "│ null        ┆ 2       │\n",
       "│ Wednesday   ┆ 1131032 │\n",
       "│ Sunday      ┆ 1108307 │\n",
       "│ Thursday    ┆ 1170404 │\n",
       "│ Friday      ┆ 851371  │\n",
       "│ Monday      ┆ 1122076 │\n",
       "└─────────────┴─────────┘"
      ]
     },
     "execution_count": 27,
     "metadata": {},
     "output_type": "execute_result"
    }
   ],
   "source": [
    "cst_trnx['history_day'].value_counts()"
   ]
  },
  {
   "cell_type": "code",
   "execution_count": 28,
   "metadata": {},
   "outputs": [
    {
     "name": "stdout",
     "output_type": "stream",
     "text": [
      "[INFO] FETCH STOCK TRANSACTIONS\n"
     ]
    }
   ],
   "source": [
    "def fetch_stock_data():\n",
    "  lib = rf.get_library('RA_DATA', create_if_missing=True)\n",
    "\n",
    "  # Get the opening stock\n",
    "  print(f\"[INFO] FETCH STOCK TRANSACTIONS\")\n",
    "\n",
    "  ps_session = sessionmaker(bind=postgres_engine)\n",
    "  ps_conn    = ps_session()\n",
    "\n",
    "  stock_data    = ps_conn.execute(text('''\tSELECT \"ItemLookupCode\" AS \"ITEMID\" ,\n",
    "                                          \"StoreID\" AS \"INVENTLOCATIONID\",\n",
    "                                          SUM(\"Quantity\") AS \"stock_on_hand_qty\",\n",
    "                                          SUM(\"AvailableQTY\") AS \"opening_stock\",\n",
    "                                          SUM(\"AvailableQTY\") AS \"closing_stock\",\n",
    "                                          AVG(\"Price\") AS \"current_stock_cost_at_retail\",\n",
    "                                          0 AS \"stock_received_qty\",\n",
    "                                          SUM(\"Cost\") AS \"opening_stock_at_cost\",\n",
    "                                          0 AS \"adjustment_at_cost\",\n",
    "                                          0 AS \"adjustment_at_retail\",\n",
    "                                          MAX(\"SnapShotTime\") AS \"stock_date\"\n",
    "                                          FROM stock \n",
    "                                          GROUP BY \"ItemLookupCode\",\"StoreID\";\n",
    "                                    '''\n",
    "                                  ))\n",
    "  stock_df      = pd.DataFrame(stock_data, columns=stock_data.keys())\n",
    "  cols_to_conv        = [\"stock_on_hand_qty\", \"opening_stock\", \"closing_stock\", \"current_stock_cost_at_retail\"]\n",
    "  stock_df[cols_to_conv] = stock_df[cols_to_conv].apply(pd.to_numeric)\n",
    "  # problematic_rows = stock_df[pd.to_datetime(stock_df[\"stock_date\"], errors='coerce').isna()]\n",
    "  # print(problematic_rows, 'rows causing datetime err')\n",
    "  # print('hiiii')\n",
    "  stock_df[\"stock_date\"] = pd.to_datetime(stock_df[\"stock_date\"], errors='coerce')\n",
    "\n",
    "  lib.write(\"stock_trnx\", stock_df, prune_previous_versions=True)\n",
    "  # stock_df = None\n",
    "  return lib\n",
    "lib = fetch_stock_data()"
   ]
  },
  {
   "cell_type": "code",
   "execution_count": null,
   "metadata": {},
   "outputs": [],
   "source": [
    "# type(stock_df['stock_date'].dtypes)"
   ]
  },
  {
   "cell_type": "code",
   "execution_count": 29,
   "metadata": {},
   "outputs": [],
   "source": [
    "q = QueryBuilder()\n",
    "stock_trnx = pl.DataFrame(rf.get_library(LIBRARY_NAME).read('stock_trnx', query_builder=q).data)"
   ]
  },
  {
   "cell_type": "code",
   "execution_count": 30,
   "metadata": {},
   "outputs": [
    {
     "data": {
      "text/html": [
       "<div><style>\n",
       ".dataframe > thead > tr,\n",
       ".dataframe > tbody > tr {\n",
       "  text-align: right;\n",
       "  white-space: pre-wrap;\n",
       "}\n",
       "</style>\n",
       "<small>shape: (1, 2)</small><table border=\"1\" class=\"dataframe\"><thead><tr><th>stock_date</th><th>count</th></tr><tr><td>datetime[ns]</td><td>u32</td></tr></thead><tbody><tr><td>2024-02-26 00:00:00</td><td>112012</td></tr></tbody></table></div>"
      ],
      "text/plain": [
       "shape: (1, 2)\n",
       "┌─────────────────────┬────────┐\n",
       "│ stock_date          ┆ count  │\n",
       "│ ---                 ┆ ---    │\n",
       "│ datetime[ns]        ┆ u32    │\n",
       "╞═════════════════════╪════════╡\n",
       "│ 2024-02-26 00:00:00 ┆ 112012 │\n",
       "└─────────────────────┴────────┘"
      ]
     },
     "execution_count": 30,
     "metadata": {},
     "output_type": "execute_result"
    }
   ],
   "source": [
    "stock_trnx['stock_date'].value_counts()"
   ]
  },
  {
   "cell_type": "code",
   "execution_count": 31,
   "metadata": {},
   "outputs": [
    {
     "name": "stdout",
     "output_type": "stream",
     "text": [
      "INFO OF CLOSING IS AVAILABLE TILL :2024-02-26 AND CURRENT DATE IS: 2024-04-23\n"
     ]
    }
   ],
   "source": [
    "maximum_stock_available_date = datetime.date(stock_trnx['stock_date'].dt.max())\n",
    "today_is = date.today()\n",
    "print(f\"INFO OF CLOSING IS AVAILABLE TILL :{maximum_stock_available_date} AND CURRENT DATE IS: {today_is}\")"
   ]
  },
  {
   "cell_type": "code",
   "execution_count": 32,
   "metadata": {},
   "outputs": [],
   "source": [
    "if maximum_stock_available_date < date.today(): \n",
    "    cst_trnx = cst_trnx.with_columns((pl.when(cst_trnx['INVOICEDATE'].cast(pl.Date) > maximum_stock_available_date, cst_trnx['INVOICEDATE'].cast(pl.Date) < today_is)\n",
    "                                                    .then(cst_trnx['SALESQTY'])\n",
    "                                                    .otherwise(0)).alias('to_calculate_the_stock_till_now'))"
   ]
  },
  {
   "cell_type": "code",
   "execution_count": null,
   "metadata": {},
   "outputs": [],
   "source": [
    "# sales_df['INVOICEDATE'].isnull().sum()   "
   ]
  },
  {
   "cell_type": "code",
   "execution_count": null,
   "metadata": {},
   "outputs": [],
   "source": [
    "# sales_df = cst_trnx.to_pandas()"
   ]
  },
  {
   "cell_type": "code",
   "execution_count": null,
   "metadata": {},
   "outputs": [],
   "source": [
    "# sales_df.head()\n",
    "# lib.write(\"cst_trnx\", sales_df, prune_previous_versions=True)"
   ]
  },
  {
   "cell_type": "code",
   "execution_count": null,
   "metadata": {},
   "outputs": [],
   "source": [
    "# stock_trnx.shape"
   ]
  },
  {
   "cell_type": "code",
   "execution_count": 33,
   "metadata": {},
   "outputs": [
    {
     "data": {
      "text/plain": [
       "datetime.datetime(2024, 2, 26, 0, 0)"
      ]
     },
     "execution_count": 33,
     "metadata": {},
     "output_type": "execute_result"
    }
   ],
   "source": [
    "type(stock_trnx['stock_date'][0])\n",
    "stock_trnx['stock_date'][0]\n",
    "datetime.date(stock_trnx['stock_date'][0])\n",
    "stock_trnx['stock_date'].dt.max()"
   ]
  },
  {
   "cell_type": "code",
   "execution_count": 34,
   "metadata": {},
   "outputs": [
    {
     "data": {
      "text/plain": [
       "(112012, 11)"
      ]
     },
     "execution_count": 34,
     "metadata": {},
     "output_type": "execute_result"
    }
   ],
   "source": [
    "stock_trnx.shape"
   ]
  },
  {
   "cell_type": "code",
   "execution_count": 35,
   "metadata": {},
   "outputs": [
    {
     "name": "stdout",
     "output_type": "stream",
     "text": [
      "[INFO] FETCH KPI TRANSACTIONS\n"
     ]
    }
   ],
   "source": [
    "def fetch_kpi_data():\n",
    "    lib = rf.get_library('RA_DATA', create_if_missing=True)\n",
    "\n",
    "    # Get the opening stock\n",
    "    print(f\"[INFO] FETCH KPI TRANSACTIONS\")\n",
    "\n",
    "    ps_session = sessionmaker(bind=postgres_engine)\n",
    "    ps_conn    = ps_session()\n",
    "\n",
    "    kpi_data    = ps_conn.execute(text(\"SELECT * from kpi_table;\"))\n",
    "    kpi_df      = pd.DataFrame(kpi_data, columns=kpi_data.keys())\n",
    "\n",
    "    # ra_df[\"Budget_date\"]      = pd.to_datetime(ra_df[\"Budget_date\"])\n",
    "    # ra_df[\"ENDOFLife\"]  = ra_df[\"ENDOFLife\"].fillna(\"\")\n",
    "    # cols_to_conv        = [\"budget_qty\"]\n",
    "\n",
    "    # cols_to_conv        = [\"ClosingStock\", \"TotalPurchaseQty\", \"StockOnHandQty\", \"UnitsBuyBySku\", \"BudgetQTY\", \"OpeningStock\"]\n",
    "    # ra_df[cols_to_conv] = ra_df[cols_to_conv].apply(pd.to_numeric)\n",
    "  \n",
    "    lib.write(\"kpi_trnx\", kpi_df, prune_previous_versions=True)#,prune_previous_versions=True\n",
    "    return lib\n",
    "lib = fetch_kpi_data()\n"
   ]
  },
  {
   "cell_type": "code",
   "execution_count": 36,
   "metadata": {},
   "outputs": [],
   "source": [
    "q = QueryBuilder()\n",
    "kpi_trnx  = pl.DataFrame(rf.get_library(\"RA_DATA\").read(\"kpi_trnx\", query_builder=q).data)"
   ]
  },
  {
   "cell_type": "code",
   "execution_count": 37,
   "metadata": {},
   "outputs": [
    {
     "data": {
      "text/plain": [
       "(27978, 15)"
      ]
     },
     "execution_count": 37,
     "metadata": {},
     "output_type": "execute_result"
    }
   ],
   "source": [
    "kpi_trnx.shape"
   ]
  },
  {
   "cell_type": "code",
   "execution_count": 38,
   "metadata": {},
   "outputs": [
    {
     "data": {
      "text/plain": [
       "['RA_DATA', 'SP_DATA']"
      ]
     },
     "execution_count": 38,
     "metadata": {},
     "output_type": "execute_result"
    }
   ],
   "source": [
    "rf.list_libraries()"
   ]
  },
  {
   "cell_type": "code",
   "execution_count": 39,
   "metadata": {},
   "outputs": [
    {
     "name": "stdout",
     "output_type": "stream",
     "text": [
      "(stock_trnx_v10, (date=2024-04-23 05:15:36.894904309+00:00))\n",
      "(sales_filtered_v10, (date=2024-04-23 05:11:14.824749173+00:00))\n",
      "(ra_trnx_v10, (date=2024-04-23 05:13:47.848772330+00:00))\n",
      "(ra_stock_joined_v4, (date=2024-04-19 08:51:00.951067239+00:00))\n",
      "(ra_sales_join_v10, (date=2024-04-23 05:11:14.846339113+00:00))\n",
      "(ra_sales_join_v9, (date=2024-04-23 04:24:54.272247054+00:00))\n",
      "(ra_sales_join_v8, (date=2024-04-22 06:03:28.468502119+00:00))\n",
      "(ra_sales_join_v7, (date=2024-04-22 03:57:23.037962654+00:00))\n",
      "(ra_sales_join_v6, (date=2024-04-21 05:26:41.660109842+00:00))\n",
      "(ra_sales_join_v5, (date=2024-04-20 13:59:22.122174493+00:00))\n",
      "(ra_sales_join_v4, (date=2024-04-20 07:39:49.470835400+00:00))\n",
      "(ra_sales_join_v3, (date=2024-04-20 07:37:21.894614255+00:00))\n",
      "(ra_sales_join_v2, (date=2024-04-19 06:10:09.011982477+00:00))\n",
      "(ra_sales_join_v1, (date=2024-04-19 06:09:30.434916325+00:00))\n",
      "(ra_sales_join_v0, (date=2024-04-19 05:58:49.030875865+00:00))\n",
      "(ra_kpi_joined_v2, (date=2024-04-19 05:57:02.941677834+00:00))\n",
      "(ra_item_joined_v8, (date=2024-04-23 04:28:53.212170405+00:00))\n",
      "(kpi_trnx_v9, (date=2024-04-23 05:15:56.087696078+00:00))\n",
      "(item_master_v12, (date=2024-04-23 05:12:50.295483428+00:00))\n",
      "(filtered_symobl_v12, (date=2024-04-23 05:11:14.600535411+00:00))\n",
      "(filtered_symobl_v11, (date=2024-04-23 04:24:54.096812462+00:00))\n",
      "(filtered_symobl_v10, (date=2024-04-22 06:03:28.303224193+00:00))\n",
      "(filtered_symobl_v9, (date=2024-04-22 03:57:22.863236146+00:00))\n",
      "(filtered_symobl_v8, (date=2024-04-21 05:26:41.415198109+00:00))\n",
      "(filtered_symobl_v7, (date=2024-04-20 13:59:21.961702988+00:00))\n",
      "(filtered_symobl_v6, (date=2024-04-20 07:39:49.334164455+00:00))\n",
      "(filtered_symobl_v5, (date=2024-04-20 07:37:21.663126526+00:00))\n",
      "(filtered_symobl_v4, (date=2024-04-20 07:37:21.653689140+00:00))\n",
      "(filtered_symobl_v3, (date=2024-04-20 07:37:21.629066089+00:00))\n",
      "(filtered_symobl_v2, (date=2024-04-19 06:10:08.869829494+00:00))\n",
      "(filtered_symobl_v1, (date=2024-04-19 06:09:30.289772282+00:00))\n",
      "(filtered_symobl_v0, (date=2024-04-19 05:58:48.771492526+00:00))\n",
      "(cst_trnx_v9, (date=2024-04-23 05:15:16.391974539+00:00))\n",
      "(stock_trnx_v10, (date=2024-04-23 05:15:36.894904309+00:00)) (sales_filtered_v10, (date=2024-04-23 05:11:14.824749173+00:00)) (ra_trnx_v10, (date=2024-04-23 05:13:47.848772330+00:00)) (ra_stock_joined_v4, (date=2024-04-19 08:51:00.951067239+00:00)) (ra_sales_join_v10, (date=2024-04-23 05:11:14.846339113+00:00)) (ra_sales_join_v9, (date=2024-04-23 04:24:54.272247054+00:00)) (ra_sales_join_v8, (date=2024-04-22 06:03:28.468502119+00:00)) (ra_sales_join_v7, (date=2024-04-22 03:57:23.037962654+00:00)) (ra_sales_join_v6, (date=2024-04-21 05:26:41.660109842+00:00)) (ra_sales_join_v5, (date=2024-04-20 13:59:22.122174493+00:00)) (ra_sales_join_v4, (date=2024-04-20 07:39:49.470835400+00:00)) (ra_sales_join_v3, (date=2024-04-20 07:37:21.894614255+00:00)) (ra_sales_join_v2, (date=2024-04-19 06:10:09.011982477+00:00)) (ra_sales_join_v1, (date=2024-04-19 06:09:30.434916325+00:00)) (ra_sales_join_v0, (date=2024-04-19 05:58:49.030875865+00:00)) (ra_kpi_joined_v2, (date=2024-04-19 05:57:02.941677834+00:00)) (ra_item_joined_v8, (date=2024-04-23 04:28:53.212170405+00:00)) (kpi_trnx_v9, (date=2024-04-23 05:15:56.087696078+00:00)) (item_master_v12, (date=2024-04-23 05:12:50.295483428+00:00)) (filtered_symobl_v12, (date=2024-04-23 05:11:14.600535411+00:00)) (filtered_symobl_v11, (date=2024-04-23 04:24:54.096812462+00:00)) (filtered_symobl_v10, (date=2024-04-22 06:03:28.303224193+00:00)) (filtered_symobl_v9, (date=2024-04-22 03:57:22.863236146+00:00)) (filtered_symobl_v8, (date=2024-04-21 05:26:41.415198109+00:00)) (filtered_symobl_v7, (date=2024-04-20 13:59:21.961702988+00:00)) (filtered_symobl_v6, (date=2024-04-20 07:39:49.334164455+00:00)) (filtered_symobl_v5, (date=2024-04-20 07:37:21.663126526+00:00)) (filtered_symobl_v4, (date=2024-04-20 07:37:21.653689140+00:00)) (filtered_symobl_v3, (date=2024-04-20 07:37:21.629066089+00:00)) (filtered_symobl_v2, (date=2024-04-19 06:10:08.869829494+00:00)) (filtered_symobl_v1, (date=2024-04-19 06:09:30.289772282+00:00)) (filtered_symobl_v0, (date=2024-04-19 05:58:48.771492526+00:00)) (cst_trnx_v9, (date=2024-04-23 05:15:16.391974539+00:00)) the symbol version\n"
     ]
    }
   ],
   "source": [
    "print(*map(lambda item:(print(item), item)[1], lib.list_versions().items()), 'the symbol version')"
   ]
  },
  {
   "cell_type": "code",
   "execution_count": 40,
   "metadata": {},
   "outputs": [],
   "source": [
    "import rapidframes\n",
    "class rapidframe_symbols:\n",
    "    #Class attributes\n",
    "    ITEM_MASTER  = 'item_master'\n",
    "    RA_TRNX      = 'ra_trnx'\n",
    "    CST_TRNX     = 'cst_trnx'\n",
    "    STOCK_TRNX   = 'stock_trnx'\n",
    "    KPI_TRNX     = 'kpi_trnx'\n",
    "    # Join the symbols\n",
    "    ITEM_RA      = 'item_ra_joined'\n",
    "    RA_STOCK     = 'ra_stock_joined'\n",
    "    STOCK_CST    = 'stock_cst_joined'\n",
    "    CST_KPI      = 'cst_kpi_joined'\n",
    "    \n",
    "    def combine_the_rapid_frame_symbols(self, rf : rapidframes.repidf.RapiDF, Stack : str, First, Last, LIBRARY_NAME, join_element):\n",
    "        \n",
    "        rf.get_library(LIBRARY_NAME).write(\n",
    "            Stack,\n",
    "            First.join(Last,\n",
    "            on=join_element,\n",
    "            how='left' \n",
    "            ).to_pandas(), prune_previous_versions=True\n",
    "        )\n",
    "# symbols = rapidframe_symbols()"
   ]
  },
  {
   "cell_type": "code",
   "execution_count": null,
   "metadata": {},
   "outputs": [],
   "source": [
    "# symbols.combine_the_rapid_frame_symbols(rf, symbols.ITEM_RA, item_master, ra_trnx, LIBRARY_NAME, list('ITEMID'))"
   ]
  },
  {
   "cell_type": "code",
   "execution_count": 41,
   "metadata": {},
   "outputs": [
    {
     "data": {
      "text/html": [
       "<div><style>\n",
       ".dataframe > thead > tr,\n",
       ".dataframe > tbody > tr {\n",
       "  text-align: right;\n",
       "  white-space: pre-wrap;\n",
       "}\n",
       "</style>\n",
       "<small>shape: (9_792_848, 11)</small><table border=\"1\" class=\"dataframe\"><thead><tr><th>Store</th><th>area</th><th>Region</th><th>adjusted_budget_gross_margin_percent</th><th>budget_amount</th><th>budget_cost</th><th>budget_qty</th><th>ITEMID</th><th>Channel</th><th>INVENTLOCATIONID</th><th>Budget_date</th></tr><tr><td>str</td><td>str</td><td>str</td><td>f64</td><td>f64</td><td>f64</td><td>f64</td><td>str</td><td>str</td><td>str</td><td>datetime[ns]</td></tr></thead><tbody><tr><td>&quot;BTECHX Gehan2 …</td><td>&quot;Tanash&quot;</td><td>&quot;CAIRO&quot;</td><td>20.0</td><td>0.0</td><td>-0.0</td><td>0.0</td><td>&quot;1BSOCOCMEF24NW…</td><td>&quot;B.TECH X&quot;</td><td>&quot;Re-1508&quot;</td><td>2024-03-27 00:00:00</td></tr><tr><td>&quot;BTECHX Gehan2 …</td><td>&quot;Tanash&quot;</td><td>&quot;CAIRO&quot;</td><td>20.0</td><td>0.0</td><td>-0.0</td><td>0.0</td><td>&quot;1BSOCOCMFE24AN…</td><td>&quot;B.TECH X&quot;</td><td>&quot;Re-1508&quot;</td><td>2024-03-27 00:00:00</td></tr><tr><td>&quot;BTECHX Gehan2 …</td><td>&quot;Tanash&quot;</td><td>&quot;CAIRO&quot;</td><td>20.0</td><td>0.0</td><td>-0.0</td><td>0.0</td><td>&quot;1BSOCOCMFE85NW…</td><td>&quot;B.TECH X&quot;</td><td>&quot;Re-1508&quot;</td><td>2024-03-27 00:00:00</td></tr><tr><td>&quot;BTECHX Gehan2 …</td><td>&quot;Tanash&quot;</td><td>&quot;CAIRO&quot;</td><td>20.0</td><td>0.0</td><td>-0.0</td><td>0.0</td><td>&quot;1BSOCOGMPLA4H5…</td><td>&quot;B.TECH X&quot;</td><td>&quot;Re-1508&quot;</td><td>2024-03-27 00:00:00</td></tr><tr><td>&quot;BTECHX Gehan2 …</td><td>&quot;Tanash&quot;</td><td>&quot;CAIRO&quot;</td><td>20.0</td><td>0.0</td><td>-0.0</td><td>0.0</td><td>&quot;1BSOCOGMPLA4JO…</td><td>&quot;B.TECH X&quot;</td><td>&quot;Re-1508&quot;</td><td>2024-03-27 00:00:00</td></tr><tr><td>&quot;BTECHX Gehan2 …</td><td>&quot;Tanash&quot;</td><td>&quot;CAIRO&quot;</td><td>20.0</td><td>0.0</td><td>-0.0</td><td>0.0</td><td>&quot;1BSOCOGMPLA4S5…</td><td>&quot;B.TECH X&quot;</td><td>&quot;Re-1508&quot;</td><td>2024-03-27 00:00:00</td></tr><tr><td>&quot;BTECHX Gehan2 …</td><td>&quot;Tanash&quot;</td><td>&quot;CAIRO&quot;</td><td>20.0</td><td>0.0</td><td>-0.0</td><td>0.0</td><td>&quot;1BSOCOGMPLA4SF…</td><td>&quot;B.TECH X&quot;</td><td>&quot;Re-1508&quot;</td><td>2024-03-27 00:00:00</td></tr><tr><td>&quot;BTECHX Gehan2 …</td><td>&quot;Tanash&quot;</td><td>&quot;CAIRO&quot;</td><td>20.0</td><td>0.0</td><td>-0.0</td><td>0.0</td><td>&quot;1BSOCOGMPLA4SG…</td><td>&quot;B.TECH X&quot;</td><td>&quot;Re-1508&quot;</td><td>2024-03-27 00:00:00</td></tr><tr><td>&quot;BTECHX Gehan2 …</td><td>&quot;Tanash&quot;</td><td>&quot;CAIRO&quot;</td><td>20.0</td><td>0.0</td><td>-0.0</td><td>0.0</td><td>&quot;1BSOCOGMPLA4SL…</td><td>&quot;B.TECH X&quot;</td><td>&quot;Re-1508&quot;</td><td>2024-03-27 00:00:00</td></tr><tr><td>&quot;BTECHX Gehan2 …</td><td>&quot;Tanash&quot;</td><td>&quot;CAIRO&quot;</td><td>20.0</td><td>0.0</td><td>-0.0</td><td>0.0</td><td>&quot;1BSOCOGMPLA4SP…</td><td>&quot;B.TECH X&quot;</td><td>&quot;Re-1508&quot;</td><td>2024-03-27 00:00:00</td></tr><tr><td>&quot;BTECHX Gehan2 …</td><td>&quot;Tanash&quot;</td><td>&quot;CAIRO&quot;</td><td>20.0</td><td>0.0</td><td>-0.0</td><td>0.0</td><td>&quot;1BSOGMBGFIFA1T…</td><td>&quot;B.TECH X&quot;</td><td>&quot;Re-1508&quot;</td><td>2024-03-27 00:00:00</td></tr><tr><td>&quot;BTECHX Gehan2 …</td><td>&quot;Tanash&quot;</td><td>&quot;CAIRO&quot;</td><td>20.0</td><td>0.0</td><td>-0.0</td><td>0.0</td><td>&quot;1BSOGMBGOFFICI…</td><td>&quot;B.TECH X&quot;</td><td>&quot;Re-1508&quot;</td><td>2024-03-27 00:00:00</td></tr><tr><td>&hellip;</td><td>&hellip;</td><td>&hellip;</td><td>&hellip;</td><td>&hellip;</td><td>&hellip;</td><td>&hellip;</td><td>&hellip;</td><td>&hellip;</td><td>&hellip;</td><td>&hellip;</td></tr><tr><td>&quot;BTECHX Gehan2 …</td><td>&quot;Tanash&quot;</td><td>&quot;CAIRO&quot;</td><td>20.0</td><td>0.0</td><td>-0.0</td><td>0.0</td><td>&quot;1BSOASITFFA22P…</td><td>&quot;B.TECH X&quot;</td><td>&quot;Re-1508&quot;</td><td>2024-03-27 00:00:00</td></tr><tr><td>&quot;BTECHX Gehan2 …</td><td>&quot;Tanash&quot;</td><td>&quot;CAIRO&quot;</td><td>20.0</td><td>0.0</td><td>-0.0</td><td>0.0</td><td>&quot;1BSOASMOZX110A…</td><td>&quot;B.TECH X&quot;</td><td>&quot;Re-1508&quot;</td><td>2024-03-27 00:00:00</td></tr><tr><td>&quot;BTECHX Gehan2 …</td><td>&quot;Tanash&quot;</td><td>&quot;CAIRO&quot;</td><td>20.0</td><td>0.0</td><td>-0.0</td><td>0.0</td><td>&quot;1BSOASSBPS4SPP…</td><td>&quot;B.TECH X&quot;</td><td>&quot;Re-1508&quot;</td><td>2024-03-27 00:00:00</td></tr><tr><td>&quot;BTECHX Gehan2 …</td><td>&quot;Tanash&quot;</td><td>&quot;CAIRO&quot;</td><td>20.0</td><td>0.0</td><td>-0.0</td><td>1.0</td><td>&quot;1BSOASSBPS5CHS…</td><td>&quot;B.TECH X&quot;</td><td>&quot;Re-1508&quot;</td><td>2024-03-27 00:00:00</td></tr><tr><td>&quot;BTECHX Gehan2 …</td><td>&quot;Tanash&quot;</td><td>&quot;CAIRO&quot;</td><td>20.0</td><td>0.0</td><td>-0.0</td><td>0.0</td><td>&quot;1BSOASSBPS5DEM…</td><td>&quot;B.TECH X&quot;</td><td>&quot;Re-1508&quot;</td><td>2024-03-27 00:00:00</td></tr><tr><td>&quot;BTECHX Gehan2 …</td><td>&quot;Tanash&quot;</td><td>&quot;CAIRO&quot;</td><td>20.0</td><td>0.0</td><td>-0.0</td><td>0.0</td><td>&quot;1BSOASSBPS5HDC…</td><td>&quot;B.TECH X&quot;</td><td>&quot;Re-1508&quot;</td><td>2024-03-27 00:00:00</td></tr><tr><td>&quot;BTECHX Gehan2 …</td><td>&quot;Tanash&quot;</td><td>&quot;CAIRO&quot;</td><td>20.0</td><td>179.470163</td><td>143.57613</td><td>0.0</td><td>&quot;1BSOASSBPS5HEA…</td><td>&quot;B.TECH X&quot;</td><td>&quot;Re-1508&quot;</td><td>2024-03-27 00:00:00</td></tr><tr><td>&quot;BTECHX Gehan2 …</td><td>&quot;Tanash&quot;</td><td>&quot;CAIRO&quot;</td><td>20.0</td><td>0.0</td><td>-0.0</td><td>3.0</td><td>&quot;1BSOASSBPS5JOY…</td><td>&quot;B.TECH X&quot;</td><td>&quot;Re-1508&quot;</td><td>2024-03-27 00:00:00</td></tr><tr><td>&quot;BTECHX Gehan2 …</td><td>&quot;Tanash&quot;</td><td>&quot;CAIRO&quot;</td><td>20.0</td><td>0.0</td><td>-0.0</td><td>0.0</td><td>&quot;1BSOASSBPS5REM…</td><td>&quot;B.TECH X&quot;</td><td>&quot;Re-1508&quot;</td><td>2024-03-27 00:00:00</td></tr><tr><td>&quot;BTECHX Gehan2 …</td><td>&quot;Tanash&quot;</td><td>&quot;CAIRO&quot;</td><td>20.0</td><td>0.0</td><td>-0.0</td><td>0.0</td><td>&quot;1BSOASSBPS5SAC…</td><td>&quot;B.TECH X&quot;</td><td>&quot;Re-1508&quot;</td><td>2024-03-27 00:00:00</td></tr><tr><td>&quot;BTECHX Gehan2 …</td><td>&quot;Tanash&quot;</td><td>&quot;CAIRO&quot;</td><td>20.0</td><td>0.0</td><td>-0.0</td><td>0.0</td><td>&quot;1BSOASSBPS5SPI…</td><td>&quot;B.TECH X&quot;</td><td>&quot;Re-1508&quot;</td><td>2024-03-27 00:00:00</td></tr><tr><td>&quot;BTECHX Gehan2 …</td><td>&quot;Tanash&quot;</td><td>&quot;CAIRO&quot;</td><td>20.0</td><td>0.0</td><td>-0.0</td><td>0.0</td><td>&quot;1BSOCOCMALPHAN…</td><td>&quot;B.TECH X&quot;</td><td>&quot;Re-1508&quot;</td><td>2024-03-27 00:00:00</td></tr></tbody></table></div>"
      ],
      "text/plain": [
       "shape: (9_792_848, 11)\n",
       "┌────────┬────────┬────────┬──────────────┬───┬─────────────┬──────────┬─────────────┬─────────────┐\n",
       "│ Store  ┆ area   ┆ Region ┆ adjusted_bud ┆ … ┆ ITEMID      ┆ Channel  ┆ INVENTLOCAT ┆ Budget_date │\n",
       "│ ---    ┆ ---    ┆ ---    ┆ get_gross_ma ┆   ┆ ---         ┆ ---      ┆ IONID       ┆ ---         │\n",
       "│ str    ┆ str    ┆ str    ┆ rgin_per…    ┆   ┆ str         ┆ str      ┆ ---         ┆ datetime[ns │\n",
       "│        ┆        ┆        ┆ ---          ┆   ┆             ┆          ┆ str         ┆ ]           │\n",
       "│        ┆        ┆        ┆ f64          ┆   ┆             ┆          ┆             ┆             │\n",
       "╞════════╪════════╪════════╪══════════════╪═══╪═════════════╪══════════╪═════════════╪═════════════╡\n",
       "│ BTECHX ┆ Tanash ┆ CAIRO  ┆ 20.0         ┆ … ┆ 1BSOCOCMEF2 ┆ B.TECH X ┆ Re-1508     ┆ 2024-03-27  │\n",
       "│ Gehan2 ┆        ┆        ┆              ┆   ┆ 4NW00L000   ┆          ┆             ┆ 00:00:00    │\n",
       "│ Dewaka ┆        ┆        ┆              ┆   ┆             ┆          ┆             ┆             │\n",
       "│ BTECHX ┆ Tanash ┆ CAIRO  ┆ 20.0         ┆ … ┆ 1BSOCOCMFE2 ┆ B.TECH X ┆ Re-1508     ┆ 2024-03-27  │\n",
       "│ Gehan2 ┆        ┆        ┆              ┆   ┆ 4ANW0L000   ┆          ┆             ┆ 00:00:00    │\n",
       "│ Dewaka ┆        ┆        ┆              ┆   ┆             ┆          ┆             ┆             │\n",
       "│ BTECHX ┆ Tanash ┆ CAIRO  ┆ 20.0         ┆ … ┆ 1BSOCOCMFE8 ┆ B.TECH X ┆ Re-1508     ┆ 2024-03-27  │\n",
       "│ Gehan2 ┆        ┆        ┆              ┆   ┆ 5NW00L000   ┆          ┆             ┆ 00:00:00    │\n",
       "│ Dewaka ┆        ┆        ┆              ┆   ┆             ┆          ┆             ┆             │\n",
       "│ BTECHX ┆ Tanash ┆ CAIRO  ┆ 20.0         ┆ … ┆ 1BSOCOGMPLA ┆ B.TECH X ┆ Re-1508     ┆ 2024-03-27  │\n",
       "│ Gehan2 ┆        ┆        ┆              ┆   ┆ 4H500F000   ┆          ┆             ┆ 00:00:00    │\n",
       "│ Dewaka ┆        ┆        ┆              ┆   ┆             ┆          ┆             ┆             │\n",
       "│ BTECHX ┆ Tanash ┆ CAIRO  ┆ 20.0         ┆ … ┆ 1BSOCOGMPLA ┆ B.TECH X ┆ Re-1508     ┆ 2024-03-27  │\n",
       "│ Gehan2 ┆        ┆        ┆              ┆   ┆ 4JOY2F000   ┆          ┆             ┆ 00:00:00    │\n",
       "│ Dewaka ┆        ┆        ┆              ┆   ┆             ┆          ┆             ┆             │\n",
       "│ …      ┆ …      ┆ …      ┆ …            ┆ … ┆ …           ┆ …        ┆ …           ┆ …           │\n",
       "│ BTECHX ┆ Tanash ┆ CAIRO  ┆ 20.0         ┆ … ┆ 1BSOASSBPS5 ┆ B.TECH X ┆ Re-1508     ┆ 2024-03-27  │\n",
       "│ Gehan2 ┆        ┆        ┆              ┆   ┆ JOY00L000   ┆          ┆             ┆ 00:00:00    │\n",
       "│ Dewaka ┆        ┆        ┆              ┆   ┆             ┆          ┆             ┆             │\n",
       "│ BTECHX ┆ Tanash ┆ CAIRO  ┆ 20.0         ┆ … ┆ 1BSOASSBPS5 ┆ B.TECH X ┆ Re-1508     ┆ 2024-03-27  │\n",
       "│ Gehan2 ┆        ┆        ┆              ┆   ┆ REMOTL000   ┆          ┆             ┆ 00:00:00    │\n",
       "│ Dewaka ┆        ┆        ┆              ┆   ┆             ┆          ┆             ┆             │\n",
       "│ BTECHX ┆ Tanash ┆ CAIRO  ┆ 20.0         ┆ … ┆ 1BSOASSBPS5 ┆ B.TECH X ┆ Re-1508     ┆ 2024-03-27  │\n",
       "│ Gehan2 ┆        ┆        ┆              ┆   ┆ SACK0L000   ┆          ┆             ┆ 00:00:00    │\n",
       "│ Dewaka ┆        ┆        ┆              ┆   ┆             ┆          ┆             ┆             │\n",
       "│ BTECHX ┆ Tanash ┆ CAIRO  ┆ 20.0         ┆ … ┆ 1BSOASSBPS5 ┆ B.TECH X ┆ Re-1508     ┆ 2024-03-27  │\n",
       "│ Gehan2 ┆        ┆        ┆              ┆   ┆ SPIDEL000   ┆          ┆             ┆ 00:00:00    │\n",
       "│ Dewaka ┆        ┆        ┆              ┆   ┆             ┆          ┆             ┆             │\n",
       "│ BTECHX ┆ Tanash ┆ CAIRO  ┆ 20.0         ┆ … ┆ 1BSOCOCMALP ┆ B.TECH X ┆ Re-1508     ┆ 2024-03-27  │\n",
       "│ Gehan2 ┆        ┆        ┆              ┆   ┆ HANW0L000   ┆          ┆             ┆ 00:00:00    │\n",
       "│ Dewaka ┆        ┆        ┆              ┆   ┆             ┆          ┆             ┆             │\n",
       "└────────┴────────┴────────┴──────────────┴───┴─────────────┴──────────┴─────────────┴─────────────┘"
      ]
     },
     "execution_count": 41,
     "metadata": {},
     "output_type": "execute_result"
    }
   ],
   "source": [
    "ra_trnx"
   ]
  },
  {
   "cell_type": "code",
   "execution_count": 42,
   "metadata": {},
   "outputs": [
    {
     "data": {
      "text/plain": [
       "VersionedItem(symbol='ra_item_joined', library='RA_DATA', data=n/a, version=9, metadata=None, host='LMDB(path=/home/ubuntu/OTB/databases/bmaps_data)')"
      ]
     },
     "execution_count": 42,
     "metadata": {},
     "output_type": "execute_result"
    }
   ],
   "source": [
    "rf.get_library(\"RA_DATA\").write(\n",
    "            'ra_item_joined',\n",
    "            ra_trnx.join(item_master,\n",
    "            on=['ITEMID'],\n",
    "            how='left' \n",
    "            ).to_pandas(), prune_previous_versions=True\n",
    "        )"
   ]
  },
  {
   "cell_type": "code",
   "execution_count": 43,
   "metadata": {},
   "outputs": [],
   "source": [
    "q=QueryBuilder()\n",
    "ra_item_joined = pl.DataFrame(rf.get_library(\"RA_DATA\").read('ra_item_joined', query_builder=q).data)"
   ]
  },
  {
   "cell_type": "code",
   "execution_count": 44,
   "metadata": {},
   "outputs": [
    {
     "data": {
      "text/plain": [
       "(9792848, 24)"
      ]
     },
     "execution_count": 44,
     "metadata": {},
     "output_type": "execute_result"
    }
   ],
   "source": [
    "ra_item_joined.shape"
   ]
  },
  {
   "cell_type": "code",
   "execution_count": 56,
   "metadata": {},
   "outputs": [
    {
     "data": {
      "text/plain": [
       "['ITEMID',\n",
       " 'INVENTLOCATIONID',\n",
       " 'stock_on_hand_qty',\n",
       " 'opening_stock',\n",
       " 'closing_stock',\n",
       " 'current_stock_cost_at_retail',\n",
       " 'stock_received_qty',\n",
       " 'opening_stock_at_cost',\n",
       " 'adjustment_at_cost',\n",
       " 'adjustment_at_retail',\n",
       " 'stock_date']"
      ]
     },
     "execution_count": 56,
     "metadata": {},
     "output_type": "execute_result"
    }
   ],
   "source": [
    "q=QueryBuilder()\n",
    "stock_trnx = pl.DataFrame(rf.get_library(\"RA_DATA\").read('ra_item_joined', query_builder=q).data)\n",
    "stock_trnx.columns"
   ]
  },
  {
   "cell_type": "code",
   "execution_count": 46,
   "metadata": {},
   "outputs": [
    {
     "data": {
      "text/plain": [
       "VersionedItem(symbol='ra_stock_joined', library='RA_DATA', data=n/a, version=5, metadata=None, host='LMDB(path=/home/ubuntu/OTB/databases/bmaps_data)')"
      ]
     },
     "execution_count": 46,
     "metadata": {},
     "output_type": "execute_result"
    }
   ],
   "source": [
    "rf.get_library(\"RA_DATA\").write(\n",
    "            'ra_stock_joined',\n",
    "            ra_item_joined.join(stock_trnx,\n",
    "            on=['ITEMID', 'INVENTLOCATIONID'],\n",
    "            how='left' \n",
    "            ).to_pandas(), prune_previous_versions=True\n",
    "        )"
   ]
  },
  {
   "cell_type": "code",
   "execution_count": null,
   "metadata": {},
   "outputs": [],
   "source": []
  },
  {
   "cell_type": "code",
   "execution_count": 55,
   "metadata": {},
   "outputs": [
    {
     "data": {
      "text/plain": [
       "['Store',\n",
       " 'area',\n",
       " 'Region',\n",
       " 'adjusted_budget_gross_margin_percent',\n",
       " 'budget_amount',\n",
       " 'budget_cost',\n",
       " 'budget_qty',\n",
       " 'ITEMID',\n",
       " 'Channel',\n",
       " 'INVENTLOCATIONID',\n",
       " 'Budget_date',\n",
       " 'Description',\n",
       " 'Department',\n",
       " 'Category',\n",
       " 'Family',\n",
       " 'SubFamily',\n",
       " 'SubCategory',\n",
       " 'ExtendedSubCategory',\n",
       " 'SubCategorySupplier',\n",
       " 'AssemblyCodeNickName',\n",
       " 'ENDOFLife',\n",
       " 'DOM_COMM',\n",
       " 'Status',\n",
       " 'Supplier',\n",
       " 'Store_right',\n",
       " 'area_right',\n",
       " 'Region_right',\n",
       " 'adjusted_budget_gross_margin_percent_right',\n",
       " 'budget_amount_right',\n",
       " 'budget_cost_right',\n",
       " 'budget_qty_right',\n",
       " 'Channel_right',\n",
       " 'Budget_date_right',\n",
       " 'Description_right',\n",
       " 'Department_right',\n",
       " 'Category_right',\n",
       " 'Family_right',\n",
       " 'SubFamily_right',\n",
       " 'SubCategory_right',\n",
       " 'ExtendedSubCategory_right',\n",
       " 'SubCategorySupplier_right',\n",
       " 'AssemblyCodeNickName_right',\n",
       " 'ENDOFLife_right',\n",
       " 'DOM_COMM_right',\n",
       " 'Status_right',\n",
       " 'Supplier_right']"
      ]
     },
     "execution_count": 55,
     "metadata": {},
     "output_type": "execute_result"
    }
   ],
   "source": [
    "q=QueryBuilder()\n",
    "ra_stock_joined = pl.DataFrame(rf.get_library(\"RA_DATA\").read('ra_stock_joined', query_builder=q).data)\n",
    "ra_stock_joined.columns"
   ]
  },
  {
   "cell_type": "code",
   "execution_count": 48,
   "metadata": {},
   "outputs": [
    {
     "ename": "ColumnNotFoundError",
     "evalue": "stock_date",
     "output_type": "error",
     "traceback": [
      "\u001b[0;31m---------------------------------------------------------------------------\u001b[0m",
      "\u001b[0;31mColumnNotFoundError\u001b[0m                       Traceback (most recent call last)",
      "\u001b[0;32m/tmp/ipykernel_446903/1501431459.py\u001b[0m in \u001b[0;36m?\u001b[0;34m()\u001b[0m\n\u001b[0;32m----> 1\u001b[0;31m \u001b[0mstock_trnx\u001b[0m\u001b[0;34m[\u001b[0m\u001b[0;34m'stock_date'\u001b[0m\u001b[0;34m]\u001b[0m\u001b[0;34m.\u001b[0m\u001b[0mvalue_counts\u001b[0m\u001b[0;34m(\u001b[0m\u001b[0;34m)\u001b[0m\u001b[0;34m\u001b[0m\u001b[0;34m\u001b[0m\u001b[0m\n\u001b[0m",
      "\u001b[0;32m~/.local/lib/python3.10/site-packages/polars/dataframe/frame.py\u001b[0m in \u001b[0;36m?\u001b[0;34m(self, item)\u001b[0m\n\u001b[1;32m   1676\u001b[0m \u001b[0;34m\u001b[0m\u001b[0m\n\u001b[1;32m   1677\u001b[0m         \u001b[0;31m# select single column\u001b[0m\u001b[0;34m\u001b[0m\u001b[0;34m\u001b[0m\u001b[0m\n\u001b[1;32m   1678\u001b[0m         \u001b[0;31m# df[\"foo\"]\u001b[0m\u001b[0;34m\u001b[0m\u001b[0;34m\u001b[0m\u001b[0m\n\u001b[1;32m   1679\u001b[0m         \u001b[0;32mif\u001b[0m \u001b[0misinstance\u001b[0m\u001b[0;34m(\u001b[0m\u001b[0mitem\u001b[0m\u001b[0;34m,\u001b[0m \u001b[0mstr\u001b[0m\u001b[0;34m)\u001b[0m\u001b[0;34m:\u001b[0m\u001b[0;34m\u001b[0m\u001b[0;34m\u001b[0m\u001b[0m\n\u001b[0;32m-> 1680\u001b[0;31m             \u001b[0;32mreturn\u001b[0m \u001b[0mself\u001b[0m\u001b[0;34m.\u001b[0m\u001b[0mget_column\u001b[0m\u001b[0;34m(\u001b[0m\u001b[0mitem\u001b[0m\u001b[0;34m)\u001b[0m\u001b[0;34m\u001b[0m\u001b[0;34m\u001b[0m\u001b[0m\n\u001b[0m\u001b[1;32m   1681\u001b[0m \u001b[0;34m\u001b[0m\u001b[0m\n\u001b[1;32m   1682\u001b[0m         \u001b[0;31m# df[idx]\u001b[0m\u001b[0;34m\u001b[0m\u001b[0;34m\u001b[0m\u001b[0m\n\u001b[1;32m   1683\u001b[0m         \u001b[0;32mif\u001b[0m \u001b[0misinstance\u001b[0m\u001b[0;34m(\u001b[0m\u001b[0mitem\u001b[0m\u001b[0;34m,\u001b[0m \u001b[0mint\u001b[0m\u001b[0;34m)\u001b[0m\u001b[0;34m:\u001b[0m\u001b[0;34m\u001b[0m\u001b[0;34m\u001b[0m\u001b[0m\n",
      "\u001b[0;32m~/.local/lib/python3.10/site-packages/polars/dataframe/frame.py\u001b[0m in \u001b[0;36m?\u001b[0;34m(self, name)\u001b[0m\n\u001b[1;32m   7047\u001b[0m                 \u001b[0;36m2\u001b[0m\u001b[0;34m\u001b[0m\u001b[0;34m\u001b[0m\u001b[0m\n\u001b[1;32m   7048\u001b[0m                 \u001b[0;36m3\u001b[0m\u001b[0;34m\u001b[0m\u001b[0;34m\u001b[0m\u001b[0m\n\u001b[1;32m   7049\u001b[0m         ]\n\u001b[1;32m   7050\u001b[0m         \"\"\"\n\u001b[0;32m-> 7051\u001b[0;31m         \u001b[0;32mreturn\u001b[0m \u001b[0mwrap_s\u001b[0m\u001b[0;34m(\u001b[0m\u001b[0mself\u001b[0m\u001b[0;34m.\u001b[0m\u001b[0m_df\u001b[0m\u001b[0;34m.\u001b[0m\u001b[0mget_column\u001b[0m\u001b[0;34m(\u001b[0m\u001b[0mname\u001b[0m\u001b[0;34m)\u001b[0m\u001b[0;34m)\u001b[0m\u001b[0;34m\u001b[0m\u001b[0;34m\u001b[0m\u001b[0m\n\u001b[0m",
      "\u001b[0;31mColumnNotFoundError\u001b[0m: stock_date"
     ]
    }
   ],
   "source": [
    "stock_trnx['stock_date'].value_counts()"
   ]
  },
  {
   "cell_type": "code",
   "execution_count": null,
   "metadata": {},
   "outputs": [],
   "source": [
    "ra_stock_joined = ra_stock_joined.with_columns(pl.col('stock_date').fill_null(datetime(2024,2,26,00,00,00)))"
   ]
  },
  {
   "cell_type": "code",
   "execution_count": null,
   "metadata": {},
   "outputs": [
    {
     "data": {
      "text/plain": [
       "datetime.datetime(2021, 1, 1, 0, 0)"
      ]
     },
     "execution_count": 51,
     "metadata": {},
     "output_type": "execute_result"
    }
   ],
   "source": [
    "cst_trnx['INVOICEDATE'].cast(pl.Date)[0]\n",
    "cst_trnx['INVOICEDATE'].dt.min()"
   ]
  },
  {
   "cell_type": "code",
   "execution_count": null,
   "metadata": {},
   "outputs": [
    {
     "data": {
      "text/html": [
       "<div><style>\n",
       ".dataframe > thead > tr,\n",
       ".dataframe > tbody > tr {\n",
       "  text-align: right;\n",
       "  white-space: pre-wrap;\n",
       "}\n",
       "</style>\n",
       "<small>shape: (7_468_394,)</small><table border=\"1\" class=\"dataframe\"><thead><tr><th>historical_year</th></tr><tr><td>f64</td></tr></thead><tbody><tr><td>2022.0</td></tr><tr><td>2022.0</td></tr><tr><td>2022.0</td></tr><tr><td>2022.0</td></tr><tr><td>2022.0</td></tr><tr><td>2022.0</td></tr><tr><td>2022.0</td></tr><tr><td>2022.0</td></tr><tr><td>2022.0</td></tr><tr><td>2022.0</td></tr><tr><td>2023.0</td></tr><tr><td>2022.0</td></tr><tr><td>&hellip;</td></tr><tr><td>2023.0</td></tr><tr><td>2023.0</td></tr><tr><td>2023.0</td></tr><tr><td>2023.0</td></tr><tr><td>2023.0</td></tr><tr><td>2023.0</td></tr><tr><td>2023.0</td></tr><tr><td>2023.0</td></tr><tr><td>2023.0</td></tr><tr><td>2023.0</td></tr><tr><td>2023.0</td></tr><tr><td>null</td></tr></tbody></table></div>"
      ],
      "text/plain": [
       "shape: (7_468_394,)\n",
       "Series: 'historical_year' [f64]\n",
       "[\n",
       "\t2022.0\n",
       "\t2022.0\n",
       "\t2022.0\n",
       "\t2022.0\n",
       "\t2022.0\n",
       "\t2022.0\n",
       "\t2022.0\n",
       "\t2022.0\n",
       "\t2022.0\n",
       "\t2022.0\n",
       "\t2023.0\n",
       "\t2022.0\n",
       "\t…\n",
       "\t2023.0\n",
       "\t2023.0\n",
       "\t2023.0\n",
       "\t2023.0\n",
       "\t2023.0\n",
       "\t2023.0\n",
       "\t2023.0\n",
       "\t2023.0\n",
       "\t2023.0\n",
       "\t2023.0\n",
       "\t2023.0\n",
       "\t2023.0\n",
       "\tnull\n",
       "]"
      ]
     },
     "execution_count": 52,
     "metadata": {},
     "output_type": "execute_result"
    }
   ],
   "source": [
    "cst_trnx['historical_year']"
   ]
  },
  {
   "cell_type": "code",
   "execution_count": null,
   "metadata": {},
   "outputs": [
    {
     "data": {
      "text/plain": [
       "['gross_sales',\n",
       " 'LINEAMOUNT',\n",
       " 'COSTPRICE',\n",
       " 'COSTPRICE',\n",
       " 'COSTPRICE',\n",
       " 'LINEAMOUNT',\n",
       " 'COSTPRICE',\n",
       " 'LINEAMOUNT',\n",
       " 'gross_sales',\n",
       " 'COSTPRICE',\n",
       " 'COSTPRICE',\n",
       " 'gross_sales',\n",
       " 'COSTPRICE',\n",
       " 'LINEAMOUNT',\n",
       " 'COSTPRICE',\n",
       " 'LINEAMOUNT',\n",
       " 'COSTPRICE',\n",
       " 'COSTPRICE',\n",
       " 'COSTPRICE',\n",
       " 'COSTPRICE',\n",
       " 'LINEAMOUNT',\n",
       " 'gross_sales',\n",
       " 'COSTPRICE',\n",
       " 'LINEAMOUNT',\n",
       " 'COSTPRICE',\n",
       " 'gross_sales',\n",
       " 'gross_sales',\n",
       " 'gross_sales',\n",
       " 'LINEAMOUNT',\n",
       " 'COSTPRICE',\n",
       " 'LINEAMOUNT',\n",
       " 'COSTPRICE',\n",
       " 'COSTPRICE',\n",
       " 'COSTPRICE',\n",
       " 'COSTPRICE',\n",
       " 'COSTPRICE',\n",
       " 'COSTPRICE',\n",
       " 'COSTPRICE',\n",
       " 'gross_sales',\n",
       " 'LINEAMOUNT',\n",
       " 'COSTPRICE',\n",
       " 'gross_sales',\n",
       " 'LINEAMOUNT',\n",
       " 'LINEAMOUNT',\n",
       " 'gross_sales',\n",
       " 'COSTPRICE',\n",
       " 'gross_sales',\n",
       " 'COSTPRICE',\n",
       " 'gross_sales',\n",
       " 'COSTPRICE',\n",
       " 'LINEAMOUNT',\n",
       " 'COSTPRICE',\n",
       " 'gross_sales',\n",
       " 'LINEAMOUNT',\n",
       " 'COSTPRICE',\n",
       " 'COSTPRICE',\n",
       " 'COSTPRICE',\n",
       " 'COSTPRICE',\n",
       " 'gross_sales',\n",
       " 'gross_sales',\n",
       " 'gross_sales',\n",
       " 'LINEAMOUNT',\n",
       " 'LINEAMOUNT',\n",
       " 'gross_sales',\n",
       " 'COSTPRICE',\n",
       " 'COSTPRICE',\n",
       " 'COSTPRICE',\n",
       " 'gross_sales',\n",
       " 'COSTPRICE',\n",
       " 'gross_sales',\n",
       " 'INVENTLOCATIONID',\n",
       " 'COSTPRICE',\n",
       " 'COSTPRICE',\n",
       " 'gross_sales',\n",
       " 'LINEAMOUNT',\n",
       " 'gross_sales',\n",
       " 'COSTPRICE',\n",
       " 'gross_sales',\n",
       " 'COSTPRICE',\n",
       " 'LINEAMOUNT',\n",
       " 'LINEAMOUNT',\n",
       " 'COSTPRICE',\n",
       " 'COSTPRICE',\n",
       " 'COSTPRICE',\n",
       " 'gross_sales',\n",
       " 'gross_sales',\n",
       " 'COSTPRICE',\n",
       " 'COSTPRICE',\n",
       " 'LINEAMOUNT',\n",
       " 'LINEAMOUNT',\n",
       " 'LINEAMOUNT',\n",
       " 'LINEAMOUNT',\n",
       " 'gross_sales',\n",
       " 'COSTPRICE',\n",
       " 'gross_sales',\n",
       " 'ITEMID',\n",
       " 'COSTPRICE',\n",
       " 'gross_sales',\n",
       " 'COSTPRICE',\n",
       " 'ITEMID',\n",
       " 'COSTPRICE',\n",
       " 'gross_sales',\n",
       " 'COSTPRICE',\n",
       " 'LINEAMOUNT',\n",
       " 'LINEAMOUNT',\n",
       " 'COSTPRICE',\n",
       " 'COSTPRICE',\n",
       " 'COSTPRICE',\n",
       " 'COSTPRICE',\n",
       " 'LINEAMOUNT',\n",
       " 'gross_sales',\n",
       " 'ITEMID',\n",
       " 'COSTPRICE',\n",
       " 'ITEMID',\n",
       " 'COSTPRICE',\n",
       " 'LINEAMOUNT',\n",
       " 'COSTPRICE',\n",
       " 'ITEMID',\n",
       " 'COSTPRICE',\n",
       " 'COSTPRICE',\n",
       " 'COSTPRICE',\n",
       " 'gross_sales',\n",
       " 'COSTPRICE',\n",
       " 'COSTPRICE',\n",
       " 'COSTPRICE',\n",
       " 'gross_sales',\n",
       " 'gross_sales',\n",
       " 'LINEAMOUNT',\n",
       " 'COSTPRICE',\n",
       " 'gross_sales',\n",
       " 'COSTPRICE',\n",
       " 'ITEMID',\n",
       " 'LINEAMOUNT',\n",
       " 'LINEAMOUNT',\n",
       " 'SALESQTY',\n",
       " 'COSTPRICE',\n",
       " 'LINEAMOUNT',\n",
       " 'gross_sales',\n",
       " 'LINEAMOUNT',\n",
       " 'gross_sales',\n",
       " 'ITEMID',\n",
       " 'COSTPRICE',\n",
       " 'LINEAMOUNT',\n",
       " 'gross_sales',\n",
       " 'COSTPRICE',\n",
       " 'LINEAMOUNT',\n",
       " 'COSTPRICE',\n",
       " 'COSTPRICE',\n",
       " 'COSTPRICE',\n",
       " 'COSTPRICE',\n",
       " 'LINEAMOUNT',\n",
       " 'COSTPRICE',\n",
       " 'COSTPRICE',\n",
       " 'COSTPRICE',\n",
       " 'COSTPRICE',\n",
       " 'COSTPRICE',\n",
       " 'LINEAMOUNT',\n",
       " 'COSTPRICE',\n",
       " 'LINEAMOUNT',\n",
       " 'gross_sales',\n",
       " 'COSTPRICE',\n",
       " 'ITEMID',\n",
       " 'LINEAMOUNT',\n",
       " 'gross_sales',\n",
       " 'COSTPRICE',\n",
       " 'gross_sales',\n",
       " 'COSTPRICE',\n",
       " 'gross_sales',\n",
       " 'LINEAMOUNT',\n",
       " 'gross_sales',\n",
       " 'LINEAMOUNT',\n",
       " 'gross_sales',\n",
       " 'LINEAMOUNT',\n",
       " 'ITEMID',\n",
       " 'LINEAMOUNT',\n",
       " 'gross_sales',\n",
       " 'LINEAMOUNT',\n",
       " 'COSTPRICE',\n",
       " 'COSTPRICE',\n",
       " 'gross_sales',\n",
       " 'COSTPRICE',\n",
       " 'LINEAMOUNT',\n",
       " 'gross_sales',\n",
       " 'gross_sales',\n",
       " 'COSTPRICE',\n",
       " 'COSTPRICE',\n",
       " 'COSTPRICE',\n",
       " 'LINEAMOUNT',\n",
       " 'COSTPRICE',\n",
       " 'gross_sales',\n",
       " 'COSTPRICE',\n",
       " 'COSTPRICE',\n",
       " 'COSTPRICE',\n",
       " 'LINEAMOUNT',\n",
       " 'LINEAMOUNT',\n",
       " 'COSTPRICE',\n",
       " 'COSTPRICE',\n",
       " 'COSTPRICE',\n",
       " 'COSTPRICE',\n",
       " 'gross_sales',\n",
       " 'gross_sales',\n",
       " 'COSTPRICE',\n",
       " 'LINEAMOUNT',\n",
       " 'gross_sales',\n",
       " 'gross_sales',\n",
       " 'gross_sales',\n",
       " 'LINEAMOUNT',\n",
       " 'gross_sales',\n",
       " 'COSTPRICE',\n",
       " 'COSTPRICE',\n",
       " 'COSTPRICE',\n",
       " 'COSTPRICE',\n",
       " 'COSTPRICE',\n",
       " 'LINEAMOUNT',\n",
       " 'COSTPRICE',\n",
       " 'COSTPRICE',\n",
       " 'gross_sales',\n",
       " 'LINEAMOUNT',\n",
       " 'COSTPRICE',\n",
       " 'COSTPRICE',\n",
       " 'gross_sales',\n",
       " 'COSTPRICE',\n",
       " 'LINEAMOUNT',\n",
       " 'gross_sales',\n",
       " 'COSTPRICE',\n",
       " 'COSTPRICE',\n",
       " 'COSTPRICE',\n",
       " 'gross_sales',\n",
       " 'COSTPRICE',\n",
       " 'ITEMID',\n",
       " 'gross_sales',\n",
       " 'gross_sales',\n",
       " 'gross_sales',\n",
       " 'LINEAMOUNT',\n",
       " 'COSTPRICE',\n",
       " 'COSTPRICE',\n",
       " 'COSTPRICE',\n",
       " 'COSTPRICE',\n",
       " 'COSTPRICE',\n",
       " 'COSTPRICE',\n",
       " 'COSTPRICE',\n",
       " 'gross_sales',\n",
       " 'COSTPRICE',\n",
       " 'LINEAMOUNT',\n",
       " 'gross_sales',\n",
       " 'LINEAMOUNT',\n",
       " 'gross_sales',\n",
       " 'COSTPRICE',\n",
       " 'gross_sales',\n",
       " 'COSTPRICE',\n",
       " 'LINEAMOUNT',\n",
       " 'COSTPRICE',\n",
       " 'gross_sales',\n",
       " 'gross_sales',\n",
       " 'COSTPRICE',\n",
       " 'LINEAMOUNT',\n",
       " 'gross_sales',\n",
       " 'gross_sales',\n",
       " 'COSTPRICE',\n",
       " 'COSTPRICE',\n",
       " 'COSTPRICE',\n",
       " 'gross_sales',\n",
       " 'gross_sales',\n",
       " 'gross_sales',\n",
       " 'COSTPRICE',\n",
       " 'LINEAMOUNT',\n",
       " 'LINEAMOUNT',\n",
       " 'LINEAMOUNT',\n",
       " 'gross_sales',\n",
       " 'LINEAMOUNT',\n",
       " 'COSTPRICE',\n",
       " 'LINEAMOUNT',\n",
       " 'COSTPRICE',\n",
       " 'COSTPRICE',\n",
       " 'LINEAMOUNT',\n",
       " 'gross_sales',\n",
       " 'COSTPRICE',\n",
       " 'COSTPRICE',\n",
       " 'LINEAMOUNT',\n",
       " 'LINEAMOUNT',\n",
       " 'gross_sales',\n",
       " 'COSTPRICE',\n",
       " 'LINEAMOUNT',\n",
       " 'gross_sales',\n",
       " 'LINEAMOUNT',\n",
       " 'LINEAMOUNT',\n",
       " 'COSTPRICE',\n",
       " 'COSTPRICE',\n",
       " 'SALESQTY',\n",
       " 'LINEAMOUNT',\n",
       " 'COSTPRICE',\n",
       " 'COSTPRICE',\n",
       " 'COSTPRICE',\n",
       " 'COSTPRICE',\n",
       " 'COSTPRICE',\n",
       " 'gross_sales',\n",
       " 'ITEMID',\n",
       " 'COSTPRICE',\n",
       " 'COSTPRICE',\n",
       " 'COSTPRICE',\n",
       " 'LINEAMOUNT',\n",
       " 'COSTPRICE',\n",
       " 'COSTPRICE',\n",
       " 'gross_sales',\n",
       " 'gross_sales',\n",
       " 'gross_sales',\n",
       " 'LINEAMOUNT',\n",
       " 'gross_sales',\n",
       " 'LINEAMOUNT',\n",
       " 'gross_sales',\n",
       " 'gross_sales',\n",
       " 'COSTPRICE',\n",
       " 'COSTPRICE',\n",
       " 'LINEAMOUNT',\n",
       " 'COSTPRICE',\n",
       " 'COSTPRICE',\n",
       " 'COSTPRICE',\n",
       " 'LINEAMOUNT',\n",
       " 'LINEAMOUNT',\n",
       " 'gross_sales',\n",
       " 'COSTPRICE',\n",
       " 'gross_sales',\n",
       " 'COSTPRICE',\n",
       " 'COSTPRICE',\n",
       " 'COSTPRICE',\n",
       " 'LINEAMOUNT',\n",
       " 'COSTPRICE',\n",
       " 'LINEAMOUNT',\n",
       " 'gross_sales',\n",
       " 'COSTPRICE',\n",
       " 'COSTPRICE',\n",
       " 'LINEAMOUNT',\n",
       " 'COSTPRICE',\n",
       " 'COSTPRICE',\n",
       " 'gross_sales',\n",
       " 'LINEAMOUNT',\n",
       " 'COSTPRICE',\n",
       " 'LINEAMOUNT',\n",
       " 'COSTPRICE',\n",
       " 'COSTPRICE',\n",
       " 'COSTPRICE',\n",
       " 'LINEAMOUNT',\n",
       " 'COSTPRICE',\n",
       " 'gross_sales',\n",
       " 'LINEAMOUNT',\n",
       " 'LINEAMOUNT',\n",
       " 'gross_sales',\n",
       " 'LINEAMOUNT',\n",
       " 'COSTPRICE',\n",
       " 'COSTPRICE',\n",
       " 'gross_sales',\n",
       " 'COSTPRICE',\n",
       " 'LINEAMOUNT',\n",
       " 'ITEMID',\n",
       " 'LINEAMOUNT',\n",
       " 'gross_sales',\n",
       " 'COSTPRICE',\n",
       " 'ITEMID',\n",
       " 'gross_sales',\n",
       " 'ITEMID',\n",
       " 'ITEMID',\n",
       " 'COSTPRICE',\n",
       " 'gross_sales',\n",
       " 'LINEAMOUNT',\n",
       " 'LINEAMOUNT',\n",
       " 'LINEAMOUNT',\n",
       " 'COSTPRICE',\n",
       " 'LINEAMOUNT',\n",
       " 'COSTPRICE',\n",
       " 'COSTPRICE',\n",
       " 'COSTPRICE',\n",
       " 'gross_sales',\n",
       " 'gross_sales',\n",
       " 'COSTPRICE',\n",
       " 'gross_sales',\n",
       " 'gross_sales',\n",
       " 'COSTPRICE',\n",
       " 'gross_sales',\n",
       " 'LINEAMOUNT',\n",
       " 'COSTPRICE',\n",
       " 'LINEAMOUNT',\n",
       " 'gross_sales',\n",
       " 'COSTPRICE',\n",
       " 'LINEAMOUNT',\n",
       " 'LINEAMOUNT',\n",
       " 'gross_sales',\n",
       " 'COSTPRICE',\n",
       " 'COSTPRICE',\n",
       " 'gross_sales',\n",
       " 'COSTPRICE',\n",
       " 'COSTPRICE',\n",
       " 'LINEAMOUNT',\n",
       " 'COSTPRICE',\n",
       " 'gross_sales',\n",
       " 'gross_sales',\n",
       " 'gross_sales',\n",
       " 'LINEAMOUNT',\n",
       " 'ITEMID',\n",
       " 'LINEAMOUNT',\n",
       " 'COSTPRICE',\n",
       " 'COSTPRICE',\n",
       " 'COSTPRICE',\n",
       " 'gross_sales',\n",
       " 'COSTPRICE',\n",
       " 'COSTPRICE',\n",
       " 'ITEMID',\n",
       " 'COSTPRICE',\n",
       " 'LINEAMOUNT',\n",
       " 'gross_sales',\n",
       " 'COSTPRICE',\n",
       " 'COSTPRICE',\n",
       " 'gross_sales',\n",
       " 'COSTPRICE',\n",
       " 'LINEAMOUNT',\n",
       " 'COSTPRICE',\n",
       " 'gross_sales',\n",
       " 'COSTPRICE',\n",
       " 'COSTPRICE',\n",
       " 'LINEAMOUNT',\n",
       " 'COSTPRICE',\n",
       " 'ITEMID',\n",
       " 'LINEAMOUNT',\n",
       " 'gross_sales',\n",
       " 'gross_sales',\n",
       " 'ITEMID',\n",
       " 'COSTPRICE',\n",
       " 'gross_sales',\n",
       " 'COSTPRICE',\n",
       " 'gross_sales',\n",
       " 'COSTPRICE',\n",
       " 'LINEAMOUNT',\n",
       " 'COSTPRICE',\n",
       " 'gross_sales',\n",
       " 'COSTPRICE',\n",
       " 'COSTPRICE',\n",
       " 'COSTPRICE',\n",
       " 'LINEAMOUNT',\n",
       " 'gross_sales',\n",
       " 'gross_sales',\n",
       " 'gross_sales',\n",
       " 'COSTPRICE',\n",
       " 'COSTPRICE',\n",
       " 'LINEAMOUNT',\n",
       " 'COSTPRICE',\n",
       " 'COSTPRICE',\n",
       " 'COSTPRICE',\n",
       " 'COSTPRICE',\n",
       " 'gross_sales',\n",
       " 'COSTPRICE',\n",
       " 'COSTPRICE',\n",
       " 'COSTPRICE',\n",
       " 'COSTPRICE',\n",
       " 'SALESQTY',\n",
       " 'gross_sales',\n",
       " 'LINEAMOUNT',\n",
       " 'gross_sales',\n",
       " 'ITEMID',\n",
       " 'COSTPRICE',\n",
       " 'LINEAMOUNT',\n",
       " 'COSTPRICE',\n",
       " 'COSTPRICE',\n",
       " 'COSTPRICE',\n",
       " 'LINEAMOUNT',\n",
       " 'gross_sales',\n",
       " 'ITEMID',\n",
       " 'gross_sales',\n",
       " 'COSTPRICE',\n",
       " 'COSTPRICE',\n",
       " 'LINEAMOUNT',\n",
       " 'COSTPRICE',\n",
       " 'COSTPRICE',\n",
       " 'COSTPRICE',\n",
       " 'LINEAMOUNT',\n",
       " 'COSTPRICE',\n",
       " 'gross_sales',\n",
       " 'gross_sales',\n",
       " 'COSTPRICE',\n",
       " 'LINEAMOUNT',\n",
       " 'COSTPRICE',\n",
       " 'gross_sales',\n",
       " 'gross_sales',\n",
       " 'COSTPRICE',\n",
       " 'gross_sales',\n",
       " 'COSTPRICE',\n",
       " 'gross_sales',\n",
       " 'LINEAMOUNT',\n",
       " 'COSTPRICE',\n",
       " 'COSTPRICE',\n",
       " 'LINEAMOUNT',\n",
       " 'COSTPRICE',\n",
       " 'gross_sales',\n",
       " 'gross_sales',\n",
       " 'gross_sales',\n",
       " 'LINEAMOUNT',\n",
       " 'LINEAMOUNT',\n",
       " 'COSTPRICE',\n",
       " 'gross_sales',\n",
       " 'gross_sales',\n",
       " 'COSTPRICE',\n",
       " 'COSTPRICE',\n",
       " 'gross_sales',\n",
       " 'COSTPRICE',\n",
       " 'LINEAMOUNT',\n",
       " 'LINEAMOUNT',\n",
       " 'gross_sales',\n",
       " 'gross_sales',\n",
       " 'COSTPRICE',\n",
       " 'LINEAMOUNT',\n",
       " 'COSTPRICE',\n",
       " 'COSTPRICE',\n",
       " 'COSTPRICE',\n",
       " 'gross_sales',\n",
       " 'gross_sales',\n",
       " 'LINEAMOUNT',\n",
       " 'LINEAMOUNT',\n",
       " 'ITEMID',\n",
       " 'COSTPRICE',\n",
       " 'COSTPRICE',\n",
       " 'COSTPRICE',\n",
       " 'ITEMID',\n",
       " 'gross_sales',\n",
       " 'LINEAMOUNT',\n",
       " 'COSTPRICE',\n",
       " 'COSTPRICE',\n",
       " 'LINEAMOUNT',\n",
       " 'COSTPRICE',\n",
       " 'gross_sales',\n",
       " 'gross_sales',\n",
       " 'COSTPRICE',\n",
       " 'LINEAMOUNT',\n",
       " 'gross_sales',\n",
       " 'COSTPRICE',\n",
       " 'gross_sales',\n",
       " 'COSTPRICE',\n",
       " 'COSTPRICE',\n",
       " 'COSTPRICE',\n",
       " 'COSTPRICE',\n",
       " 'gross_sales',\n",
       " 'gross_sales',\n",
       " 'gross_sales',\n",
       " 'gross_sales',\n",
       " 'LINEAMOUNT',\n",
       " 'ITEMID',\n",
       " 'COSTPRICE',\n",
       " 'COSTPRICE',\n",
       " 'gross_sales',\n",
       " 'COSTPRICE',\n",
       " 'LINEAMOUNT',\n",
       " 'gross_sales',\n",
       " 'COSTPRICE',\n",
       " 'COSTPRICE',\n",
       " 'COSTPRICE',\n",
       " 'COSTPRICE',\n",
       " 'COSTPRICE',\n",
       " 'gross_sales',\n",
       " 'COSTPRICE',\n",
       " 'gross_sales',\n",
       " 'gross_sales',\n",
       " 'LINEAMOUNT',\n",
       " 'ITEMID',\n",
       " 'COSTPRICE',\n",
       " 'gross_sales',\n",
       " 'COSTPRICE',\n",
       " 'ITEMID',\n",
       " 'COSTPRICE',\n",
       " 'COSTPRICE',\n",
       " 'COSTPRICE',\n",
       " 'ITEMID',\n",
       " 'LINEAMOUNT',\n",
       " 'gross_sales',\n",
       " 'gross_sales',\n",
       " 'gross_sales',\n",
       " 'LINEAMOUNT',\n",
       " 'gross_sales',\n",
       " 'gross_sales',\n",
       " 'COSTPRICE',\n",
       " 'COSTPRICE',\n",
       " 'COSTPRICE',\n",
       " 'COSTPRICE',\n",
       " 'gross_sales',\n",
       " 'COSTPRICE',\n",
       " 'COSTPRICE',\n",
       " 'gross_sales',\n",
       " 'LINEAMOUNT',\n",
       " 'LINEAMOUNT',\n",
       " 'gross_sales',\n",
       " 'gross_sales',\n",
       " 'LINEAMOUNT',\n",
       " 'gross_sales',\n",
       " 'SALESQTY',\n",
       " 'LINEAMOUNT',\n",
       " 'COSTPRICE',\n",
       " 'ITEMID',\n",
       " 'COSTPRICE',\n",
       " 'COSTPRICE',\n",
       " 'COSTPRICE',\n",
       " 'LINEAMOUNT',\n",
       " 'gross_sales',\n",
       " 'LINEAMOUNT',\n",
       " 'LINEAMOUNT',\n",
       " 'COSTPRICE',\n",
       " 'LINEAMOUNT',\n",
       " 'COSTPRICE',\n",
       " 'gross_sales',\n",
       " 'gross_sales',\n",
       " 'COSTPRICE',\n",
       " 'gross_sales',\n",
       " 'gross_sales',\n",
       " 'LINEAMOUNT',\n",
       " 'LINEAMOUNT',\n",
       " 'LINEAMOUNT',\n",
       " 'COSTPRICE',\n",
       " 'gross_sales',\n",
       " 'LINEAMOUNT',\n",
       " 'COSTPRICE',\n",
       " 'LINEAMOUNT',\n",
       " 'COSTPRICE',\n",
       " 'COSTPRICE',\n",
       " 'gross_sales',\n",
       " 'gross_sales',\n",
       " 'COSTPRICE',\n",
       " 'COSTPRICE',\n",
       " 'COSTPRICE',\n",
       " 'COSTPRICE',\n",
       " 'COSTPRICE',\n",
       " 'COSTPRICE',\n",
       " 'COSTPRICE',\n",
       " 'COSTPRICE',\n",
       " 'LINEAMOUNT',\n",
       " 'COSTPRICE',\n",
       " 'gross_sales',\n",
       " 'gross_sales',\n",
       " 'LINEAMOUNT',\n",
       " 'COSTPRICE',\n",
       " 'COSTPRICE',\n",
       " 'gross_sales',\n",
       " 'COSTPRICE',\n",
       " 'LINEAMOUNT',\n",
       " 'SALESQTY',\n",
       " 'LINEAMOUNT',\n",
       " 'LINEAMOUNT',\n",
       " 'gross_sales',\n",
       " 'COSTPRICE',\n",
       " 'COSTPRICE',\n",
       " 'COSTPRICE',\n",
       " 'gross_sales',\n",
       " 'gross_sales',\n",
       " 'LINEAMOUNT',\n",
       " 'gross_sales',\n",
       " 'COSTPRICE',\n",
       " 'SALESQTY',\n",
       " 'gross_sales',\n",
       " 'LINEAMOUNT',\n",
       " 'COSTPRICE',\n",
       " 'COSTPRICE',\n",
       " 'gross_sales',\n",
       " 'COSTPRICE',\n",
       " 'SALESQTY',\n",
       " 'gross_sales',\n",
       " 'LINEAMOUNT',\n",
       " 'COSTPRICE',\n",
       " 'gross_sales',\n",
       " 'COSTPRICE',\n",
       " 'LINEAMOUNT',\n",
       " 'LINEAMOUNT',\n",
       " 'LINEAMOUNT',\n",
       " 'COSTPRICE',\n",
       " 'COSTPRICE',\n",
       " 'COSTPRICE',\n",
       " 'gross_sales',\n",
       " 'COSTPRICE',\n",
       " 'COSTPRICE',\n",
       " 'LINEAMOUNT',\n",
       " 'COSTPRICE',\n",
       " 'COSTPRICE',\n",
       " 'COSTPRICE',\n",
       " 'COSTPRICE',\n",
       " 'COSTPRICE',\n",
       " 'gross_sales',\n",
       " 'COSTPRICE',\n",
       " 'COSTPRICE',\n",
       " 'COSTPRICE',\n",
       " 'COSTPRICE',\n",
       " 'LINEAMOUNT',\n",
       " 'LINEAMOUNT',\n",
       " 'gross_sales',\n",
       " 'COSTPRICE',\n",
       " 'COSTPRICE',\n",
       " 'SALESQTY',\n",
       " 'COSTPRICE',\n",
       " 'COSTPRICE',\n",
       " 'gross_sales',\n",
       " 'COSTPRICE',\n",
       " 'LINEAMOUNT',\n",
       " 'COSTPRICE',\n",
       " 'LINEAMOUNT',\n",
       " 'gross_sales',\n",
       " 'COSTPRICE',\n",
       " 'COSTPRICE',\n",
       " 'gross_sales',\n",
       " 'gross_sales',\n",
       " 'COSTPRICE',\n",
       " 'COSTPRICE',\n",
       " 'ITEMID',\n",
       " 'gross_sales',\n",
       " 'LINEAMOUNT',\n",
       " 'COSTPRICE',\n",
       " 'LINEAMOUNT',\n",
       " 'gross_sales',\n",
       " 'LINEAMOUNT',\n",
       " 'LINEAMOUNT',\n",
       " 'COSTPRICE',\n",
       " 'COSTPRICE',\n",
       " 'COSTPRICE',\n",
       " 'COSTPRICE',\n",
       " 'gross_sales',\n",
       " 'COSTPRICE',\n",
       " 'COSTPRICE',\n",
       " 'COSTPRICE',\n",
       " 'LINEAMOUNT',\n",
       " 'LINEAMOUNT',\n",
       " 'COSTPRICE',\n",
       " 'ITEMID',\n",
       " 'gross_sales',\n",
       " 'COSTPRICE',\n",
       " 'LINEAMOUNT',\n",
       " 'LINEAMOUNT',\n",
       " 'COSTPRICE',\n",
       " 'gross_sales',\n",
       " 'LINEAMOUNT',\n",
       " 'COSTPRICE',\n",
       " 'LINEAMOUNT',\n",
       " 'LINEAMOUNT',\n",
       " 'ITEMID',\n",
       " 'LINEAMOUNT',\n",
       " 'COSTPRICE',\n",
       " 'COSTPRICE',\n",
       " 'LINEAMOUNT',\n",
       " 'COSTPRICE',\n",
       " 'gross_sales',\n",
       " 'gross_sales',\n",
       " 'LINEAMOUNT',\n",
       " 'LINEAMOUNT',\n",
       " 'LINEAMOUNT',\n",
       " 'COSTPRICE',\n",
       " 'COSTPRICE',\n",
       " 'gross_sales',\n",
       " 'COSTPRICE',\n",
       " 'LINEAMOUNT',\n",
       " 'gross_sales',\n",
       " 'COSTPRICE',\n",
       " 'ITEMID',\n",
       " 'LINEAMOUNT',\n",
       " 'gross_sales',\n",
       " 'COSTPRICE',\n",
       " 'LINEAMOUNT',\n",
       " 'COSTPRICE',\n",
       " 'LINEAMOUNT',\n",
       " 'LINEAMOUNT',\n",
       " 'COSTPRICE',\n",
       " 'COSTPRICE',\n",
       " 'COSTPRICE',\n",
       " 'gross_sales',\n",
       " 'COSTPRICE',\n",
       " 'gross_sales',\n",
       " 'COSTPRICE',\n",
       " 'gross_sales',\n",
       " 'COSTPRICE',\n",
       " 'COSTPRICE',\n",
       " 'COSTPRICE',\n",
       " 'ITEMID',\n",
       " 'gross_sales',\n",
       " 'COSTPRICE',\n",
       " 'LINEAMOUNT',\n",
       " 'LINEAMOUNT',\n",
       " 'COSTPRICE',\n",
       " 'COSTPRICE',\n",
       " 'gross_sales',\n",
       " 'COSTPRICE',\n",
       " 'LINEAMOUNT',\n",
       " 'COSTPRICE',\n",
       " 'COSTPRICE',\n",
       " 'COSTPRICE',\n",
       " 'COSTPRICE',\n",
       " 'LINEAMOUNT',\n",
       " 'COSTPRICE',\n",
       " 'COSTPRICE',\n",
       " 'COSTPRICE',\n",
       " 'LINEAMOUNT',\n",
       " 'COSTPRICE',\n",
       " 'gross_sales',\n",
       " 'COSTPRICE',\n",
       " 'COSTPRICE',\n",
       " 'LINEAMOUNT',\n",
       " 'COSTPRICE',\n",
       " 'COSTPRICE',\n",
       " 'gross_sales',\n",
       " 'COSTPRICE',\n",
       " 'gross_sales',\n",
       " 'LINEAMOUNT',\n",
       " 'LINEAMOUNT',\n",
       " 'gross_sales',\n",
       " 'LINEAMOUNT',\n",
       " 'LINEAMOUNT',\n",
       " 'COSTPRICE',\n",
       " 'gross_sales',\n",
       " 'COSTPRICE',\n",
       " 'COSTPRICE',\n",
       " 'COSTPRICE',\n",
       " 'COSTPRICE',\n",
       " 'COSTPRICE',\n",
       " 'INVOICEDATE',\n",
       " 'COSTPRICE',\n",
       " 'LINEAMOUNT',\n",
       " 'ITEMID',\n",
       " 'COSTPRICE',\n",
       " 'gross_sales',\n",
       " 'LINEAMOUNT',\n",
       " 'COSTPRICE',\n",
       " 'LINEAMOUNT',\n",
       " 'gross_sales',\n",
       " 'LINEAMOUNT',\n",
       " 'LINEAMOUNT',\n",
       " 'ITEMID',\n",
       " 'SALESQTY',\n",
       " 'COSTPRICE',\n",
       " 'gross_sales',\n",
       " 'COSTPRICE',\n",
       " 'LINEAMOUNT',\n",
       " 'COSTPRICE',\n",
       " 'COSTPRICE',\n",
       " 'LINEAMOUNT',\n",
       " 'gross_sales',\n",
       " 'gross_sales',\n",
       " 'LINEAMOUNT',\n",
       " 'LINEAMOUNT',\n",
       " 'gross_sales',\n",
       " 'gross_sales',\n",
       " 'gross_sales',\n",
       " 'LINEAMOUNT',\n",
       " 'COSTPRICE',\n",
       " 'gross_sales',\n",
       " 'gross_sales',\n",
       " 'LINEAMOUNT',\n",
       " 'COSTPRICE',\n",
       " 'LINEAMOUNT',\n",
       " 'COSTPRICE',\n",
       " 'ITEMID',\n",
       " 'gross_sales',\n",
       " 'COSTPRICE',\n",
       " 'COSTPRICE',\n",
       " 'LINEAMOUNT',\n",
       " 'COSTPRICE',\n",
       " 'gross_sales',\n",
       " 'COSTPRICE',\n",
       " 'gross_sales',\n",
       " 'gross_sales',\n",
       " 'gross_sales',\n",
       " 'LINEAMOUNT',\n",
       " 'LINEAMOUNT',\n",
       " 'LINEAMOUNT',\n",
       " 'COSTPRICE',\n",
       " 'gross_sales',\n",
       " 'gross_sales',\n",
       " 'LINEAMOUNT',\n",
       " 'COSTPRICE',\n",
       " 'LINEAMOUNT',\n",
       " 'gross_sales',\n",
       " 'COSTPRICE',\n",
       " 'gross_sales',\n",
       " 'LINEAMOUNT',\n",
       " 'COSTPRICE',\n",
       " 'gross_sales',\n",
       " 'COSTPRICE',\n",
       " 'COSTPRICE',\n",
       " 'LINEAMOUNT',\n",
       " 'COSTPRICE',\n",
       " 'COSTPRICE',\n",
       " 'COSTPRICE',\n",
       " 'COSTPRICE',\n",
       " 'COSTPRICE',\n",
       " 'LINEAMOUNT',\n",
       " 'COSTPRICE',\n",
       " 'COSTPRICE',\n",
       " 'ITEMID',\n",
       " 'gross_sales',\n",
       " 'gross_sales',\n",
       " 'LINEAMOUNT',\n",
       " 'gross_sales',\n",
       " 'COSTPRICE',\n",
       " 'COSTPRICE',\n",
       " 'gross_sales',\n",
       " 'gross_sales',\n",
       " 'LINEAMOUNT',\n",
       " 'COSTPRICE',\n",
       " 'COSTPRICE',\n",
       " 'ITEMID',\n",
       " 'LINEAMOUNT',\n",
       " 'LINEAMOUNT',\n",
       " 'LINEAMOUNT',\n",
       " 'COSTPRICE',\n",
       " 'LINEAMOUNT',\n",
       " 'gross_sales',\n",
       " 'LINEAMOUNT',\n",
       " 'COSTPRICE',\n",
       " 'COSTPRICE',\n",
       " 'gross_sales',\n",
       " 'LINEAMOUNT',\n",
       " 'LINEAMOUNT',\n",
       " 'LINEAMOUNT',\n",
       " 'COSTPRICE',\n",
       " 'COSTPRICE',\n",
       " 'LINEAMOUNT',\n",
       " 'gross_sales',\n",
       " 'gross_sales',\n",
       " 'ITEMID',\n",
       " 'COSTPRICE',\n",
       " 'gross_sales',\n",
       " 'COSTPRICE',\n",
       " 'gross_sales',\n",
       " 'COSTPRICE',\n",
       " 'COSTPRICE',\n",
       " 'LINEAMOUNT',\n",
       " 'LINEAMOUNT',\n",
       " 'COSTPRICE',\n",
       " 'LINEAMOUNT',\n",
       " 'COSTPRICE',\n",
       " 'LINEAMOUNT',\n",
       " 'COSTPRICE',\n",
       " 'ITEMID',\n",
       " 'COSTPRICE',\n",
       " 'COSTPRICE',\n",
       " 'ITEMID',\n",
       " 'LINEAMOUNT',\n",
       " 'COSTPRICE',\n",
       " 'LINEAMOUNT',\n",
       " 'LINEAMOUNT',\n",
       " 'LINEAMOUNT',\n",
       " 'LINEAMOUNT',\n",
       " 'gross_sales',\n",
       " 'gross_sales',\n",
       " 'LINEAMOUNT',\n",
       " 'LINEAMOUNT',\n",
       " 'COSTPRICE',\n",
       " 'LINEAMOUNT',\n",
       " 'LINEAMOUNT',\n",
       " 'COSTPRICE',\n",
       " 'LINEAMOUNT',\n",
       " 'LINEAMOUNT',\n",
       " 'COSTPRICE',\n",
       " 'COSTPRICE',\n",
       " 'COSTPRICE',\n",
       " 'gross_sales',\n",
       " 'COSTPRICE',\n",
       " 'gross_sales',\n",
       " 'LINEAMOUNT',\n",
       " 'gross_sales',\n",
       " 'LINEAMOUNT',\n",
       " 'gross_sales',\n",
       " 'gross_sales',\n",
       " 'LINEAMOUNT',\n",
       " 'LINEAMOUNT',\n",
       " 'COSTPRICE',\n",
       " 'gross_sales',\n",
       " 'LINEAMOUNT',\n",
       " 'gross_sales',\n",
       " 'COSTPRICE',\n",
       " 'COSTPRICE',\n",
       " 'COSTPRICE',\n",
       " 'COSTPRICE',\n",
       " 'COSTPRICE',\n",
       " 'COSTPRICE',\n",
       " 'gross_sales',\n",
       " 'LINEAMOUNT',\n",
       " 'LINEAMOUNT',\n",
       " 'LINEAMOUNT',\n",
       " 'COSTPRICE',\n",
       " 'COSTPRICE',\n",
       " 'gross_sales',\n",
       " 'ITEMID',\n",
       " 'COSTPRICE',\n",
       " 'COSTPRICE',\n",
       " 'ITEMID',\n",
       " 'LINEAMOUNT',\n",
       " 'gross_sales',\n",
       " 'LINEAMOUNT',\n",
       " 'COSTPRICE',\n",
       " 'LINEAMOUNT',\n",
       " 'COSTPRICE',\n",
       " 'COSTPRICE',\n",
       " 'gross_sales',\n",
       " 'LINEAMOUNT',\n",
       " 'LINEAMOUNT',\n",
       " 'COSTPRICE',\n",
       " 'LINEAMOUNT',\n",
       " 'COSTPRICE',\n",
       " 'COSTPRICE',\n",
       " 'gross_sales',\n",
       " 'LINEAMOUNT',\n",
       " 'COSTPRICE',\n",
       " ...]"
      ]
     },
     "execution_count": 53,
     "metadata": {},
     "output_type": "execute_result"
    }
   ],
   "source": [
    "cst_trnx.melt(variable_name=\"column\").group_by(pl.all()).len()['column'].to_list()"
   ]
  },
  {
   "cell_type": "code",
   "execution_count": 49,
   "metadata": {},
   "outputs": [],
   "source": [
    "q=QueryBuilder()\n",
    "kpi_trnx = pl.DataFrame(rf.get_library(\"RA_DATA\").read('kpi_trnx', query_builder=q).data)"
   ]
  },
  {
   "cell_type": "code",
   "execution_count": 50,
   "metadata": {},
   "outputs": [
    {
     "data": {
      "text/plain": [
       "VersionedItem(symbol='ra_kpi_joined', library='RA_DATA', data=n/a, version=3, metadata=None, host='LMDB(path=/home/ubuntu/OTB/databases/bmaps_data)')"
      ]
     },
     "execution_count": 50,
     "metadata": {},
     "output_type": "execute_result"
    }
   ],
   "source": [
    "rf.get_library(\"RA_DATA\").write(\n",
    "            'ra_kpi_joined',\n",
    "            ra_stock_joined.join(kpi_trnx,\n",
    "            on=['ITEMID'],\n",
    "            how='left' \n",
    "            ).to_pandas(), prune_previous_versions=True\n",
    "        )"
   ]
  },
  {
   "cell_type": "code",
   "execution_count": 51,
   "metadata": {},
   "outputs": [],
   "source": [
    "q=QueryBuilder()\n",
    "ra_kpi_joined  = pl.DataFrame(rf.get_library(\"RA_DATA\").read('ra_kpi_joined', query_builder=q).data)"
   ]
  },
  {
   "cell_type": "code",
   "execution_count": 52,
   "metadata": {},
   "outputs": [
    {
     "data": {
      "text/plain": [
       "(19594944, 60)"
      ]
     },
     "execution_count": 52,
     "metadata": {},
     "output_type": "execute_result"
    }
   ],
   "source": [
    "ra_kpi_joined.shape"
   ]
  },
  {
   "cell_type": "code",
   "execution_count": 53,
   "metadata": {},
   "outputs": [
    {
     "ename": "ColumnNotFoundError",
     "evalue": "stock_date",
     "output_type": "error",
     "traceback": [
      "\u001b[0;31m---------------------------------------------------------------------------\u001b[0m",
      "\u001b[0;31mColumnNotFoundError\u001b[0m                       Traceback (most recent call last)",
      "\u001b[0;32m/tmp/ipykernel_446903/389036414.py\u001b[0m in \u001b[0;36m?\u001b[0;34m()\u001b[0m\n\u001b[0;32m----> 1\u001b[0;31m \u001b[0mra_kpi_joined\u001b[0m\u001b[0;34m[\u001b[0m\u001b[0;34m'stock_date'\u001b[0m\u001b[0;34m]\u001b[0m\u001b[0;34m.\u001b[0m\u001b[0mvalue_counts\u001b[0m\u001b[0;34m(\u001b[0m\u001b[0;34m)\u001b[0m\u001b[0;34m\u001b[0m\u001b[0;34m\u001b[0m\u001b[0m\n\u001b[0m",
      "\u001b[0;32m~/.local/lib/python3.10/site-packages/polars/dataframe/frame.py\u001b[0m in \u001b[0;36m?\u001b[0;34m(self, item)\u001b[0m\n\u001b[1;32m   1676\u001b[0m \u001b[0;34m\u001b[0m\u001b[0m\n\u001b[1;32m   1677\u001b[0m         \u001b[0;31m# select single column\u001b[0m\u001b[0;34m\u001b[0m\u001b[0;34m\u001b[0m\u001b[0m\n\u001b[1;32m   1678\u001b[0m         \u001b[0;31m# df[\"foo\"]\u001b[0m\u001b[0;34m\u001b[0m\u001b[0;34m\u001b[0m\u001b[0m\n\u001b[1;32m   1679\u001b[0m         \u001b[0;32mif\u001b[0m \u001b[0misinstance\u001b[0m\u001b[0;34m(\u001b[0m\u001b[0mitem\u001b[0m\u001b[0;34m,\u001b[0m \u001b[0mstr\u001b[0m\u001b[0;34m)\u001b[0m\u001b[0;34m:\u001b[0m\u001b[0;34m\u001b[0m\u001b[0;34m\u001b[0m\u001b[0m\n\u001b[0;32m-> 1680\u001b[0;31m             \u001b[0;32mreturn\u001b[0m \u001b[0mself\u001b[0m\u001b[0;34m.\u001b[0m\u001b[0mget_column\u001b[0m\u001b[0;34m(\u001b[0m\u001b[0mitem\u001b[0m\u001b[0;34m)\u001b[0m\u001b[0;34m\u001b[0m\u001b[0;34m\u001b[0m\u001b[0m\n\u001b[0m\u001b[1;32m   1681\u001b[0m \u001b[0;34m\u001b[0m\u001b[0m\n\u001b[1;32m   1682\u001b[0m         \u001b[0;31m# df[idx]\u001b[0m\u001b[0;34m\u001b[0m\u001b[0;34m\u001b[0m\u001b[0m\n\u001b[1;32m   1683\u001b[0m         \u001b[0;32mif\u001b[0m \u001b[0misinstance\u001b[0m\u001b[0;34m(\u001b[0m\u001b[0mitem\u001b[0m\u001b[0;34m,\u001b[0m \u001b[0mint\u001b[0m\u001b[0;34m)\u001b[0m\u001b[0;34m:\u001b[0m\u001b[0;34m\u001b[0m\u001b[0;34m\u001b[0m\u001b[0m\n",
      "\u001b[0;32m~/.local/lib/python3.10/site-packages/polars/dataframe/frame.py\u001b[0m in \u001b[0;36m?\u001b[0;34m(self, name)\u001b[0m\n\u001b[1;32m   7047\u001b[0m                 \u001b[0;36m2\u001b[0m\u001b[0;34m\u001b[0m\u001b[0;34m\u001b[0m\u001b[0m\n\u001b[1;32m   7048\u001b[0m                 \u001b[0;36m3\u001b[0m\u001b[0;34m\u001b[0m\u001b[0;34m\u001b[0m\u001b[0m\n\u001b[1;32m   7049\u001b[0m         ]\n\u001b[1;32m   7050\u001b[0m         \"\"\"\n\u001b[0;32m-> 7051\u001b[0;31m         \u001b[0;32mreturn\u001b[0m \u001b[0mwrap_s\u001b[0m\u001b[0;34m(\u001b[0m\u001b[0mself\u001b[0m\u001b[0;34m.\u001b[0m\u001b[0m_df\u001b[0m\u001b[0;34m.\u001b[0m\u001b[0mget_column\u001b[0m\u001b[0;34m(\u001b[0m\u001b[0mname\u001b[0m\u001b[0;34m)\u001b[0m\u001b[0;34m)\u001b[0m\u001b[0;34m\u001b[0m\u001b[0;34m\u001b[0m\u001b[0m\n\u001b[0m",
      "\u001b[0;31mColumnNotFoundError\u001b[0m: stock_date"
     ]
    }
   ],
   "source": [
    "ra_kpi_joined['stock_date'].value_counts()"
   ]
  },
  {
   "cell_type": "code",
   "execution_count": 54,
   "metadata": {},
   "outputs": [
    {
     "ename": "ColumnNotFoundError",
     "evalue": "stock_date",
     "output_type": "error",
     "traceback": [
      "\u001b[0;31m---------------------------------------------------------------------------\u001b[0m",
      "\u001b[0;31mColumnNotFoundError\u001b[0m                       Traceback (most recent call last)",
      "\u001b[0;32m/tmp/ipykernel_446903/2961018539.py\u001b[0m in \u001b[0;36m?\u001b[0;34m()\u001b[0m\n\u001b[0;32m----> 1\u001b[0;31m \u001b[0mfill_date\u001b[0m \u001b[0;34m=\u001b[0m \u001b[0mra_kpi_joined\u001b[0m\u001b[0;34m[\u001b[0m\u001b[0;34m'stock_date'\u001b[0m\u001b[0;34m]\u001b[0m\u001b[0;34m.\u001b[0m\u001b[0mdt\u001b[0m\u001b[0;34m.\u001b[0m\u001b[0mmax\u001b[0m\u001b[0;34m(\u001b[0m\u001b[0;34m)\u001b[0m\u001b[0;34m\u001b[0m\u001b[0;34m\u001b[0m\u001b[0m\n\u001b[0m\u001b[1;32m      2\u001b[0m \u001b[0mra_kpi_joined\u001b[0m \u001b[0;34m=\u001b[0m \u001b[0mra_kpi_joined\u001b[0m\u001b[0;34m.\u001b[0m\u001b[0mwith_columns\u001b[0m\u001b[0;34m(\u001b[0m\u001b[0mstock_date\u001b[0m \u001b[0;34m=\u001b[0m \u001b[0mpl\u001b[0m\u001b[0;34m.\u001b[0m\u001b[0mcol\u001b[0m\u001b[0;34m(\u001b[0m\u001b[0;34m'stock_date'\u001b[0m\u001b[0;34m)\u001b[0m\u001b[0;34m.\u001b[0m\u001b[0mfill_null\u001b[0m\u001b[0;34m(\u001b[0m\u001b[0mfill_date\u001b[0m\u001b[0;34m)\u001b[0m\u001b[0;34m)\u001b[0m\u001b[0;34m\u001b[0m\u001b[0;34m\u001b[0m\u001b[0m\n\u001b[1;32m      3\u001b[0m \u001b[0mlib\u001b[0m\u001b[0;34m.\u001b[0m\u001b[0mwrite\u001b[0m\u001b[0;34m(\u001b[0m\u001b[0;34m'ra_kpi_joined'\u001b[0m\u001b[0;34m,\u001b[0m \u001b[0mra_kpi_joined\u001b[0m\u001b[0;34m.\u001b[0m\u001b[0mto_pandas\u001b[0m\u001b[0;34m(\u001b[0m\u001b[0;34m)\u001b[0m\u001b[0;34m,\u001b[0m \u001b[0mprune_previous_versions\u001b[0m\u001b[0;34m=\u001b[0m\u001b[0;32mTrue\u001b[0m\u001b[0;34m)\u001b[0m\u001b[0;34m\u001b[0m\u001b[0;34m\u001b[0m\u001b[0m\n",
      "\u001b[0;32m~/.local/lib/python3.10/site-packages/polars/dataframe/frame.py\u001b[0m in \u001b[0;36m?\u001b[0;34m(self, item)\u001b[0m\n\u001b[1;32m   1676\u001b[0m \u001b[0;34m\u001b[0m\u001b[0m\n\u001b[1;32m   1677\u001b[0m         \u001b[0;31m# select single column\u001b[0m\u001b[0;34m\u001b[0m\u001b[0;34m\u001b[0m\u001b[0m\n\u001b[1;32m   1678\u001b[0m         \u001b[0;31m# df[\"foo\"]\u001b[0m\u001b[0;34m\u001b[0m\u001b[0;34m\u001b[0m\u001b[0m\n\u001b[1;32m   1679\u001b[0m         \u001b[0;32mif\u001b[0m \u001b[0misinstance\u001b[0m\u001b[0;34m(\u001b[0m\u001b[0mitem\u001b[0m\u001b[0;34m,\u001b[0m \u001b[0mstr\u001b[0m\u001b[0;34m)\u001b[0m\u001b[0;34m:\u001b[0m\u001b[0;34m\u001b[0m\u001b[0;34m\u001b[0m\u001b[0m\n\u001b[0;32m-> 1680\u001b[0;31m             \u001b[0;32mreturn\u001b[0m \u001b[0mself\u001b[0m\u001b[0;34m.\u001b[0m\u001b[0mget_column\u001b[0m\u001b[0;34m(\u001b[0m\u001b[0mitem\u001b[0m\u001b[0;34m)\u001b[0m\u001b[0;34m\u001b[0m\u001b[0;34m\u001b[0m\u001b[0m\n\u001b[0m\u001b[1;32m   1681\u001b[0m \u001b[0;34m\u001b[0m\u001b[0m\n\u001b[1;32m   1682\u001b[0m         \u001b[0;31m# df[idx]\u001b[0m\u001b[0;34m\u001b[0m\u001b[0;34m\u001b[0m\u001b[0m\n\u001b[1;32m   1683\u001b[0m         \u001b[0;32mif\u001b[0m \u001b[0misinstance\u001b[0m\u001b[0;34m(\u001b[0m\u001b[0mitem\u001b[0m\u001b[0;34m,\u001b[0m \u001b[0mint\u001b[0m\u001b[0;34m)\u001b[0m\u001b[0;34m:\u001b[0m\u001b[0;34m\u001b[0m\u001b[0;34m\u001b[0m\u001b[0m\n",
      "\u001b[0;32m~/.local/lib/python3.10/site-packages/polars/dataframe/frame.py\u001b[0m in \u001b[0;36m?\u001b[0;34m(self, name)\u001b[0m\n\u001b[1;32m   7047\u001b[0m                 \u001b[0;36m2\u001b[0m\u001b[0;34m\u001b[0m\u001b[0;34m\u001b[0m\u001b[0m\n\u001b[1;32m   7048\u001b[0m                 \u001b[0;36m3\u001b[0m\u001b[0;34m\u001b[0m\u001b[0;34m\u001b[0m\u001b[0m\n\u001b[1;32m   7049\u001b[0m         ]\n\u001b[1;32m   7050\u001b[0m         \"\"\"\n\u001b[0;32m-> 7051\u001b[0;31m         \u001b[0;32mreturn\u001b[0m \u001b[0mwrap_s\u001b[0m\u001b[0;34m(\u001b[0m\u001b[0mself\u001b[0m\u001b[0;34m.\u001b[0m\u001b[0m_df\u001b[0m\u001b[0;34m.\u001b[0m\u001b[0mget_column\u001b[0m\u001b[0;34m(\u001b[0m\u001b[0mname\u001b[0m\u001b[0;34m)\u001b[0m\u001b[0;34m)\u001b[0m\u001b[0;34m\u001b[0m\u001b[0;34m\u001b[0m\u001b[0m\n\u001b[0m",
      "\u001b[0;31mColumnNotFoundError\u001b[0m: stock_date"
     ]
    }
   ],
   "source": [
    "fill_date = ra_kpi_joined['stock_date'].dt.max()\n",
    "ra_kpi_joined = ra_kpi_joined.with_columns(stock_date = pl.col('stock_date').fill_null(fill_date))\n",
    "lib.write('ra_kpi_joined', ra_kpi_joined.to_pandas(), prune_previous_versions=True)"
   ]
  },
  {
   "cell_type": "code",
   "execution_count": 59,
   "metadata": {},
   "outputs": [
    {
     "name": "stdout",
     "output_type": "stream",
     "text": [
      "('Store', String)\n",
      "('area', String)\n",
      "('Region', String)\n",
      "('adjusted_budget_gross_margin_percent', Float64)\n",
      "('budget_amount', Float64)\n",
      "('budget_cost', Float64)\n",
      "('budget_qty', Float64)\n",
      "('ITEMID', String)\n",
      "('Channel', String)\n",
      "('INVENTLOCATIONID', String)\n",
      "('Budget_date', Datetime(time_unit='ns', time_zone=None))\n",
      "('Description', String)\n",
      "('Department', String)\n",
      "('Category', String)\n",
      "('Family', String)\n",
      "('SubFamily', String)\n",
      "('SubCategory', String)\n",
      "('ExtendedSubCategory', String)\n",
      "('SubCategorySupplier', String)\n",
      "('AssemblyCodeNickName', String)\n",
      "('ENDOFLife', String)\n",
      "('DOM_COMM', String)\n",
      "('Status', String)\n",
      "('Supplier', String)\n",
      "('stock_on_hand_qty', Float64)\n",
      "('opening_stock', Float64)\n",
      "('closing_stock', Float64)\n",
      "('current_stock_cost_at_retail', Float64)\n",
      "('stock_received_qty', Float64)\n",
      "('opening_stock_at_cost', Float64)\n",
      "('adjustment_at_cost', Float64)\n",
      "('adjustment_at_retail', Float64)\n",
      "('stock_date', Datetime(time_unit='us', time_zone=None))\n",
      "('article_score_sale', Float64)\n",
      "('article_score_abc', Float64)\n",
      "('article_score_ae', Float64)\n",
      "('article_score_speed', Float64)\n",
      "('article_score_terminal', Float64)\n",
      "('article_score_margin', Float64)\n",
      "('article_score_sell', Float64)\n",
      "('article_score_markdown', Float64)\n",
      "('article_score_core', Float64)\n",
      "('article_score_quartile', Float64)\n",
      "('article_score_sortimeter', Float64)\n",
      "('btech_vs_sortimeter', Float64)\n",
      "('store_sku_count', Float64)\n",
      "('price', Float64)\n",
      "('Store', String) ('area', String) ('Region', String) ('adjusted_budget_gross_margin_percent', Float64) ('budget_amount', Float64) ('budget_cost', Float64) ('budget_qty', Float64) ('ITEMID', String) ('Channel', String) ('INVENTLOCATIONID', String) ('Budget_date', Datetime(time_unit='ns', time_zone=None)) ('Description', String) ('Department', String) ('Category', String) ('Family', String) ('SubFamily', String) ('SubCategory', String) ('ExtendedSubCategory', String) ('SubCategorySupplier', String) ('AssemblyCodeNickName', String) ('ENDOFLife', String) ('DOM_COMM', String) ('Status', String) ('Supplier', String) ('stock_on_hand_qty', Float64) ('opening_stock', Float64) ('closing_stock', Float64) ('current_stock_cost_at_retail', Float64) ('stock_received_qty', Float64) ('opening_stock_at_cost', Float64) ('adjustment_at_cost', Float64) ('adjustment_at_retail', Float64) ('stock_date', Datetime(time_unit='us', time_zone=None)) ('article_score_sale', Float64) ('article_score_abc', Float64) ('article_score_ae', Float64) ('article_score_speed', Float64) ('article_score_terminal', Float64) ('article_score_margin', Float64) ('article_score_sell', Float64) ('article_score_markdown', Float64) ('article_score_core', Float64) ('article_score_quartile', Float64) ('article_score_sortimeter', Float64) ('btech_vs_sortimeter', Float64) ('store_sku_count', Float64) ('price', Float64) the symbol version\n"
     ]
    }
   ],
   "source": [
    "print(*map(lambda item:(print(item), item)[1], dict(zip(ra_kpi_joined.columns, ra_kpi_joined.dtypes)).items()), 'the symbol version')"
   ]
  },
  {
   "cell_type": "code",
   "execution_count": 60,
   "metadata": {},
   "outputs": [],
   "source": [
    "def filter_symbol(rf: RapiDF, library_name: str, symbol_name: str, columns: List[str]=None, filter_set: Dict[str, str | int | list]= {}, return_as_pl: bool=True):\n",
    "    # Initialize the QueryBuilder\n",
    "    q = QueryBuilder()\n",
    "\n",
    "    # Apply filters dynamically\n",
    "    for column, conditions in filter_set.items():\n",
    "        for operator, value in conditions.items():\n",
    "            if operator == \"_gt_\": # Greater Than\n",
    "                q = q[(q[column] > value)]\n",
    "            elif operator == \"_gte_\": # Greater than or Equal To\n",
    "                q = q[(q[column] >= pd.to_datetime(value))]\n",
    "            elif operator == \"_lt_\": # Less Than\n",
    "                q = q[(q[column] < value)]\n",
    "            elif operator == \"_lte_\": # Less Than or Equal To\n",
    "                q = q[(q[column] <= pd.to_datetime(value))]\n",
    "            elif operator == \"_eq_\": # Equal To\n",
    "                q = q[(q[column] == value)]\n",
    "            elif operator == \"_isin_\": # Is in the list\n",
    "                q = q[(q[column].isin(value))]\n",
    "\n",
    "    filtered_df = rf.get_library(library_name).read(symbol_name, columns=columns, query_builder=q).data\n",
    "    return pl.DataFrame(filtered_df) if return_as_pl else filtered_df\n"
   ]
  },
  {
   "cell_type": "code",
   "execution_count": 61,
   "metadata": {},
   "outputs": [],
   "source": [
    "history_start_date_str  = \"2021-01-01\"\n",
    "history_end_date_str    = \"2023-12-16\"\n",
    "\n",
    "forecast_start_date_str = \"2024-01-01\"\n",
    "forecast_end_date_str   = \"2024-12-31\"\n"
   ]
  },
  {
   "cell_type": "code",
   "execution_count": 73,
   "metadata": {},
   "outputs": [
    {
     "data": {
      "text/plain": [
       "['Store',\n",
       " 'area',\n",
       " 'Region',\n",
       " 'adjusted_budget_gross_margin_percent',\n",
       " 'budget_amount',\n",
       " 'budget_cost',\n",
       " 'budget_qty',\n",
       " 'ITEMID',\n",
       " 'Channel',\n",
       " 'INVENTLOCATIONID',\n",
       " 'Budget_date',\n",
       " 'Description',\n",
       " 'Department',\n",
       " 'Category',\n",
       " 'Family',\n",
       " 'SubFamily',\n",
       " 'SubCategory',\n",
       " 'ExtendedSubCategory',\n",
       " 'SubCategorySupplier',\n",
       " 'AssemblyCodeNickName',\n",
       " 'ENDOFLife',\n",
       " 'DOM_COMM',\n",
       " 'Status',\n",
       " 'Supplier',\n",
       " 'stock_on_hand_qty',\n",
       " 'opening_stock',\n",
       " 'closing_stock',\n",
       " 'current_stock_cost_at_retail',\n",
       " 'stock_received_qty',\n",
       " 'opening_stock_at_cost',\n",
       " 'adjustment_at_cost',\n",
       " 'adjustment_at_retail',\n",
       " 'stock_date',\n",
       " 'article_score_sale',\n",
       " 'article_score_abc',\n",
       " 'article_score_ae',\n",
       " 'article_score_speed',\n",
       " 'article_score_terminal',\n",
       " 'article_score_margin',\n",
       " 'article_score_sell',\n",
       " 'article_score_markdown',\n",
       " 'article_score_core',\n",
       " 'article_score_quartile',\n",
       " 'article_score_sortimeter',\n",
       " 'btech_vs_sortimeter',\n",
       " 'store_sku_count',\n",
       " 'price']"
      ]
     },
     "execution_count": 73,
     "metadata": {},
     "output_type": "execute_result"
    }
   ],
   "source": [
    "list(ra_kpi_joined.columns)"
   ]
  },
  {
   "cell_type": "code",
   "execution_count": 63,
   "metadata": {},
   "outputs": [
    {
     "data": {
      "text/html": [
       "<div><style>\n",
       ".dataframe > thead > tr,\n",
       ".dataframe > tbody > tr {\n",
       "  text-align: right;\n",
       "  white-space: pre-wrap;\n",
       "}\n",
       "</style>\n",
       "<small>shape: (2, 2)</small><table border=\"1\" class=\"dataframe\"><thead><tr><th>Budget_date</th><th>count</th></tr><tr><td>datetime[ns]</td><td>u32</td></tr></thead><tbody><tr><td>2024-03-27 00:00:00</td><td>4896424</td></tr><tr><td>2024-03-28 00:00:00</td><td>4896424</td></tr></tbody></table></div>"
      ],
      "text/plain": [
       "shape: (2, 2)\n",
       "┌─────────────────────┬─────────┐\n",
       "│ Budget_date         ┆ count   │\n",
       "│ ---                 ┆ ---     │\n",
       "│ datetime[ns]        ┆ u32     │\n",
       "╞═════════════════════╪═════════╡\n",
       "│ 2024-03-27 00:00:00 ┆ 4896424 │\n",
       "│ 2024-03-28 00:00:00 ┆ 4896424 │\n",
       "└─────────────────────┴─────────┘"
      ]
     },
     "execution_count": 63,
     "metadata": {},
     "output_type": "execute_result"
    }
   ],
   "source": [
    "ra_kpi_joined['Budget_date'].value_counts()"
   ]
  },
  {
   "cell_type": "code",
   "execution_count": 143,
   "metadata": {},
   "outputs": [
    {
     "data": {
      "text/plain": [
       "datetime.datetime(2024, 3, 27, 0, 0)"
      ]
     },
     "execution_count": 143,
     "metadata": {},
     "output_type": "execute_result"
    }
   ],
   "source": [
    "ra_kpi_joined['Budget_date'][0]"
   ]
  },
  {
   "cell_type": "code",
   "execution_count": 144,
   "metadata": {},
   "outputs": [],
   "source": [
    "ra_kpi_joined = ra_kpi_joined.fill_null(0)"
   ]
  },
  {
   "cell_type": "code",
   "execution_count": 145,
   "metadata": {},
   "outputs": [
    {
     "data": {
      "text/plain": [
       "VersionedItem(symbol='ra_kpi_joined', library='RA_DATA', data=n/a, version=2, metadata=None, host='LMDB(path=/home/ubuntu/OTB/databases/bmaps_data)')"
      ]
     },
     "execution_count": 145,
     "metadata": {},
     "output_type": "execute_result"
    }
   ],
   "source": [
    "lib.append('ra_kpi_joined', ra_kpi_joined.to_pandas(), prune_previous_versions=True)"
   ]
  },
  {
   "cell_type": "code",
   "execution_count": 79,
   "metadata": {},
   "outputs": [],
   "source": [
    "%reset -f"
   ]
  },
  {
   "cell_type": "code",
   "execution_count": 2,
   "metadata": {},
   "outputs": [
    {
     "name": "stdout",
     "output_type": "stream",
     "text": [
      "Defaulting to user installation because normal site-packages is not writeable\n",
      "Collecting asyncpg\n",
      "  Downloading asyncpg-0.29.0-cp310-cp310-manylinux_2_17_x86_64.manylinux2014_x86_64.whl.metadata (4.4 kB)\n",
      "Requirement already satisfied: async-timeout>=4.0.3 in /home/ubuntu/.local/lib/python3.10/site-packages (from asyncpg) (4.0.3)\n",
      "Downloading asyncpg-0.29.0-cp310-cp310-manylinux_2_17_x86_64.manylinux2014_x86_64.whl (2.7 MB)\n",
      "\u001b[2K   \u001b[90m━━━━━━━━━━━━━━━━━━━━━━━━━━━━━━━━━━━━━━━━\u001b[0m \u001b[32m2.7/2.7 MB\u001b[0m \u001b[31m68.0 MB/s\u001b[0m eta \u001b[36m0:00:00\u001b[0m00:01\u001b[0m\n",
      "\u001b[?25hInstalling collected packages: asyncpg\n",
      "Successfully installed asyncpg-0.29.0\n",
      "Note: you may need to restart the kernel to use updated packages.\n"
     ]
    }
   ],
   "source": [
    "pip install asyncpg"
   ]
  },
  {
   "cell_type": "code",
   "execution_count": 1,
   "metadata": {},
   "outputs": [],
   "source": [
    "import asyncpg"
   ]
  },
  {
   "cell_type": "code",
   "execution_count": 2,
   "metadata": {},
   "outputs": [],
   "source": [
    "conn = await asyncpg.connect(\n",
    "        user=\"mohit\",\n",
    "        password=\"password\",\n",
    "        database=\"bmaps\",\n",
    "        host=\"localhost\", # 43.204.167.201\n",
    "        port=5433,\n",
    "    )"
   ]
  },
  {
   "cell_type": "code",
   "execution_count": 3,
   "metadata": {},
   "outputs": [
    {
     "data": {
      "text/plain": [
       "<coroutine object Connection.execute at 0x79ab1441d9a0>"
      ]
     },
     "execution_count": 3,
     "metadata": {},
     "output_type": "execute_result"
    }
   ],
   "source": [
    "conn.execute(\"CALL get_sp_otp();\")"
   ]
  },
  {
   "cell_type": "code",
   "execution_count": 4,
   "metadata": {},
   "outputs": [],
   "source": [
    "query = \"\"\"\n",
    "SELECT \"ITEMID\", \"Description\", \"Department\", \"Category\", \"Family\", \"SubFamily\", \"SubCategory\",\n",
    "        \"ExtendedSubCategory\", \"SubCategorySupplier\", \"AssemblyCodeNickName\", \"ENDOFLife\",\n",
    "        \"DOM_COMM\", \"Status\", \"Supplier\", \"Store\", \"area\", \"Region\",\n",
    "        \"adjusted_budget_gross_margin_percent\", \"budget_amount\", \"budget_cost\", \"budget_qty\",\n",
    "        \"Channel\", \"INVENTLOCATIONID\", \"Budget_date\", \"stock_on_hand_qty\", \"opening_stock\",\n",
    "        \"closing_stock\", \"current_stock_cost_at_retail\", \"stock_received_qty\",\n",
    "        \"opening_stock_at_cost\", \"adjustment_at_cost\", \"adjustment_at_retail\", \"stock_date\",\n",
    "        \"article_score_sale\", \"article_score_abc\", \"article_score_ae\", \"article_score_speed\",\n",
    "        \"article_score_terminal\", \"article_score_margin\", \"article_score_sell\",\n",
    "        \"article_score_markdown\", \"article_score_core\", \"article_score_quartile\",\n",
    "        \"article_score_sortimeter\", \"btech_vs_sortimeter\", \"store_sku_count\", \"price\"\n",
    "FROM ra_item_stock_kpi_temp;\n",
    "\"\"\""
   ]
  },
  {
   "cell_type": "code",
   "execution_count": 5,
   "metadata": {},
   "outputs": [],
   "source": [
    "# Fetch results from temp_result table\n",
    "records = await conn.fetch(query)"
   ]
  },
  {
   "cell_type": "code",
   "execution_count": 10,
   "metadata": {},
   "outputs": [],
   "source": [
    "from collections import OrderedDict"
   ]
  },
  {
   "cell_type": "code",
   "execution_count": 11,
   "metadata": {},
   "outputs": [],
   "source": [
    "def record_to_dict(record):\n",
    "    return OrderedDict(record)"
   ]
  },
  {
   "cell_type": "code",
   "execution_count": 19,
   "metadata": {},
   "outputs": [],
   "source": [
    "Rec_to_dict = lambda record : OrderedDict(record)"
   ]
  },
  {
   "cell_type": "code",
   "execution_count": 20,
   "metadata": {},
   "outputs": [
    {
     "data": {
      "text/plain": [
       "OrderedDict([('ITEMID', '1TSATVSM43T53000L007'),\n",
       "             ('Description', 'TV SAMSUNG 43T5300 FHD SMART'),\n",
       "             ('Department', 'DOMESTIC SAMSUNG'),\n",
       "             ('Category', 'TV'),\n",
       "             ('Family', 'TV'),\n",
       "             ('SubFamily', 'TV DOM'),\n",
       "             ('SubCategory', 'TV-43-SMRT'),\n",
       "             ('ExtendedSubCategory', 'TV-43-SMRT'),\n",
       "             ('SubCategorySupplier', 'TV-43-SMRT-SAMSUNG'),\n",
       "             ('AssemblyCodeNickName',\n",
       "              '1TSATVSM43T53000L007\\nTV SAMSUNG 43T5300 FHD SMART'),\n",
       "             ('ENDOFLife', None),\n",
       "             ('DOM_COMM', 'DOM'),\n",
       "             ('Status', 'No'),\n",
       "             ('Supplier', 'SAMSUNG'),\n",
       "             ('Store', 'Show Room - Corp. Sale-38'),\n",
       "             ('area', 'Tanash'),\n",
       "             ('Region', 'CAIRO'),\n",
       "             ('adjusted_budget_gross_margin_percent', 10.0),\n",
       "             ('budget_amount', 351045.4584868548),\n",
       "             ('budget_cost', 315940.91263816936),\n",
       "             ('budget_qty', 354.0),\n",
       "             ('Channel', 'WAREHOUSE'),\n",
       "             ('INVENTLOCATIONID', 'Re-9011'),\n",
       "             ('Budget_date', '2024-03-27'),\n",
       "             ('stock_on_hand_qty', Decimal('8')),\n",
       "             ('opening_stock', Decimal('8')),\n",
       "             ('closing_stock', Decimal('8')),\n",
       "             ('current_stock_cost_at_retail', 0.0),\n",
       "             ('stock_received_qty', 0),\n",
       "             ('opening_stock_at_cost', 0.0),\n",
       "             ('adjustment_at_cost', 0),\n",
       "             ('adjustment_at_retail', 0),\n",
       "             ('stock_date', datetime.date(2024, 2, 26)),\n",
       "             ('article_score_sale', 6.057579922627373e-05),\n",
       "             ('article_score_abc', 6.057579922627373e-05),\n",
       "             ('article_score_ae', 0.0),\n",
       "             ('article_score_speed', 7.19862612186201e-08),\n",
       "             ('article_score_terminal', 8.248802611418006e-05),\n",
       "             ('article_score_margin', -0.00019461342260479185),\n",
       "             ('article_score_sell', 1.8564640995033921e-06),\n",
       "             ('article_score_markdown', 0.001115821201850341),\n",
       "             ('article_score_core', 0.00012115159845254747),\n",
       "             ('article_score_quartile', 5.3611879655457415e-06),\n",
       "             ('article_score_sortimeter', 0.0),\n",
       "             ('btech_vs_sortimeter', 0.0),\n",
       "             ('store_sku_count', 0),\n",
       "             ('price', 0.0)])"
      ]
     },
     "execution_count": 20,
     "metadata": {},
     "output_type": "execute_result"
    }
   ],
   "source": [
    "Rec_to_dict(records[0])"
   ]
  },
  {
   "cell_type": "code",
   "execution_count": 13,
   "metadata": {},
   "outputs": [
    {
     "data": {
      "text/plain": [
       "OrderedDict([('ITEMID', '1TSATVSM43T53000L007'),\n",
       "             ('Description', 'TV SAMSUNG 43T5300 FHD SMART'),\n",
       "             ('Department', 'DOMESTIC SAMSUNG'),\n",
       "             ('Category', 'TV'),\n",
       "             ('Family', 'TV'),\n",
       "             ('SubFamily', 'TV DOM'),\n",
       "             ('SubCategory', 'TV-43-SMRT'),\n",
       "             ('ExtendedSubCategory', 'TV-43-SMRT'),\n",
       "             ('SubCategorySupplier', 'TV-43-SMRT-SAMSUNG'),\n",
       "             ('AssemblyCodeNickName',\n",
       "              '1TSATVSM43T53000L007\\nTV SAMSUNG 43T5300 FHD SMART'),\n",
       "             ('ENDOFLife', None),\n",
       "             ('DOM_COMM', 'DOM'),\n",
       "             ('Status', 'No'),\n",
       "             ('Supplier', 'SAMSUNG'),\n",
       "             ('Store', 'Show Room - Corp. Sale-38'),\n",
       "             ('area', 'Tanash'),\n",
       "             ('Region', 'CAIRO'),\n",
       "             ('adjusted_budget_gross_margin_percent', 10.0),\n",
       "             ('budget_amount', 351045.4584868548),\n",
       "             ('budget_cost', 315940.91263816936),\n",
       "             ('budget_qty', 354.0),\n",
       "             ('Channel', 'WAREHOUSE'),\n",
       "             ('INVENTLOCATIONID', 'Re-9011'),\n",
       "             ('Budget_date', '2024-03-27'),\n",
       "             ('stock_on_hand_qty', Decimal('8')),\n",
       "             ('opening_stock', Decimal('8')),\n",
       "             ('closing_stock', Decimal('8')),\n",
       "             ('current_stock_cost_at_retail', 0.0),\n",
       "             ('stock_received_qty', 0),\n",
       "             ('opening_stock_at_cost', 0.0),\n",
       "             ('adjustment_at_cost', 0),\n",
       "             ('adjustment_at_retail', 0),\n",
       "             ('stock_date', datetime.date(2024, 2, 26)),\n",
       "             ('article_score_sale', 6.057579922627373e-05),\n",
       "             ('article_score_abc', 6.057579922627373e-05),\n",
       "             ('article_score_ae', 0.0),\n",
       "             ('article_score_speed', 7.19862612186201e-08),\n",
       "             ('article_score_terminal', 8.248802611418006e-05),\n",
       "             ('article_score_margin', -0.00019461342260479185),\n",
       "             ('article_score_sell', 1.8564640995033921e-06),\n",
       "             ('article_score_markdown', 0.001115821201850341),\n",
       "             ('article_score_core', 0.00012115159845254747),\n",
       "             ('article_score_quartile', 5.3611879655457415e-06),\n",
       "             ('article_score_sortimeter', 0.0),\n",
       "             ('btech_vs_sortimeter', 0.0),\n",
       "             ('store_sku_count', 0),\n",
       "             ('price', 0.0)])"
      ]
     },
     "execution_count": 13,
     "metadata": {},
     "output_type": "execute_result"
    }
   ],
   "source": [
    "record_to_dict(records[0])"
   ]
  },
  {
   "cell_type": "code",
   "execution_count": 21,
   "metadata": {},
   "outputs": [],
   "source": [
    "dictionary_of_records = [Rec_to_dict(record) for record in records]"
   ]
  },
  {
   "cell_type": "code",
   "execution_count": 22,
   "metadata": {},
   "outputs": [],
   "source": [
    "# Convert the records to a Polars DataFrame\n",
    "df = pl.from_records(dictionary_of_records)"
   ]
  },
  {
   "cell_type": "code",
   "execution_count": 23,
   "metadata": {},
   "outputs": [
    {
     "data": {
      "text/html": [
       "<div><style>\n",
       ".dataframe > thead > tr,\n",
       ".dataframe > tbody > tr {\n",
       "  text-align: right;\n",
       "  white-space: pre-wrap;\n",
       "}\n",
       "</style>\n",
       "<small>shape: (5, 47)</small><table border=\"1\" class=\"dataframe\"><thead><tr><th>ITEMID</th><th>Description</th><th>Department</th><th>Category</th><th>Family</th><th>SubFamily</th><th>SubCategory</th><th>ExtendedSubCategory</th><th>SubCategorySupplier</th><th>AssemblyCodeNickName</th><th>ENDOFLife</th><th>DOM_COMM</th><th>Status</th><th>Supplier</th><th>Store</th><th>area</th><th>Region</th><th>adjusted_budget_gross_margin_percent</th><th>budget_amount</th><th>budget_cost</th><th>budget_qty</th><th>Channel</th><th>INVENTLOCATIONID</th><th>Budget_date</th><th>stock_on_hand_qty</th><th>opening_stock</th><th>closing_stock</th><th>current_stock_cost_at_retail</th><th>stock_received_qty</th><th>opening_stock_at_cost</th><th>adjustment_at_cost</th><th>adjustment_at_retail</th><th>stock_date</th><th>article_score_sale</th><th>article_score_abc</th><th>article_score_ae</th><th>article_score_speed</th><th>article_score_terminal</th><th>article_score_margin</th><th>article_score_sell</th><th>article_score_markdown</th><th>article_score_core</th><th>article_score_quartile</th><th>article_score_sortimeter</th><th>btech_vs_sortimeter</th><th>store_sku_count</th><th>price</th></tr><tr><td>str</td><td>str</td><td>str</td><td>str</td><td>str</td><td>str</td><td>str</td><td>str</td><td>str</td><td>str</td><td>null</td><td>str</td><td>str</td><td>str</td><td>str</td><td>str</td><td>str</td><td>f64</td><td>f64</td><td>f64</td><td>f64</td><td>str</td><td>str</td><td>str</td><td>decimal[*,0]</td><td>decimal[*,0]</td><td>decimal[*,0]</td><td>f64</td><td>i64</td><td>f64</td><td>i64</td><td>i64</td><td>date</td><td>f64</td><td>f64</td><td>f64</td><td>f64</td><td>f64</td><td>f64</td><td>f64</td><td>f64</td><td>f64</td><td>f64</td><td>f64</td><td>f64</td><td>i64</td><td>f64</td></tr></thead><tbody><tr><td>&quot;1TSATVSM43T530…</td><td>&quot;TV SAMSUNG 43T…</td><td>&quot;DOMESTIC SAMSU…</td><td>&quot;TV&quot;</td><td>&quot;TV&quot;</td><td>&quot;TV DOM&quot;</td><td>&quot;TV-43-SMRT&quot;</td><td>&quot;TV-43-SMRT&quot;</td><td>&quot;TV-43-SMRT-SAM…</td><td>&quot;1TSATVSM43T530…</td><td>null</td><td>&quot;DOM&quot;</td><td>&quot;No&quot;</td><td>&quot;SAMSUNG&quot;</td><td>&quot;Show Room - Co…</td><td>&quot;Tanash&quot;</td><td>&quot;CAIRO&quot;</td><td>10.0</td><td>351045.458487</td><td>315940.912638</td><td>354.0</td><td>&quot;WAREHOUSE&quot;</td><td>&quot;Re-9011&quot;</td><td>&quot;2024-03-27&quot;</td><td>8</td><td>8</td><td>8</td><td>0.0</td><td>0</td><td>0.0</td><td>0</td><td>0</td><td>2024-02-26</td><td>0.000061</td><td>0.000061</td><td>0.0</td><td>7.1986e-8</td><td>0.000082</td><td>-0.000195</td><td>0.000002</td><td>0.001116</td><td>0.000121</td><td>0.000005</td><td>0.0</td><td>0.0</td><td>0</td><td>0.0</td></tr><tr><td>&quot;1TSATVSM43T530…</td><td>&quot;TV SAMSUNG 43T…</td><td>&quot;DOMESTIC SAMSU…</td><td>&quot;TV&quot;</td><td>&quot;TV&quot;</td><td>&quot;TV DOM&quot;</td><td>&quot;TV-43-SMRT&quot;</td><td>&quot;TV-43-SMRT&quot;</td><td>&quot;TV-43-SMRT-SAM…</td><td>&quot;1TSATVSM43T530…</td><td>null</td><td>&quot;DOM&quot;</td><td>&quot;No&quot;</td><td>&quot;SAMSUNG&quot;</td><td>&quot;Show Room - Co…</td><td>&quot;Tanash&quot;</td><td>&quot;CAIRO&quot;</td><td>10.0</td><td>351045.458487</td><td>315940.912638</td><td>354.0</td><td>&quot;WAREHOUSE&quot;</td><td>&quot;Re-9011&quot;</td><td>&quot;2024-03-28&quot;</td><td>8</td><td>8</td><td>8</td><td>0.0</td><td>0</td><td>0.0</td><td>0</td><td>0</td><td>2024-02-26</td><td>0.000061</td><td>0.000061</td><td>0.0</td><td>7.1986e-8</td><td>0.000082</td><td>-0.000195</td><td>0.000002</td><td>0.001116</td><td>0.000121</td><td>0.000005</td><td>0.0</td><td>0.0</td><td>0</td><td>0.0</td></tr><tr><td>&quot;1TLGTVSM43LM63…</td><td>&quot;TV LG 43LM6370…</td><td>&quot;DOMESTIC LG&quot;</td><td>&quot;TV&quot;</td><td>&quot;TV&quot;</td><td>&quot;TV DOM&quot;</td><td>&quot;TV-43-SMRT&quot;</td><td>&quot;TV-43-SMRT&quot;</td><td>&quot;TV-43-SMRT-LG&quot;</td><td>&quot;1TLGTVSM43LM63…</td><td>null</td><td>&quot;DOM&quot;</td><td>&quot;No&quot;</td><td>&quot;LG&quot;</td><td>&quot;Sohag Branch&quot;</td><td>&quot;unknown&quot;</td><td>&quot;unknown&quot;</td><td>20.0</td><td>5076.164816</td><td>4060.931852</td><td>122.0</td><td>&quot;Retail&quot;</td><td>&quot;Re-4004&quot;</td><td>&quot;2024-03-27&quot;</td><td>2</td><td>2</td><td>2</td><td>0.0</td><td>0</td><td>0.0</td><td>0</td><td>0</td><td>2024-02-26</td><td>0.000012</td><td>0.000012</td><td>0.0</td><td>7.1986e-8</td><td>0.000087</td><td>0.000164</td><td>0.000004</td><td>0.000114</td><td>0.000023</td><td>0.000034</td><td>0.0</td><td>0.0</td><td>0</td><td>0.0</td></tr><tr><td>&quot;1TLGTVSM43LM63…</td><td>&quot;TV LG 43LM6370…</td><td>&quot;DOMESTIC LG&quot;</td><td>&quot;TV&quot;</td><td>&quot;TV&quot;</td><td>&quot;TV DOM&quot;</td><td>&quot;TV-43-SMRT&quot;</td><td>&quot;TV-43-SMRT&quot;</td><td>&quot;TV-43-SMRT-LG&quot;</td><td>&quot;1TLGTVSM43LM63…</td><td>null</td><td>&quot;DOM&quot;</td><td>&quot;No&quot;</td><td>&quot;LG&quot;</td><td>&quot;Sohag Branch&quot;</td><td>&quot;unknown&quot;</td><td>&quot;unknown&quot;</td><td>20.0</td><td>5076.164816</td><td>4060.931852</td><td>122.0</td><td>&quot;Retail&quot;</td><td>&quot;Re-4004&quot;</td><td>&quot;2024-03-28&quot;</td><td>2</td><td>2</td><td>2</td><td>0.0</td><td>0</td><td>0.0</td><td>0</td><td>0</td><td>2024-02-26</td><td>0.000012</td><td>0.000012</td><td>0.0</td><td>7.1986e-8</td><td>0.000087</td><td>0.000164</td><td>0.000004</td><td>0.000114</td><td>0.000023</td><td>0.000034</td><td>0.0</td><td>0.0</td><td>0</td><td>0.0</td></tr><tr><td>&quot;1TLGTVSM43LM63…</td><td>&quot;TV LG 43LM6370…</td><td>&quot;DOMESTIC LG&quot;</td><td>&quot;TV&quot;</td><td>&quot;TV&quot;</td><td>&quot;TV DOM&quot;</td><td>&quot;TV-43-SMRT&quot;</td><td>&quot;TV-43-SMRT&quot;</td><td>&quot;TV-43-SMRT-LG&quot;</td><td>&quot;1TLGTVSM43LM63…</td><td>null</td><td>&quot;DOM&quot;</td><td>&quot;No&quot;</td><td>&quot;LG&quot;</td><td>&quot;Show Room - Co…</td><td>&quot;Tanash&quot;</td><td>&quot;CAIRO&quot;</td><td>20.0</td><td>500027.122173</td><td>400021.697738</td><td>156.0</td><td>&quot;WAREHOUSE&quot;</td><td>&quot;Re-9011&quot;</td><td>&quot;2024-03-27&quot;</td><td>17</td><td>17</td><td>17</td><td>0.0</td><td>0</td><td>0.0</td><td>0</td><td>0</td><td>2024-02-26</td><td>0.000012</td><td>0.000012</td><td>0.0</td><td>7.1986e-8</td><td>0.000087</td><td>0.000164</td><td>0.000004</td><td>0.000114</td><td>0.000023</td><td>0.000034</td><td>0.0</td><td>0.0</td><td>0</td><td>0.0</td></tr></tbody></table></div>"
      ],
      "text/plain": [
       "shape: (5, 47)\n",
       "┌────────────┬────────────┬────────────┬──────────┬───┬────────────┬───────────┬───────────┬───────┐\n",
       "│ ITEMID     ┆ Descriptio ┆ Department ┆ Category ┆ … ┆ article_sc ┆ btech_vs_ ┆ store_sku ┆ price │\n",
       "│ ---        ┆ n          ┆ ---        ┆ ---      ┆   ┆ ore_sortim ┆ sortimete ┆ _count    ┆ ---   │\n",
       "│ str        ┆ ---        ┆ str        ┆ str      ┆   ┆ eter       ┆ r         ┆ ---       ┆ f64   │\n",
       "│            ┆ str        ┆            ┆          ┆   ┆ ---        ┆ ---       ┆ i64       ┆       │\n",
       "│            ┆            ┆            ┆          ┆   ┆ f64        ┆ f64       ┆           ┆       │\n",
       "╞════════════╪════════════╪════════════╪══════════╪═══╪════════════╪═══════════╪═══════════╪═══════╡\n",
       "│ 1TSATVSM43 ┆ TV SAMSUNG ┆ DOMESTIC   ┆ TV       ┆ … ┆ 0.0        ┆ 0.0       ┆ 0         ┆ 0.0   │\n",
       "│ T53000L007 ┆ 43T5300    ┆ SAMSUNG    ┆          ┆   ┆            ┆           ┆           ┆       │\n",
       "│            ┆ FHD SMART  ┆            ┆          ┆   ┆            ┆           ┆           ┆       │\n",
       "│ 1TSATVSM43 ┆ TV SAMSUNG ┆ DOMESTIC   ┆ TV       ┆ … ┆ 0.0        ┆ 0.0       ┆ 0         ┆ 0.0   │\n",
       "│ T53000L007 ┆ 43T5300    ┆ SAMSUNG    ┆          ┆   ┆            ┆           ┆           ┆       │\n",
       "│            ┆ FHD SMART  ┆            ┆          ┆   ┆            ┆           ┆           ┆       │\n",
       "│ 1TLGTVSM43 ┆ TV LG      ┆ DOMESTIC   ┆ TV       ┆ … ┆ 0.0        ┆ 0.0       ┆ 0         ┆ 0.0   │\n",
       "│ LM6370L007 ┆ 43LM6370   ┆ LG         ┆          ┆   ┆            ┆           ┆           ┆       │\n",
       "│            ┆ PVA SMART  ┆            ┆          ┆   ┆            ┆           ┆           ┆       │\n",
       "│            ┆ FHD RE     ┆            ┆          ┆   ┆            ┆           ┆           ┆       │\n",
       "│ 1TLGTVSM43 ┆ TV LG      ┆ DOMESTIC   ┆ TV       ┆ … ┆ 0.0        ┆ 0.0       ┆ 0         ┆ 0.0   │\n",
       "│ LM6370L007 ┆ 43LM6370   ┆ LG         ┆          ┆   ┆            ┆           ┆           ┆       │\n",
       "│            ┆ PVA SMART  ┆            ┆          ┆   ┆            ┆           ┆           ┆       │\n",
       "│            ┆ FHD RE     ┆            ┆          ┆   ┆            ┆           ┆           ┆       │\n",
       "│ 1TLGTVSM43 ┆ TV LG      ┆ DOMESTIC   ┆ TV       ┆ … ┆ 0.0        ┆ 0.0       ┆ 0         ┆ 0.0   │\n",
       "│ LM6370L007 ┆ 43LM6370   ┆ LG         ┆          ┆   ┆            ┆           ┆           ┆       │\n",
       "│            ┆ PVA SMART  ┆            ┆          ┆   ┆            ┆           ┆           ┆       │\n",
       "│            ┆ FHD RE     ┆            ┆          ┆   ┆            ┆           ┆           ┆       │\n",
       "└────────────┴────────────┴────────────┴──────────┴───┴────────────┴───────────┴───────────┴───────┘"
      ]
     },
     "execution_count": 23,
     "metadata": {},
     "output_type": "execute_result"
    }
   ],
   "source": [
    "df.head()"
   ]
  },
  {
   "cell_type": "code",
   "execution_count": 6,
   "metadata": {},
   "outputs": [],
   "source": [
    "import polars as pl"
   ]
  },
  {
   "cell_type": "code",
   "execution_count": null,
   "metadata": {},
   "outputs": [],
   "source": [
    "{'Channel': [\"B.TECH X\",\"MINI\", \"WAREHOUSE\",\"ARKAN\",\"Retail\", \"NON\",\"CALL CENTER\"], \n",
    " \"Family\":[\"TV\",\"LAPTOP\",\"SDA\",\"MOBILE\",\"MDA\"],\n",
    " \"SubFamily\":[\"AC DOM\", \"MDA COM\",\"SDA DOM\",\"AC COM\"],\n",
    " \"ITEMID\":[],\"Category\":[],\n",
    " \"SubCategory\":[],\"Supplier\":[]}"
   ]
  },
  {
   "cell_type": "code",
   "execution_count": null,
   "metadata": {},
   "outputs": [],
   "source": []
  }
 ],
 "metadata": {
  "kernelspec": {
   "display_name": "Python 3",
   "language": "python",
   "name": "python3"
  },
  "language_info": {
   "codemirror_mode": {
    "name": "ipython",
    "version": 3
   },
   "file_extension": ".py",
   "mimetype": "text/x-python",
   "name": "python",
   "nbconvert_exporter": "python",
   "pygments_lexer": "ipython3",
   "version": "3.10.12"
  }
 },
 "nbformat": 4,
 "nbformat_minor": 2
}
