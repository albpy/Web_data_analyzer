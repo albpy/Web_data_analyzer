{
 "cells": [
  {
   "cell_type": "code",
   "execution_count": 144,
   "metadata": {},
   "outputs": [],
   "source": [
    "from sqlalchemy import Column, Integer, Numeric, String, Date, Index, Text, text, Float, create_engine  # The architects of our database schema, crafting the structure of our data haven.\n",
    "from sqlalchemy.orm import sessionmaker, declarative_base  # Craftsmen who build the bridge between our Pythonic realm and the database underworld.\n",
    "from sqlalchemy.exc import SQLAlchemyError\n",
    "from sqlalchemy.orm import declarative_base, sessionmaker\n",
    "\n",
    "from rapidframes import RapiDF, QueryBuilder\n",
    "\n",
    "import threading\n",
    "import warnings\n",
    "from typing import List, Dict\n",
    "import polars as pl\n",
    "import pandas as pd"
   ]
  },
  {
   "cell_type": "code",
   "execution_count": null,
   "metadata": {},
   "outputs": [],
   "source": [
    "!pip3 install -r requirements.txt "
   ]
  },
  {
   "cell_type": "code",
   "execution_count": 145,
   "metadata": {},
   "outputs": [],
   "source": [
    "import sys\n",
    "import os"
   ]
  },
  {
   "cell_type": "markdown",
   "metadata": {},
   "source": [
    "sys.path.append('/home/ubuntu/OTB/rapidframes/')\n",
    "sys.path.append('/home/ubuntu/OTB/BMAPS/routes')"
   ]
  },
  {
   "cell_type": "code",
   "execution_count": 146,
   "metadata": {},
   "outputs": [],
   "source": [
    "import datetime\n",
    "from collections import namedtuple\n",
    "from datetime import datetime, timedelta, date\n",
    "from time import ctime\n",
    "from typing import Dict, List\n",
    "import pandas as pd\n",
    "import numpy as np\n",
    "import polars as pl\n",
    "from rapidframes import QueryBuilder, RapiDF\n",
    "from warnings import simplefilter"
   ]
  },
  {
   "cell_type": "code",
   "execution_count": 147,
   "metadata": {},
   "outputs": [
    {
     "name": "stderr",
     "output_type": "stream",
     "text": [
      "[2024-04-05 07:02:22.824] [rapidframes] [warning] LMDB path at /home/ubuntu/OTB/databases/bmaps_data/ has already been opened in this process which is not supported by LMDB. You should only open a single RapiDF instance over a given LMDB path. To continue safely, you should delete this RapiDF instance and any others over the LMDB path in this process and then try again. Current process ID=[677138]\n"
     ]
    }
   ],
   "source": [
    "STORAGE_URL = 'lmdb://databases/bmaps_data?map_size=50GB'\n",
    "rf = RapiDF(STORAGE_URL)"
   ]
  },
  {
   "cell_type": "code",
   "execution_count": 148,
   "metadata": {},
   "outputs": [
    {
     "data": {
      "text/plain": [
       "[]"
      ]
     },
     "execution_count": 148,
     "metadata": {},
     "output_type": "execute_result"
    }
   ],
   "source": [
    "# Library RA_DATA got created\n",
    "rf.get_library(\"RA_DATA\").list_symbols()"
   ]
  },
  {
   "cell_type": "code",
   "execution_count": 149,
   "metadata": {},
   "outputs": [],
   "source": [
    "LIBRARY_NAME = \"RA_DATA\""
   ]
  },
  {
   "cell_type": "code",
   "execution_count": 150,
   "metadata": {},
   "outputs": [],
   "source": [
    "class PostgresDatabaseSecretsHolder:\n",
    "    # Configuring the warehouse to store the contraband.\n",
    "    USERNAME = \"mohit\"\n",
    "    # PASSWORD = \"password\"\n",
    "    PASSWORD = \"password\"\n",
    "    HOST     = \"localhost\"\n",
    "    PORT     = \"5433\"\n",
    "    DATABASE = \"bmaps\"\n",
    "\n",
    "# Establish a connection to the MariaDB and Postgre Server, like making an untraceable phone call to an old friend.\n",
    "# Connecting to the MariaDB and Postgre Instances is akin to reaching out to a contact in a foreign land.\n",
    "# The connection stringv, a secret formula for establishing a clandestine rendezvous.\n",
    "# mariadb_connection_string = f\"mysql+pymysql://{MariaDBDatabaseSecretsHolder.USERNAME}:{MariaDBDatabaseSecretsHolder.6eA1Wyp6l'sj}\\\n",
    "# @{MariaDBDatabaseSecretsHolder.HOST}:{MariaDBDatabaseSecretsHolder.PORT}/{MariaDBDatabaseSecretsHolder.DATABASE}\"\n",
    "\n",
    "postgres_connection_string = f\"postgresql+psycopg2://{PostgresDatabaseSecretsHolder.USERNAME}:{PostgresDatabaseSecretsHolder.PASSWORD}\\\n",
    "@{PostgresDatabaseSecretsHolder.HOST}:{PostgresDatabaseSecretsHolder.PORT}/{PostgresDatabaseSecretsHolder.DATABASE}\"\n",
    "\n",
    "# Create the engines, the heart of our operation, silent yet powerful.\n",
    "# mariadb_engine = create_engine(mariadb_connection_string)\n",
    "postgres_engine = create_engine(postgres_connection_string)\n",
    "# The blueprint of our data structure, meticulous and precise.\n",
    "Base = declarative_base()\n",
    "Session = sessionmaker(bind=postgres_engine)\n",
    "session = Session()\n",
    "\n",
    "class SalesDataTrnx(Base):\n",
    "    __tablename__ = 'salesdata_trnx'\n",
    "    ID               = Column(Integer, primary_key=True, autoincrement=True)\n",
    "    INVENTLOCATIONID = Column(String(25))\n",
    "    ITEMID           = Column(String(50))\n",
    "    SALESQTY         = Column(Numeric(15, 3))\n",
    "    LINEDISC         = Column(Numeric(15, 3))\n",
    "    LINEAMOUNT       = Column(Numeric(15, 3))\n",
    "    SALESPRICE       = Column(Numeric(15, 3))\n",
    "    COSTPRICE        = Column(Numeric(15, 3))\n",
    "    INVOICEDATE      = Column(Date())\n",
    "    channel          = Column(String(50))\n",
    "    family           = Column(String(30))\n",
    "\n",
    "    __table_args__ = (\n",
    "        Index('salesdata_trnx_INVOICEDATE_IDX', 'INVOICEDATE'),\n",
    "        Index('salesdata_trnx_ITEMID_IDX', 'ITEMID', 'INVENTLOCATIONID', 'channel', 'family'),\n",
    "        Index('salesdata_trnx_LINEAMOUNT_IDX', 'LINEAMOUNT'),\n",
    "        Index('salesdata_trnx_INVENTLOCATIONID_1_IDX', 'INVENTLOCATIONID', 'ITEMID', 'channel'),\n",
    "        Index('salesdata_trnx_INVENTLOCATIONID_2_IDX', 'INVENTLOCATIONID', 'channel', 'INVOICEDATE', 'ITEMID', 'family'),\n",
    "        Index('salesdata_trnx_family_IDX', 'family', 'ITEMID', 'LINEAMOUNT'),\n",
    "        Index('salesdata_trnx_family_amt_IDX', 'family', 'LINEAMOUNT'),\n",
    "    )\n",
    "\n",
    "class RATransactionTable(Base):\n",
    "    __tablename__ = 'ra_transaction_table'\n",
    "    \n",
    "    id = Column(Integer, primary_key=True, autoincrement=True)\n",
    "    Channel = Column(Text)\n",
    "    country = Column(Text)\n",
    "    Region = Column(Text)\n",
    "    area = Column(Text)\n",
    "    city = Column(Text)\n",
    "    StoreId = Column(Integer)\n",
    "    Store = Column(Text)\n",
    "    season = Column(Text)\n",
    "    Department = Column(Text)\n",
    "    Family = Column(Text)\n",
    "    SubFamily = Column(Text)\n",
    "    Category = Column(Text)\n",
    "    DOM_COMM = Column(Text)\n",
    "    SubCategory = Column(Text)\n",
    "    ExtendedSubCategory = Column(Text)\n",
    "    Supplier = Column(Text)\n",
    "    SubCategorySupplier = Column(Text)\n",
    "    AssemblyCodeNickName = Column(Text)\n",
    "    Status = Column(Text)\n",
    "    ENDOFLife = Column(Text)\n",
    "    Description = Column(Text)\n",
    "    ItemLookupCode = Column(Text)\n",
    "    BudgetYear = Column(Float)\n",
    "    BDate = Column(Date)\n",
    "    BudgetAmount = Column(Float)\n",
    "    UnitsBuyBySku = Column(Numeric)\n",
    "    BudgetGrossMarginP = Column(Float)\n",
    "    BudgetCost = Column(Float)\n",
    "    BudgetQTY = Column(Numeric)\n",
    "    OpeningStock = Column(Numeric)\n",
    "    ClosingStock = Column(Numeric)\n",
    "    StockReceivedQty = Column(Integer)\n",
    "    TotalPurchaseQty = Column(Numeric)\n",
    "    StockOnHandQty = Column(Numeric)\n",
    "    CurrentStockCost = Column(Float)\n",
    "    budget_quarter = Column(Text)\n",
    "    budget_month = Column(Text)\n",
    "    budget_week = Column(Text)\n",
    "    budget_day = Column(Text)"
   ]
  },
  {
   "cell_type": "code",
   "execution_count": 151,
   "metadata": {},
   "outputs": [
    {
     "name": "stdout",
     "output_type": "stream",
     "text": [
      "True\n"
     ]
    }
   ],
   "source": [
    "import logging\n",
    "import psycopg2\n",
    "from psycopg2 import OperationalError\n",
    "import traceback\n",
    "\n",
    "# Enable logging\n",
    "logging.basicConfig()\n",
    "logging.getLogger().setLevel(logging.DEBUG)\n",
    "\n",
    "try:\n",
    "    conn = psycopg2.connect(dbname=\"bmaps\", user=\"mohit\", host = \"localhost\", port = \"5432\", password = \"password\")\n",
    "    conn.close()\n",
    "    print(True)\n",
    "except Exception as e:\n",
    "    print(traceback.format_exc())\n",
    "    print(e)"
   ]
  },
  {
   "cell_type": "code",
   "execution_count": 152,
   "metadata": {},
   "outputs": [],
   "source": [
    "# When no fetch\n",
    "lib = rf.get_library('RA_DATA', create_if_missing=True)"
   ]
  },
  {
   "cell_type": "code",
   "execution_count": 153,
   "metadata": {},
   "outputs": [
    {
     "name": "stdout",
     "output_type": "stream",
     "text": [
      "[INFO] FETCH ITEM_MASTER TRANSACTIONS\n"
     ]
    }
   ],
   "source": [
    "def fetch_item_data():\n",
    "    lib = rf.get_library('RA_DATA', create_if_missing=True)\n",
    "    print(f\"[INFO] FETCH ITEM_MASTER TRANSACTIONS\")\n",
    "    \n",
    "    ps_session = sessionmaker(bind=postgres_engine)\n",
    "    ps_conn    = ps_session()\n",
    "    item_data    = ps_conn.execute(text('''SELECT \"ItemLookupCode\" AS \"ITEMID\",\n",
    "                                                 MAX(\"Description\") AS \"Description\",\n",
    "                                                 MAX(\"Department\") AS \"Department\",\n",
    "                                                 MAX(\"CategoryName\") AS \"Category\",\n",
    "                                                 MAX(\"Family\") AS \"Family\",\n",
    "                                                 MAX(\"subFamily\") AS \"SubFamily\",\n",
    "                                                 MAX(\"SubCategory\") AS \"SubCategory\",\n",
    "                                                 MAX(\"ExtendedSubCategory\") AS \"ExtendedSubCategory\",\n",
    "                                                 MAX(\"SubCategorySupplier\") AS \"SubCategorySupplier\",\n",
    "                                                 MAX(\"AssemblyCodeNickname\") AS \"AssemblyCodeNickName\",\n",
    "                                                 MAX(\"ENDOFLife\") AS \"ENDOFLife\",\n",
    "                                                 MAX(\"DOM_COMM\") AS \"DOM_COMM\",\n",
    "                                                 MAX(\"Status\") AS \"Status\",\n",
    "                                                 MAX(\"Supplier\") AS \"Supplier\"\n",
    "                                                 FROM \n",
    "                                                    itemmaster\n",
    "                                                 GROUP BY \n",
    "                                                    \"ItemLookupCode\"'''))\n",
    "    item_master      = pd.DataFrame(item_data, columns=item_data.keys())\n",
    "    item_master[\"ENDOFLife\"]  = item_master[\"ENDOFLife\"].fillna(\"\")\n",
    "    item_master['ITEMID'] = item_master['ITEMID'].astype(str)\n",
    "\n",
    "    lib.write(\"item_master\", item_master, prune_previous_versions=True) # , prune_previous_versions=True\n",
    "    return lib\n",
    "lib = fetch_item_data()"
   ]
  },
  {
   "cell_type": "code",
   "execution_count": 154,
   "metadata": {},
   "outputs": [
    {
     "data": {
      "text/plain": [
       "polars.dataframe.frame.DataFrame"
      ]
     },
     "execution_count": 154,
     "metadata": {},
     "output_type": "execute_result"
    }
   ],
   "source": [
    "q = QueryBuilder()\n",
    "item_master = pl.DataFrame(rf.get_library(LIBRARY_NAME).read('item_master', query_builder=q).data)\n",
    "type(item_master.head(2))"
   ]
  },
  {
   "cell_type": "code",
   "execution_count": 155,
   "metadata": {},
   "outputs": [],
   "source": [
    "def get_type_name(val):\n",
    "    return type(val).__name__\n",
    "\n",
    "    # Apply the function to the column\n",
    "# item_master = item_master.with_columns(pl.col('ITEMID').apply(get_type_name).alias('type_name'))\n",
    "\n",
    "    # Count the values\n",
    "    # item_master = item_master.groupby('type_name').agg(pl.count('type_name'))"
   ]
  },
  {
   "cell_type": "code",
   "execution_count": 156,
   "metadata": {},
   "outputs": [],
   "source": [
    "# item_master['type_name'].value_counts()"
   ]
  },
  {
   "cell_type": "code",
   "execution_count": 157,
   "metadata": {},
   "outputs": [
    {
     "name": "stdout",
     "output_type": "stream",
     "text": [
      "[INFO] FETCH RA TRANSACTIONS\n"
     ]
    }
   ],
   "source": [
    "def fetch_ra_data():\n",
    "    lib = rf.get_library('RA_DATA', create_if_missing=True)\n",
    "\n",
    "    # Fetch RA Transactions\n",
    "    print(f\"[INFO] FETCH RA TRANSACTIONS\")\n",
    "    \n",
    "    ps_session = sessionmaker(bind=postgres_engine)\n",
    "    ps_conn    = ps_session()\n",
    "    ra_data    = ps_conn.execute(text(\"SELECT * from ra_table\"))\n",
    "    ra_df      = pd.DataFrame(ra_data, columns=ra_data.keys())\n",
    "    ra_df['ITEMID'] = ra_df['ITEMID'].astype(str)\n",
    "    ra_df[\"Budget_date\"]      = pd.to_datetime(ra_df[\"Budget_date\"])\n",
    "    # ra_df[\"ENDOFLife\"]  = ra_df[\"ENDOFLife\"].fillna(\"\")\n",
    "    # cols_to_conv        = [\"ClosingStock\", \"TotalPurchaseQty\", \"StockOnHandQty\", \"UnitsBuyBySku\", \"BudgetQTY\", \"OpeningStock\"]\n",
    "    # ra_df[cols_to_conv] = ra_df[cols_to_conv].apply(pd.to_numeric)\n",
    "\n",
    "    lib.write(\"ra_trnx\", ra_df, prune_previous_versions=True)\n",
    "    ra_df = None\n",
    "\n",
    "    return lib\n",
    "\n",
    "lib = fetch_ra_data()"
   ]
  },
  {
   "cell_type": "code",
   "execution_count": 158,
   "metadata": {},
   "outputs": [],
   "source": [
    "q = QueryBuilder()\n",
    "ra_trnx = pl.DataFrame(rf.get_library(LIBRARY_NAME).read('ra_trnx', query_builder=q).data)"
   ]
  },
  {
   "cell_type": "code",
   "execution_count": 159,
   "metadata": {},
   "outputs": [
    {
     "data": {
      "text/html": [
       "<div><style>\n",
       ".dataframe > thead > tr,\n",
       ".dataframe > tbody > tr {\n",
       "  text-align: right;\n",
       "  white-space: pre-wrap;\n",
       "}\n",
       "</style>\n",
       "<small>shape: (9_792_848,)</small><table border=\"1\" class=\"dataframe\"><thead><tr><th>Budget_date</th></tr><tr><td>datetime[ns]</td></tr></thead><tbody><tr><td>2024-03-28 00:00:00</td></tr><tr><td>2024-03-27 00:00:00</td></tr><tr><td>2024-03-28 00:00:00</td></tr><tr><td>2024-03-27 00:00:00</td></tr><tr><td>2024-03-28 00:00:00</td></tr><tr><td>2024-03-27 00:00:00</td></tr><tr><td>2024-03-28 00:00:00</td></tr><tr><td>2024-03-27 00:00:00</td></tr><tr><td>2024-03-28 00:00:00</td></tr><tr><td>2024-03-27 00:00:00</td></tr><tr><td>2024-03-28 00:00:00</td></tr><tr><td>2024-03-27 00:00:00</td></tr><tr><td>&hellip;</td></tr><tr><td>2024-03-28 00:00:00</td></tr><tr><td>2024-03-27 00:00:00</td></tr><tr><td>2024-03-28 00:00:00</td></tr><tr><td>2024-03-27 00:00:00</td></tr><tr><td>2024-03-28 00:00:00</td></tr><tr><td>2024-03-27 00:00:00</td></tr><tr><td>2024-03-28 00:00:00</td></tr><tr><td>2024-03-27 00:00:00</td></tr><tr><td>2024-03-28 00:00:00</td></tr><tr><td>2024-03-27 00:00:00</td></tr><tr><td>2024-03-28 00:00:00</td></tr><tr><td>2024-03-27 00:00:00</td></tr></tbody></table></div>"
      ],
      "text/plain": [
       "shape: (9_792_848,)\n",
       "Series: 'Budget_date' [datetime[ns]]\n",
       "[\n",
       "\t2024-03-28 00:00:00\n",
       "\t2024-03-27 00:00:00\n",
       "\t2024-03-28 00:00:00\n",
       "\t2024-03-27 00:00:00\n",
       "\t2024-03-28 00:00:00\n",
       "\t2024-03-27 00:00:00\n",
       "\t2024-03-28 00:00:00\n",
       "\t2024-03-27 00:00:00\n",
       "\t2024-03-28 00:00:00\n",
       "\t2024-03-27 00:00:00\n",
       "\t2024-03-28 00:00:00\n",
       "\t2024-03-27 00:00:00\n",
       "\t…\n",
       "\t2024-03-27 00:00:00\n",
       "\t2024-03-28 00:00:00\n",
       "\t2024-03-27 00:00:00\n",
       "\t2024-03-28 00:00:00\n",
       "\t2024-03-27 00:00:00\n",
       "\t2024-03-28 00:00:00\n",
       "\t2024-03-27 00:00:00\n",
       "\t2024-03-28 00:00:00\n",
       "\t2024-03-27 00:00:00\n",
       "\t2024-03-28 00:00:00\n",
       "\t2024-03-27 00:00:00\n",
       "\t2024-03-28 00:00:00\n",
       "\t2024-03-27 00:00:00\n",
       "]"
      ]
     },
     "execution_count": 159,
     "metadata": {},
     "output_type": "execute_result"
    }
   ],
   "source": [
    "ra_trnx['Budget_date']"
   ]
  },
  {
   "cell_type": "code",
   "execution_count": 160,
   "metadata": {},
   "outputs": [
    {
     "data": {
      "text/plain": [
       "(9792848, 11)"
      ]
     },
     "execution_count": 160,
     "metadata": {},
     "output_type": "execute_result"
    }
   ],
   "source": [
    "ra_trnx.shape"
   ]
  },
  {
   "cell_type": "code",
   "execution_count": 161,
   "metadata": {},
   "outputs": [],
   "source": [
    "# ra_trnx = ra_trnx.with_columns(pl.col('ITEMID').apply(get_type_name).alias('type_name'))\n",
    "# ra_trnx['type_name'].value_counts()"
   ]
  },
  {
   "cell_type": "code",
   "execution_count": 162,
   "metadata": {},
   "outputs": [
    {
     "name": "stdout",
     "output_type": "stream",
     "text": [
      "[INFO] FETCH CURRENT SALES TRANSACTIONS\n"
     ]
    }
   ],
   "source": [
    "def fetch_cst_data():\n",
    "    lib = rf.get_library('RA_DATA', create_if_missing=True)\n",
    "\n",
    "    # Fetch CST Transactions\n",
    "    print(f\"[INFO] FETCH CURRENT SALES TRANSACTIONS\")\n",
    "    \n",
    "    ps_session            = sessionmaker(bind=postgres_engine)\n",
    "    ps_conn               = ps_session()\n",
    "    cst_data              = ps_conn.execute(text(\"SELECT * from current_sales_trnx limit 100000;\"))\n",
    "    cst_df                = pd.DataFrame(cst_data, columns=cst_data.keys())\n",
    "    cst_df[\"INVOICEDATE\"] = pd.to_datetime(cst_df[\"INVOICEDATE\"])\n",
    "    cols_to_conv          = [\"LINEAMOUNT\", \"SALESQTY\", \"COSTPRICE\", \"gross_sales\", \"historical_year\"]\n",
    "    cst_df[cols_to_conv]  = cst_df[cols_to_conv].apply(pd.to_numeric)\n",
    "    \n",
    "    lib.write(\"cst_trnx\", cst_df, prune_previous_versions=True) # , prune_previous_versions=True\n",
    "\n",
    "    return lib\n",
    "\n",
    "\n",
    "lib = fetch_cst_data()"
   ]
  },
  {
   "cell_type": "code",
   "execution_count": 209,
   "metadata": {},
   "outputs": [],
   "source": [
    "q = QueryBuilder()\n",
    "cst_trnx  = pl.DataFrame(rf.get_library(LIBRARY_NAME).read('cst_trnx', query_builder=q).data)"
   ]
  },
  {
   "cell_type": "code",
   "execution_count": 210,
   "metadata": {},
   "outputs": [
    {
     "data": {
      "text/html": [
       "<div><style>\n",
       ".dataframe > thead > tr,\n",
       ".dataframe > tbody > tr {\n",
       "  text-align: right;\n",
       "  white-space: pre-wrap;\n",
       "}\n",
       "</style>\n",
       "<small>shape: (9, 15)</small><table border=\"1\" class=\"dataframe\"><thead><tr><th>statistic</th><th>ITEMID</th><th>channel</th><th>INVENTLOCATIONID</th><th>LINEAMOUNT</th><th>SALESQTY</th><th>COSTPRICE</th><th>gross_sales</th><th>historical_year</th><th>INVOICEDATE</th><th>history_quarter</th><th>history_month</th><th>history_week</th><th>history_day</th><th>to_calculate_the_stock_till_now</th></tr><tr><td>str</td><td>str</td><td>str</td><td>str</td><td>f64</td><td>f64</td><td>f64</td><td>f64</td><td>f64</td><td>str</td><td>str</td><td>str</td><td>str</td><td>str</td><td>f64</td></tr></thead><tbody><tr><td>&quot;count&quot;</td><td>&quot;100000&quot;</td><td>&quot;99986&quot;</td><td>&quot;100000&quot;</td><td>100000.0</td><td>100000.0</td><td>100000.0</td><td>100000.0</td><td>100000.0</td><td>&quot;100000&quot;</td><td>&quot;100000&quot;</td><td>&quot;100000&quot;</td><td>&quot;100000&quot;</td><td>&quot;100000&quot;</td><td>100000.0</td></tr><tr><td>&quot;null_count&quot;</td><td>&quot;0&quot;</td><td>&quot;14&quot;</td><td>&quot;0&quot;</td><td>0.0</td><td>0.0</td><td>0.0</td><td>0.0</td><td>0.0</td><td>&quot;0&quot;</td><td>&quot;0&quot;</td><td>&quot;0&quot;</td><td>&quot;0&quot;</td><td>&quot;0&quot;</td><td>0.0</td></tr><tr><td>&quot;mean&quot;</td><td>null</td><td>null</td><td>null</td><td>3293.529308</td><td>1.65095</td><td>3076.613006</td><td>3320.047084</td><td>2021.95373</td><td>&quot;2022-06-14 09:…</td><td>null</td><td>null</td><td>null</td><td>null</td><td>0.0</td></tr><tr><td>&quot;std&quot;</td><td>null</td><td>null</td><td>null</td><td>17172.741959</td><td>4.235381</td><td>8518.278807</td><td>17208.024918</td><td>0.745033</td><td>null</td><td>null</td><td>null</td><td>null</td><td>null</td><td>0.0</td></tr><tr><td>&quot;min&quot;</td><td>&quot;1ASHACWLYEX24U…</td><td>&quot;&quot;</td><td>&quot;&quot;</td><td>-1.166666e6</td><td>-200.0</td><td>0.0</td><td>-1.166666e6</td><td>2021.0</td><td>&quot;2021-01-01 00:…</td><td>&quot;1&quot;</td><td>&quot;April    &quot;</td><td>&quot;1&quot;</td><td>&quot;Friday   &quot;</td><td>0.0</td></tr><tr><td>&quot;25%&quot;</td><td>null</td><td>null</td><td>null</td><td>220.0</td><td>1.0</td><td>292.97</td><td>220.0</td><td>2021.0</td><td>&quot;2021-10-27 00:…</td><td>null</td><td>null</td><td>null</td><td>null</td><td>0.0</td></tr><tr><td>&quot;50%&quot;</td><td>null</td><td>null</td><td>null</td><td>465.0</td><td>1.0</td><td>717.99</td><td>486.0</td><td>2022.0</td><td>&quot;2022-06-15 00:…</td><td>null</td><td>null</td><td>null</td><td>null</td><td>0.0</td></tr><tr><td>&quot;75%&quot;</td><td>null</td><td>null</td><td>null</td><td>3039.05</td><td>2.0</td><td>3234.98</td><td>3100.0</td><td>2022.0</td><td>&quot;2022-12-10 00:…</td><td>null</td><td>null</td><td>null</td><td>null</td><td>0.0</td></tr><tr><td>&quot;max&quot;</td><td>&quot;1AULACWLUAP12I…</td><td>&quot;WAREHOUSE&quot;</td><td>&quot;re-9014&quot;</td><td>1.166666e6</td><td>200.0</td><td>696126.83</td><td>1.166666e6</td><td>2024.0</td><td>&quot;2024-02-07 00:…</td><td>&quot;4&quot;</td><td>&quot;September&quot;</td><td>&quot;9&quot;</td><td>&quot;Wednesday&quot;</td><td>0.0</td></tr></tbody></table></div>"
      ],
      "text/plain": [
       "shape: (9, 15)\n",
       "┌───────────┬───────────┬───────────┬───────────┬───┬───────────┬───────────┬───────────┬──────────┐\n",
       "│ statistic ┆ ITEMID    ┆ channel   ┆ INVENTLOC ┆ … ┆ history_m ┆ history_w ┆ history_d ┆ to_calcu │\n",
       "│ ---       ┆ ---       ┆ ---       ┆ ATIONID   ┆   ┆ onth      ┆ eek       ┆ ay        ┆ late_the │\n",
       "│ str       ┆ str       ┆ str       ┆ ---       ┆   ┆ ---       ┆ ---       ┆ ---       ┆ _stock_t │\n",
       "│           ┆           ┆           ┆ str       ┆   ┆ str       ┆ str       ┆ str       ┆ ill_now  │\n",
       "│           ┆           ┆           ┆           ┆   ┆           ┆           ┆           ┆ ---      │\n",
       "│           ┆           ┆           ┆           ┆   ┆           ┆           ┆           ┆ f64      │\n",
       "╞═══════════╪═══════════╪═══════════╪═══════════╪═══╪═══════════╪═══════════╪═══════════╪══════════╡\n",
       "│ count     ┆ 100000    ┆ 99986     ┆ 100000    ┆ … ┆ 100000    ┆ 100000    ┆ 100000    ┆ 100000.0 │\n",
       "│ null_coun ┆ 0         ┆ 14        ┆ 0         ┆ … ┆ 0         ┆ 0         ┆ 0         ┆ 0.0      │\n",
       "│ t         ┆           ┆           ┆           ┆   ┆           ┆           ┆           ┆          │\n",
       "│ mean      ┆ null      ┆ null      ┆ null      ┆ … ┆ null      ┆ null      ┆ null      ┆ 0.0      │\n",
       "│ std       ┆ null      ┆ null      ┆ null      ┆ … ┆ null      ┆ null      ┆ null      ┆ 0.0      │\n",
       "│ min       ┆ 1ASHACWLY ┆           ┆           ┆ … ┆ April     ┆ 1         ┆ Friday    ┆ 0.0      │\n",
       "│           ┆ EX24UHEF0 ┆           ┆           ┆   ┆           ┆           ┆           ┆          │\n",
       "│           ┆ 01        ┆           ┆           ┆   ┆           ┆           ┆           ┆          │\n",
       "│ 25%       ┆ null      ┆ null      ┆ null      ┆ … ┆ null      ┆ null      ┆ null      ┆ 0.0      │\n",
       "│ 50%       ┆ null      ┆ null      ┆ null      ┆ … ┆ null      ┆ null      ┆ null      ┆ 0.0      │\n",
       "│ 75%       ┆ null      ┆ null      ┆ null      ┆ … ┆ null      ┆ null      ┆ null      ┆ 0.0      │\n",
       "│ max       ┆ 1AULACWLU ┆ WAREHOUSE ┆ re-9014   ┆ … ┆ September ┆ 9         ┆ Wednesday ┆ 0.0      │\n",
       "│           ┆ AP12ICFL0 ┆           ┆           ┆   ┆           ┆           ┆           ┆          │\n",
       "│           ┆ 01        ┆           ┆           ┆   ┆           ┆           ┆           ┆          │\n",
       "└───────────┴───────────┴───────────┴───────────┴───┴───────────┴───────────┴───────────┴──────────┘"
      ]
     },
     "execution_count": 210,
     "metadata": {},
     "output_type": "execute_result"
    }
   ],
   "source": [
    "cst_trnx.describe()\n"
   ]
  },
  {
   "cell_type": "code",
   "execution_count": 165,
   "metadata": {},
   "outputs": [
    {
     "data": {
      "text/plain": [
       "Library(s(config=LMDB(path=/home/ubuntu/OTB/databases/bmaps_data)), path=RA_DATA, storage=lmdb_storage)"
      ]
     },
     "execution_count": 165,
     "metadata": {},
     "output_type": "execute_result"
    }
   ],
   "source": [
    "lib"
   ]
  },
  {
   "cell_type": "code",
   "execution_count": 211,
   "metadata": {},
   "outputs": [
    {
     "data": {
      "text/html": [
       "<div><style>\n",
       ".dataframe > thead > tr,\n",
       ".dataframe > tbody > tr {\n",
       "  text-align: right;\n",
       "  white-space: pre-wrap;\n",
       "}\n",
       "</style>\n",
       "<small>shape: (7, 2)</small><table border=\"1\" class=\"dataframe\"><thead><tr><th>history_day</th><th>count</th></tr><tr><td>str</td><td>u32</td></tr></thead><tbody><tr><td>&quot;Saturday &quot;</td><td>14694</td></tr><tr><td>&quot;Friday   &quot;</td><td>10127</td></tr><tr><td>&quot;Wednesday&quot;</td><td>15471</td></tr><tr><td>&quot;Monday   &quot;</td><td>15219</td></tr><tr><td>&quot;Tuesday  &quot;</td><td>14878</td></tr><tr><td>&quot;Thursday &quot;</td><td>15222</td></tr><tr><td>&quot;Sunday   &quot;</td><td>14389</td></tr></tbody></table></div>"
      ],
      "text/plain": [
       "shape: (7, 2)\n",
       "┌─────────────┬───────┐\n",
       "│ history_day ┆ count │\n",
       "│ ---         ┆ ---   │\n",
       "│ str         ┆ u32   │\n",
       "╞═════════════╪═══════╡\n",
       "│ Saturday    ┆ 14694 │\n",
       "│ Friday      ┆ 10127 │\n",
       "│ Wednesday   ┆ 15471 │\n",
       "│ Monday      ┆ 15219 │\n",
       "│ Tuesday     ┆ 14878 │\n",
       "│ Thursday    ┆ 15222 │\n",
       "│ Sunday      ┆ 14389 │\n",
       "└─────────────┴───────┘"
      ]
     },
     "execution_count": 211,
     "metadata": {},
     "output_type": "execute_result"
    }
   ],
   "source": [
    "cst_trnx['history_day'].value_counts()"
   ]
  },
  {
   "cell_type": "code",
   "execution_count": 166,
   "metadata": {},
   "outputs": [
    {
     "name": "stdout",
     "output_type": "stream",
     "text": [
      "[INFO] FETCH STOCK TRANSACTIONS\n"
     ]
    }
   ],
   "source": [
    "def fetch_stock_data():\n",
    "  lib = rf.get_library('RA_DATA', create_if_missing=True)\n",
    "\n",
    "  # Get the opening stock\n",
    "  print(f\"[INFO] FETCH STOCK TRANSACTIONS\")\n",
    "\n",
    "  ps_session = sessionmaker(bind=postgres_engine)\n",
    "  ps_conn    = ps_session()\n",
    "\n",
    "  stock_data    = ps_conn.execute(text('''\tSELECT \"ItemLookupCode\" AS \"ITEMID\" ,\n",
    "                                          \"StoreID\" AS \"INVENTLOCATIONID\",\n",
    "                                          SUM(\"Quantity\") AS \"stock_on_hand_qty\",\n",
    "                                          SUM(\"AvailableQTY\") AS \"opening_stock\",\n",
    "                                          SUM(\"AvailableQTY\") AS \"closing_stock\",\n",
    "                                          AVG(\"Price\") AS \"current_stock_cost_at_retail\",\n",
    "                                          0 AS \"stock_received_qty\",\n",
    "                                          SUM(\"Cost\") AS \"opening_stock_at_cost\",\n",
    "                                          0 AS \"adjustment_at_cost\",\n",
    "                                          0 AS \"adjustment_at_retail\",\n",
    "                                          MAX(\"SnapShotTime\") AS \"stock_date\"\n",
    "                                          FROM stock \n",
    "                                          GROUP BY \"ItemLookupCode\",\"StoreID\";\n",
    "                                    '''\n",
    "                                  ))\n",
    "  stock_df      = pd.DataFrame(stock_data, columns=stock_data.keys())\n",
    "  cols_to_conv        = [\"stock_on_hand_qty\", \"opening_stock\", \"closing_stock\", \"current_stock_cost_at_retail\"]\n",
    "  stock_df[cols_to_conv] = stock_df[cols_to_conv].apply(pd.to_numeric)\n",
    "  # problematic_rows = stock_df[pd.to_datetime(stock_df[\"stock_date\"], errors='coerce').isna()]\n",
    "  # print(problematic_rows, 'rows causing datetime err')\n",
    "  # print('hiiii')\n",
    "  stock_df[\"stock_date\"] = pd.to_datetime(stock_df[\"stock_date\"], errors='coerce')\n",
    "\n",
    "  lib.write(\"stock_trnx\", stock_df, prune_previous_versions=True)\n",
    "  # stock_df = None\n",
    "  return lib\n",
    "lib = fetch_stock_data()"
   ]
  },
  {
   "cell_type": "code",
   "execution_count": 167,
   "metadata": {},
   "outputs": [],
   "source": [
    "# type(stock_df['stock_date'].dtypes)"
   ]
  },
  {
   "cell_type": "code",
   "execution_count": 168,
   "metadata": {},
   "outputs": [],
   "source": [
    "q = QueryBuilder()\n",
    "stock_trnx = pl.DataFrame(rf.get_library(LIBRARY_NAME).read('stock_trnx', query_builder=q).data)"
   ]
  },
  {
   "cell_type": "code",
   "execution_count": 169,
   "metadata": {},
   "outputs": [
    {
     "data": {
      "text/html": [
       "<div><style>\n",
       ".dataframe > thead > tr,\n",
       ".dataframe > tbody > tr {\n",
       "  text-align: right;\n",
       "  white-space: pre-wrap;\n",
       "}\n",
       "</style>\n",
       "<small>shape: (1, 2)</small><table border=\"1\" class=\"dataframe\"><thead><tr><th>stock_date</th><th>count</th></tr><tr><td>datetime[ns]</td><td>u32</td></tr></thead><tbody><tr><td>2024-02-26 00:00:00</td><td>112012</td></tr></tbody></table></div>"
      ],
      "text/plain": [
       "shape: (1, 2)\n",
       "┌─────────────────────┬────────┐\n",
       "│ stock_date          ┆ count  │\n",
       "│ ---                 ┆ ---    │\n",
       "│ datetime[ns]        ┆ u32    │\n",
       "╞═════════════════════╪════════╡\n",
       "│ 2024-02-26 00:00:00 ┆ 112012 │\n",
       "└─────────────────────┴────────┘"
      ]
     },
     "execution_count": 169,
     "metadata": {},
     "output_type": "execute_result"
    }
   ],
   "source": [
    "stock_trnx['stock_date'].value_counts()"
   ]
  },
  {
   "cell_type": "code",
   "execution_count": 170,
   "metadata": {},
   "outputs": [
    {
     "name": "stdout",
     "output_type": "stream",
     "text": [
      "INFO OF CLOSING IS AVAILABLE TILL :2024-02-26 AND CURRENT DATE IS: 2024-04-05\n"
     ]
    }
   ],
   "source": [
    "maximum_stock_available_date = datetime.date(stock_trnx['stock_date'].dt.max())\n",
    "today_is = date.today()\n",
    "print(f\"INFO OF CLOSING IS AVAILABLE TILL :{maximum_stock_available_date} AND CURRENT DATE IS: {today_is}\")"
   ]
  },
  {
   "cell_type": "code",
   "execution_count": 171,
   "metadata": {},
   "outputs": [],
   "source": [
    "if maximum_stock_available_date < date.today(): \n",
    "    cst_trnx = cst_trnx.with_columns((pl.when(cst_trnx['INVOICEDATE'].cast(pl.Date) > maximum_stock_available_date, cst_trnx['INVOICEDATE'].cast(pl.Date) < today_is)\n",
    "                                                    .then(cst_trnx['SALESQTY'])\n",
    "                                                    .otherwise(0)).alias('to_calculate_the_stock_till_now'))"
   ]
  },
  {
   "cell_type": "code",
   "execution_count": 172,
   "metadata": {},
   "outputs": [
    {
     "data": {
      "text/plain": [
       "0"
      ]
     },
     "execution_count": 172,
     "metadata": {},
     "output_type": "execute_result"
    }
   ],
   "source": [
    "sales_df['INVOICEDATE'].isnull().sum()          "
   ]
  },
  {
   "cell_type": "code",
   "execution_count": 173,
   "metadata": {},
   "outputs": [],
   "source": [
    "sales_df = cst_trnx.to_pandas()"
   ]
  },
  {
   "cell_type": "code",
   "execution_count": 174,
   "metadata": {},
   "outputs": [
    {
     "data": {
      "text/plain": [
       "VersionedItem(symbol='cst_trnx', library='RA_DATA', data=n/a, version=1, metadata=None, host='LMDB(path=/home/ubuntu/OTB/databases/bmaps_data)')"
      ]
     },
     "execution_count": 174,
     "metadata": {},
     "output_type": "execute_result"
    }
   ],
   "source": [
    "# sales_df.head()\n",
    "lib.write(\"cst_trnx\", sales_df, prune_previous_versions=True)"
   ]
  },
  {
   "cell_type": "code",
   "execution_count": 175,
   "metadata": {},
   "outputs": [
    {
     "data": {
      "text/plain": [
       "(112012, 11)"
      ]
     },
     "execution_count": 175,
     "metadata": {},
     "output_type": "execute_result"
    }
   ],
   "source": [
    "stock_trnx.shape"
   ]
  },
  {
   "cell_type": "code",
   "execution_count": 176,
   "metadata": {},
   "outputs": [
    {
     "data": {
      "text/plain": [
       "datetime.datetime(2024, 2, 26, 0, 0)"
      ]
     },
     "execution_count": 176,
     "metadata": {},
     "output_type": "execute_result"
    }
   ],
   "source": [
    "type(stock_trnx['stock_date'][0])\n",
    "stock_trnx['stock_date'][0]\n",
    "datetime.date(stock_trnx['stock_date'][0])\n",
    "stock_trnx['stock_date'].dt.max()"
   ]
  },
  {
   "cell_type": "code",
   "execution_count": 177,
   "metadata": {},
   "outputs": [
    {
     "data": {
      "text/plain": [
       "(112012, 11)"
      ]
     },
     "execution_count": 177,
     "metadata": {},
     "output_type": "execute_result"
    }
   ],
   "source": [
    "stock_trnx.shape"
   ]
  },
  {
   "cell_type": "code",
   "execution_count": 178,
   "metadata": {},
   "outputs": [
    {
     "name": "stdout",
     "output_type": "stream",
     "text": [
      "[INFO] FETCH KPI TRANSACTIONS\n"
     ]
    }
   ],
   "source": [
    "def fetch_kpi_data():\n",
    "    lib = rf.get_library('RA_DATA', create_if_missing=True)\n",
    "\n",
    "    # Get the opening stock\n",
    "    print(f\"[INFO] FETCH KPI TRANSACTIONS\")\n",
    "\n",
    "    ps_session = sessionmaker(bind=postgres_engine)\n",
    "    ps_conn    = ps_session()\n",
    "\n",
    "    kpi_data    = ps_conn.execute(text(\"SELECT * from kpi_table;\"))\n",
    "    kpi_df      = pd.DataFrame(kpi_data, columns=kpi_data.keys())\n",
    "\n",
    "    # ra_df[\"Budget_date\"]      = pd.to_datetime(ra_df[\"Budget_date\"])\n",
    "    # ra_df[\"ENDOFLife\"]  = ra_df[\"ENDOFLife\"].fillna(\"\")\n",
    "    # cols_to_conv        = [\"budget_qty\"]\n",
    "\n",
    "    # cols_to_conv        = [\"ClosingStock\", \"TotalPurchaseQty\", \"StockOnHandQty\", \"UnitsBuyBySku\", \"BudgetQTY\", \"OpeningStock\"]\n",
    "    # ra_df[cols_to_conv] = ra_df[cols_to_conv].apply(pd.to_numeric)\n",
    "  \n",
    "    lib.write(\"kpi_trnx\", kpi_df, prune_previous_versions=True)#,prune_previous_versions=True\n",
    "    return lib\n",
    "lib = fetch_kpi_data()\n"
   ]
  },
  {
   "cell_type": "code",
   "execution_count": 179,
   "metadata": {},
   "outputs": [],
   "source": [
    "q = QueryBuilder()\n",
    "kpi_trnx  = pl.DataFrame(rf.get_library(LIBRARY_NAME).read(\"kpi_trnx\", query_builder=q).data)"
   ]
  },
  {
   "cell_type": "code",
   "execution_count": 180,
   "metadata": {},
   "outputs": [
    {
     "data": {
      "text/plain": [
       "(2847, 15)"
      ]
     },
     "execution_count": 180,
     "metadata": {},
     "output_type": "execute_result"
    }
   ],
   "source": [
    "kpi_trnx.shape"
   ]
  },
  {
   "cell_type": "code",
   "execution_count": 181,
   "metadata": {},
   "outputs": [
    {
     "data": {
      "text/plain": [
       "['RA_DATA', 'SP_DATA']"
      ]
     },
     "execution_count": 181,
     "metadata": {},
     "output_type": "execute_result"
    }
   ],
   "source": [
    "rf.list_libraries()"
   ]
  },
  {
   "cell_type": "code",
   "execution_count": 183,
   "metadata": {},
   "outputs": [
    {
     "name": "stdout",
     "output_type": "stream",
     "text": [
      "(stock_trnx_v0, (date=2024-04-05 07:04:04.818796748+00:00))\n",
      "(ra_trnx_v0, (date=2024-04-05 07:03:18.343212761+00:00))\n",
      "(kpi_trnx_v0, (date=2024-04-05 07:04:12.068450644+00:00))\n",
      "(item_master_v0, (date=2024-04-05 07:02:28.163985199+00:00))\n",
      "(cst_trnx_v1, (date=2024-04-05 07:04:09.275053066+00:00))\n",
      "(stock_trnx_v0, (date=2024-04-05 07:04:04.818796748+00:00)) (ra_trnx_v0, (date=2024-04-05 07:03:18.343212761+00:00)) (kpi_trnx_v0, (date=2024-04-05 07:04:12.068450644+00:00)) (item_master_v0, (date=2024-04-05 07:02:28.163985199+00:00)) (cst_trnx_v1, (date=2024-04-05 07:04:09.275053066+00:00)) the symbol version\n"
     ]
    }
   ],
   "source": [
    "print(*map(lambda item:(print(item), item)[1], lib.list_versions().items()), 'the symbol version')"
   ]
  },
  {
   "cell_type": "code",
   "execution_count": 184,
   "metadata": {},
   "outputs": [],
   "source": [
    "import rapidframes\n",
    "class rapidframe_symbols:\n",
    "    #Class attributes\n",
    "    ITEM_MASTER  = 'item_master'\n",
    "    RA_TRNX      = 'ra_trnx'\n",
    "    CST_TRNX     = 'cst_trnx'\n",
    "    STOCK_TRNX   = 'stock_trnx'\n",
    "    KPI_TRNX     = 'kpi_trnx'\n",
    "    # Join the symbols\n",
    "    ITEM_RA      = 'item_ra_joined'\n",
    "    RA_STOCK     = 'ra_stock_joined'\n",
    "    STOCK_CST    = 'stock_cst_joined'\n",
    "    CST_KPI      = 'cst_kpi_joined'\n",
    "    \n",
    "    def combine_the_rapid_frame_symbols(self, rf : rapidframes.repidf.RapiDF, Stack : str, First, Last, LIBRARY_NAME, join_element):\n",
    "        \n",
    "        rf.get_library(LIBRARY_NAME).write(\n",
    "            Stack,\n",
    "            First.join(Last,\n",
    "            on=join_element,\n",
    "            how='left' \n",
    "            ).to_pandas(), prune_previous_versions=True\n",
    "        )\n",
    "# symbols = rapidframe_symbols()"
   ]
  },
  {
   "cell_type": "code",
   "execution_count": 185,
   "metadata": {},
   "outputs": [],
   "source": [
    "# symbols.combine_the_rapid_frame_symbols(rf, symbols.ITEM_RA, item_master, ra_trnx, LIBRARY_NAME, list('ITEMID'))"
   ]
  },
  {
   "cell_type": "code",
   "execution_count": 186,
   "metadata": {},
   "outputs": [
    {
     "data": {
      "text/html": [
       "<div><style>\n",
       ".dataframe > thead > tr,\n",
       ".dataframe > tbody > tr {\n",
       "  text-align: right;\n",
       "  white-space: pre-wrap;\n",
       "}\n",
       "</style>\n",
       "<small>shape: (9_792_848, 11)</small><table border=\"1\" class=\"dataframe\"><thead><tr><th>Store</th><th>area</th><th>Region</th><th>adjusted_budget_gross_margin_percent</th><th>budget_amount</th><th>budget_cost</th><th>budget_qty</th><th>ITEMID</th><th>Channel</th><th>INVENTLOCATIONID</th><th>Budget_date</th></tr><tr><td>str</td><td>str</td><td>str</td><td>f64</td><td>f64</td><td>f64</td><td>f64</td><td>str</td><td>str</td><td>str</td><td>datetime[ns]</td></tr></thead><tbody><tr><td>&quot;Shoubra Branch…</td><td>&quot;unknown&quot;</td><td>&quot;unknown&quot;</td><td>20.0</td><td>307.116348</td><td>245.693079</td><td>3.0</td><td>&quot;1SBBPWHC00ST39…</td><td>&quot;Retail&quot;</td><td>&quot;Re-1023&quot;</td><td>2024-03-28 00:00:00</td></tr><tr><td>&quot;Gesr El Suez B…</td><td>&quot;unknown&quot;</td><td>&quot;unknown&quot;</td><td>20.0</td><td>0.0</td><td>-0.0</td><td>3.0</td><td>&quot;1SBBPWHC00ST39…</td><td>&quot;Retail&quot;</td><td>&quot;Re-1045&quot;</td><td>2024-03-27 00:00:00</td></tr><tr><td>&quot;Gesr El Suez B…</td><td>&quot;unknown&quot;</td><td>&quot;unknown&quot;</td><td>20.0</td><td>0.0</td><td>-0.0</td><td>3.0</td><td>&quot;1SBBPWHC00ST39…</td><td>&quot;Retail&quot;</td><td>&quot;Re-1045&quot;</td><td>2024-03-28 00:00:00</td></tr><tr><td>&quot;Asafra Branch&quot;</td><td>&quot;unknown&quot;</td><td>&quot;unknown&quot;</td><td>20.0</td><td>40.804668</td><td>32.643735</td><td>3.0</td><td>&quot;1SBBPWHC00ST39…</td><td>&quot;Retail&quot;</td><td>&quot;Re-2011&quot;</td><td>2024-03-27 00:00:00</td></tr><tr><td>&quot;Asafra Branch&quot;</td><td>&quot;unknown&quot;</td><td>&quot;unknown&quot;</td><td>20.0</td><td>40.804668</td><td>32.643735</td><td>3.0</td><td>&quot;1SBBPWHC00ST39…</td><td>&quot;Retail&quot;</td><td>&quot;Re-2011&quot;</td><td>2024-03-28 00:00:00</td></tr><tr><td>&quot;Mega Alex Sidi…</td><td>&quot;Alex&quot;</td><td>&quot;ALEXANDRIA&quot;</td><td>20.0</td><td>588.349469</td><td>470.679575</td><td>3.0</td><td>&quot;1SBBPWHC00ST39…</td><td>&quot;Retail&quot;</td><td>&quot;Re-2022&quot;</td><td>2024-03-27 00:00:00</td></tr><tr><td>&quot;Mega Alex Sidi…</td><td>&quot;Alex&quot;</td><td>&quot;ALEXANDRIA&quot;</td><td>20.0</td><td>588.349469</td><td>470.679575</td><td>3.0</td><td>&quot;1SBBPWHC00ST39…</td><td>&quot;Retail&quot;</td><td>&quot;Re-2022&quot;</td><td>2024-03-28 00:00:00</td></tr><tr><td>&quot;El Sadat Branc…</td><td>&quot;unknown&quot;</td><td>&quot;unknown&quot;</td><td>20.0</td><td>116.839758</td><td>93.471807</td><td>3.0</td><td>&quot;1SBBPWHC00ST39…</td><td>&quot;Retail&quot;</td><td>&quot;Re-3020&quot;</td><td>2024-03-27 00:00:00</td></tr><tr><td>&quot;El Sadat Branc…</td><td>&quot;unknown&quot;</td><td>&quot;unknown&quot;</td><td>20.0</td><td>116.839758</td><td>93.471807</td><td>3.0</td><td>&quot;1SBBPWHC00ST39…</td><td>&quot;Retail&quot;</td><td>&quot;Re-3020&quot;</td><td>2024-03-28 00:00:00</td></tr><tr><td>&quot;Sohag Branch&quot;</td><td>&quot;unknown&quot;</td><td>&quot;unknown&quot;</td><td>20.0</td><td>0.0</td><td>-0.0</td><td>3.0</td><td>&quot;1SBBPWHC00ST39…</td><td>&quot;Retail&quot;</td><td>&quot;Re-4004&quot;</td><td>2024-03-27 00:00:00</td></tr><tr><td>&quot;Sohag Branch&quot;</td><td>&quot;unknown&quot;</td><td>&quot;unknown&quot;</td><td>20.0</td><td>0.0</td><td>-0.0</td><td>3.0</td><td>&quot;1SBBPWHC00ST39…</td><td>&quot;Retail&quot;</td><td>&quot;Re-4004&quot;</td><td>2024-03-28 00:00:00</td></tr><tr><td>&quot;Alex WH&quot;</td><td>&quot;Alex&quot;</td><td>&quot;ALEXANDRIA&quot;</td><td>20.0</td><td>282.178954</td><td>225.743163</td><td>2.0</td><td>&quot;1SBBPWHC00ST39…</td><td>&quot;WAREHOUSE&quot;</td><td>&quot;Re-9005&quot;</td><td>2024-03-27 00:00:00</td></tr><tr><td>&hellip;</td><td>&hellip;</td><td>&hellip;</td><td>&hellip;</td><td>&hellip;</td><td>&hellip;</td><td>&hellip;</td><td>&hellip;</td><td>&hellip;</td><td>&hellip;</td><td>&hellip;</td></tr><tr><td>&quot;Beni Suef Bran…</td><td>&quot;unknown&quot;</td><td>&quot;unknown&quot;</td><td>20.0</td><td>754.566085</td><td>603.652868</td><td>12.0</td><td>&quot;1STNMIGRMOMC25…</td><td>&quot;Retail&quot;</td><td>&quot;Re-4001&quot;</td><td>2024-03-28 00:00:00</td></tr><tr><td>&quot;Luxor Branch&quot;</td><td>&quot;unknown&quot;</td><td>&quot;unknown&quot;</td><td>20.0</td><td>1233.140651</td><td>986.512521</td><td>12.0</td><td>&quot;1STNMIGRMOMC25…</td><td>&quot;Retail&quot;</td><td>&quot;Re-4010&quot;</td><td>2024-03-27 00:00:00</td></tr><tr><td>&quot;Luxor Branch&quot;</td><td>&quot;unknown&quot;</td><td>&quot;unknown&quot;</td><td>20.0</td><td>1233.140651</td><td>986.512521</td><td>12.0</td><td>&quot;1STNMIGRMOMC25…</td><td>&quot;Retail&quot;</td><td>&quot;Re-4010&quot;</td><td>2024-03-28 00:00:00</td></tr><tr><td>&quot;26Th July Bran…</td><td>&quot;unknown&quot;</td><td>&quot;unknown&quot;</td><td>20.0</td><td>350.969115</td><td>280.775292</td><td>4.0</td><td>&quot;1STFIRSTFV5751…</td><td>&quot;Retail&quot;</td><td>&quot;Re-1021&quot;</td><td>2024-03-27 00:00:00</td></tr><tr><td>&quot;26Th July Bran…</td><td>&quot;unknown&quot;</td><td>&quot;unknown&quot;</td><td>20.0</td><td>350.969115</td><td>280.775292</td><td>4.0</td><td>&quot;1STFIRSTFV5751…</td><td>&quot;Retail&quot;</td><td>&quot;Re-1021&quot;</td><td>2024-03-28 00:00:00</td></tr><tr><td>&quot;Haram Branch&quot;</td><td>&quot;unknown&quot;</td><td>&quot;unknown&quot;</td><td>10.0</td><td>202.481346</td><td>182.233211</td><td>4.0</td><td>&quot;1STFIRSTFV5751…</td><td>&quot;Retail&quot;</td><td>&quot;Re-1019&quot;</td><td>2024-03-27 00:00:00</td></tr><tr><td>&quot;Haram Branch&quot;</td><td>&quot;unknown&quot;</td><td>&quot;unknown&quot;</td><td>10.0</td><td>202.481346</td><td>182.233211</td><td>4.0</td><td>&quot;1STFIRSTFV5751…</td><td>&quot;Retail&quot;</td><td>&quot;Re-1019&quot;</td><td>2024-03-28 00:00:00</td></tr><tr><td>&quot;Maadi Branch-E…</td><td>&quot;unknown&quot;</td><td>&quot;unknown&quot;</td><td>20.0</td><td>145.580986</td><td>116.464789</td><td>7.0</td><td>&quot;1SBRPCSV310BT0…</td><td>&quot;Retail&quot;</td><td>&quot;Re-1030&quot;</td><td>2024-03-27 00:00:00</td></tr><tr><td>&quot;Maadi Branch-E…</td><td>&quot;unknown&quot;</td><td>&quot;unknown&quot;</td><td>20.0</td><td>145.580986</td><td>116.464789</td><td>7.0</td><td>&quot;1SBRPCSV310BT0…</td><td>&quot;Retail&quot;</td><td>&quot;Re-1030&quot;</td><td>2024-03-28 00:00:00</td></tr><tr><td>&quot;Alex WH&quot;</td><td>&quot;Alex&quot;</td><td>&quot;ALEXANDRIA&quot;</td><td>20.0</td><td>1583.195143</td><td>1266.556115</td><td>6.0</td><td>&quot;1STNHEELTEEE50…</td><td>&quot;WAREHOUSE&quot;</td><td>&quot;Re-9005&quot;</td><td>2024-03-27 00:00:00</td></tr><tr><td>&quot;Alex WH&quot;</td><td>&quot;Alex&quot;</td><td>&quot;ALEXANDRIA&quot;</td><td>20.0</td><td>1583.195143</td><td>1266.556115</td><td>6.0</td><td>&quot;1STNHEELTEEE50…</td><td>&quot;WAREHOUSE&quot;</td><td>&quot;Re-9005&quot;</td><td>2024-03-28 00:00:00</td></tr><tr><td>&quot;Shoubra Branch…</td><td>&quot;unknown&quot;</td><td>&quot;unknown&quot;</td><td>20.0</td><td>307.116348</td><td>245.693079</td><td>3.0</td><td>&quot;1SBBPWHC00ST39…</td><td>&quot;Retail&quot;</td><td>&quot;Re-1023&quot;</td><td>2024-03-27 00:00:00</td></tr></tbody></table></div>"
      ],
      "text/plain": [
       "shape: (9_792_848, 11)\n",
       "┌────────────┬─────────┬───────────┬───────────┬───┬───────────┬───────────┬───────────┬───────────┐\n",
       "│ Store      ┆ area    ┆ Region    ┆ adjusted_ ┆ … ┆ ITEMID    ┆ Channel   ┆ INVENTLOC ┆ Budget_da │\n",
       "│ ---        ┆ ---     ┆ ---       ┆ budget_gr ┆   ┆ ---       ┆ ---       ┆ ATIONID   ┆ te        │\n",
       "│ str        ┆ str     ┆ str       ┆ oss_margi ┆   ┆ str       ┆ str       ┆ ---       ┆ ---       │\n",
       "│            ┆         ┆           ┆ n_per…    ┆   ┆           ┆           ┆ str       ┆ datetime[ │\n",
       "│            ┆         ┆           ┆ ---       ┆   ┆           ┆           ┆           ┆ ns]       │\n",
       "│            ┆         ┆           ┆ f64       ┆   ┆           ┆           ┆           ┆           │\n",
       "╞════════════╪═════════╪═══════════╪═══════════╪═══╪═══════════╪═══════════╪═══════════╪═══════════╡\n",
       "│ Shoubra    ┆ unknown ┆ unknown   ┆ 20.0      ┆ … ┆ 1SBBPWHC0 ┆ Retail    ┆ Re-1023   ┆ 2024-03-2 │\n",
       "│ Branch     ┆         ┆           ┆           ┆   ┆ 0ST395EC0 ┆           ┆           ┆ 8         │\n",
       "│            ┆         ┆           ┆           ┆   ┆ 16        ┆           ┆           ┆ 00:00:00  │\n",
       "│ Gesr El    ┆ unknown ┆ unknown   ┆ 20.0      ┆ … ┆ 1SBBPWHC0 ┆ Retail    ┆ Re-1045   ┆ 2024-03-2 │\n",
       "│ Suez       ┆         ┆           ┆           ┆   ┆ 0ST395EC0 ┆           ┆           ┆ 7         │\n",
       "│ Branch     ┆         ┆           ┆           ┆   ┆ 16        ┆           ┆           ┆ 00:00:00  │\n",
       "│ Gesr El    ┆ unknown ┆ unknown   ┆ 20.0      ┆ … ┆ 1SBBPWHC0 ┆ Retail    ┆ Re-1045   ┆ 2024-03-2 │\n",
       "│ Suez       ┆         ┆           ┆           ┆   ┆ 0ST395EC0 ┆           ┆           ┆ 8         │\n",
       "│ Branch     ┆         ┆           ┆           ┆   ┆ 16        ┆           ┆           ┆ 00:00:00  │\n",
       "│ Asafra     ┆ unknown ┆ unknown   ┆ 20.0      ┆ … ┆ 1SBBPWHC0 ┆ Retail    ┆ Re-2011   ┆ 2024-03-2 │\n",
       "│ Branch     ┆         ┆           ┆           ┆   ┆ 0ST395EC0 ┆           ┆           ┆ 7         │\n",
       "│            ┆         ┆           ┆           ┆   ┆ 16        ┆           ┆           ┆ 00:00:00  │\n",
       "│ Asafra     ┆ unknown ┆ unknown   ┆ 20.0      ┆ … ┆ 1SBBPWHC0 ┆ Retail    ┆ Re-2011   ┆ 2024-03-2 │\n",
       "│ Branch     ┆         ┆           ┆           ┆   ┆ 0ST395EC0 ┆           ┆           ┆ 8         │\n",
       "│            ┆         ┆           ┆           ┆   ┆ 16        ┆           ┆           ┆ 00:00:00  │\n",
       "│ …          ┆ …       ┆ …         ┆ …         ┆ … ┆ …         ┆ …         ┆ …         ┆ …         │\n",
       "│ Maadi      ┆ unknown ┆ unknown   ┆ 20.0      ┆ … ┆ 1SBRPCSV3 ┆ Retail    ┆ Re-1030   ┆ 2024-03-2 │\n",
       "│ Branch-El  ┆         ┆           ┆           ┆   ┆ 10BT000L0 ┆           ┆           ┆ 7         │\n",
       "│ Laselky    ┆         ┆           ┆           ┆   ┆ 29        ┆           ┆           ┆ 00:00:00  │\n",
       "│ St.        ┆         ┆           ┆           ┆   ┆           ┆           ┆           ┆           │\n",
       "│ Maadi      ┆ unknown ┆ unknown   ┆ 20.0      ┆ … ┆ 1SBRPCSV3 ┆ Retail    ┆ Re-1030   ┆ 2024-03-2 │\n",
       "│ Branch-El  ┆         ┆           ┆           ┆   ┆ 10BT000L0 ┆           ┆           ┆ 8         │\n",
       "│ Laselky    ┆         ┆           ┆           ┆   ┆ 29        ┆           ┆           ┆ 00:00:00  │\n",
       "│ St.        ┆         ┆           ┆           ┆   ┆           ┆           ┆           ┆           │\n",
       "│ Alex WH    ┆ Alex    ┆ ALEXANDRI ┆ 20.0      ┆ … ┆ 1STNHEELT ┆ WAREHOUSE ┆ Re-9005   ┆ 2024-03-2 │\n",
       "│            ┆         ┆ A         ┆           ┆   ┆ EEE50DSL0 ┆           ┆           ┆ 7         │\n",
       "│            ┆         ┆           ┆           ┆   ┆ 08        ┆           ┆           ┆ 00:00:00  │\n",
       "│ Alex WH    ┆ Alex    ┆ ALEXANDRI ┆ 20.0      ┆ … ┆ 1STNHEELT ┆ WAREHOUSE ┆ Re-9005   ┆ 2024-03-2 │\n",
       "│            ┆         ┆ A         ┆           ┆   ┆ EEE50DSL0 ┆           ┆           ┆ 8         │\n",
       "│            ┆         ┆           ┆           ┆   ┆ 08        ┆           ┆           ┆ 00:00:00  │\n",
       "│ Shoubra    ┆ unknown ┆ unknown   ┆ 20.0      ┆ … ┆ 1SBBPWHC0 ┆ Retail    ┆ Re-1023   ┆ 2024-03-2 │\n",
       "│ Branch     ┆         ┆           ┆           ┆   ┆ 0ST395EC0 ┆           ┆           ┆ 7         │\n",
       "│            ┆         ┆           ┆           ┆   ┆ 16        ┆           ┆           ┆ 00:00:00  │\n",
       "└────────────┴─────────┴───────────┴───────────┴───┴───────────┴───────────┴───────────┴───────────┘"
      ]
     },
     "execution_count": 186,
     "metadata": {},
     "output_type": "execute_result"
    }
   ],
   "source": [
    "ra_trnx"
   ]
  },
  {
   "cell_type": "code",
   "execution_count": 187,
   "metadata": {},
   "outputs": [
    {
     "data": {
      "text/plain": [
       "VersionedItem(symbol='ra_item_joined', library='RA_DATA', data=n/a, version=0, metadata=None, host='LMDB(path=/home/ubuntu/OTB/databases/bmaps_data)')"
      ]
     },
     "execution_count": 187,
     "metadata": {},
     "output_type": "execute_result"
    }
   ],
   "source": [
    "rf.get_library(LIBRARY_NAME).append(\n",
    "            'ra_item_joined',\n",
    "            ra_trnx.join(item_master,\n",
    "            on=['ITEMID'],\n",
    "            how='left' \n",
    "            ).to_pandas(), prune_previous_versions=True\n",
    "        )"
   ]
  },
  {
   "cell_type": "code",
   "execution_count": 188,
   "metadata": {},
   "outputs": [],
   "source": [
    "q=QueryBuilder()\n",
    "ra_item_joined = pl.DataFrame(rf.get_library(LIBRARY_NAME).read('ra_item_joined', query_builder=q).data)"
   ]
  },
  {
   "cell_type": "code",
   "execution_count": 189,
   "metadata": {},
   "outputs": [
    {
     "data": {
      "text/plain": [
       "(9792848, 24)"
      ]
     },
     "execution_count": 189,
     "metadata": {},
     "output_type": "execute_result"
    }
   ],
   "source": [
    "ra_item_joined.shape"
   ]
  },
  {
   "cell_type": "code",
   "execution_count": 190,
   "metadata": {},
   "outputs": [
    {
     "data": {
      "text/plain": [
       "VersionedItem(symbol='ra_stock_joined', library='RA_DATA', data=n/a, version=0, metadata=None, host='LMDB(path=/home/ubuntu/OTB/databases/bmaps_data)')"
      ]
     },
     "execution_count": 190,
     "metadata": {},
     "output_type": "execute_result"
    }
   ],
   "source": [
    "rf.get_library(LIBRARY_NAME).append(\n",
    "            'ra_stock_joined',\n",
    "            ra_item_joined.join(stock_trnx,\n",
    "            on=['ITEMID', 'INVENTLOCATIONID'],\n",
    "            how='left' \n",
    "            ).to_pandas(), prune_previous_versions=True\n",
    "        )"
   ]
  },
  {
   "cell_type": "code",
   "execution_count": 191,
   "metadata": {},
   "outputs": [],
   "source": [
    "q=QueryBuilder()\n",
    "ra_stock_joined = pl.DataFrame(rf.get_library(LIBRARY_NAME).read('ra_stock_joined', query_builder=q).data)\n",
    "# ra_stock_joined.dtypes"
   ]
  },
  {
   "cell_type": "code",
   "execution_count": 192,
   "metadata": {},
   "outputs": [
    {
     "data": {
      "text/html": [
       "<div><style>\n",
       ".dataframe > thead > tr,\n",
       ".dataframe > tbody > tr {\n",
       "  text-align: right;\n",
       "  white-space: pre-wrap;\n",
       "}\n",
       "</style>\n",
       "<small>shape: (1, 2)</small><table border=\"1\" class=\"dataframe\"><thead><tr><th>stock_date</th><th>count</th></tr><tr><td>datetime[ns]</td><td>u32</td></tr></thead><tbody><tr><td>2024-02-26 00:00:00</td><td>112012</td></tr></tbody></table></div>"
      ],
      "text/plain": [
       "shape: (1, 2)\n",
       "┌─────────────────────┬────────┐\n",
       "│ stock_date          ┆ count  │\n",
       "│ ---                 ┆ ---    │\n",
       "│ datetime[ns]        ┆ u32    │\n",
       "╞═════════════════════╪════════╡\n",
       "│ 2024-02-26 00:00:00 ┆ 112012 │\n",
       "└─────────────────────┴────────┘"
      ]
     },
     "execution_count": 192,
     "metadata": {},
     "output_type": "execute_result"
    }
   ],
   "source": [
    "stock_trnx['stock_date'].value_counts()"
   ]
  },
  {
   "cell_type": "code",
   "execution_count": 193,
   "metadata": {},
   "outputs": [],
   "source": [
    "ra_stock_joined = ra_stock_joined.with_columns(pl.col('stock_date').fill_null(datetime(2024,2,26,00,00,00)))"
   ]
  },
  {
   "cell_type": "code",
   "execution_count": 194,
   "metadata": {},
   "outputs": [
    {
     "data": {
      "text/plain": [
       "datetime.datetime(2021, 1, 1, 0, 0)"
      ]
     },
     "execution_count": 194,
     "metadata": {},
     "output_type": "execute_result"
    }
   ],
   "source": [
    "cst_trnx['INVOICEDATE'].cast(pl.Date)[0]\n",
    "cst_trnx['INVOICEDATE'].dt.min()"
   ]
  },
  {
   "cell_type": "code",
   "execution_count": 195,
   "metadata": {},
   "outputs": [
    {
     "data": {
      "text/html": [
       "<div><style>\n",
       ".dataframe > thead > tr,\n",
       ".dataframe > tbody > tr {\n",
       "  text-align: right;\n",
       "  white-space: pre-wrap;\n",
       "}\n",
       "</style>\n",
       "<small>shape: (100_000,)</small><table border=\"1\" class=\"dataframe\"><thead><tr><th>historical_year</th></tr><tr><td>i64</td></tr></thead><tbody><tr><td>2021</td></tr><tr><td>2021</td></tr><tr><td>2021</td></tr><tr><td>2021</td></tr><tr><td>2021</td></tr><tr><td>2021</td></tr><tr><td>2021</td></tr><tr><td>2021</td></tr><tr><td>2021</td></tr><tr><td>2021</td></tr><tr><td>2021</td></tr><tr><td>2021</td></tr><tr><td>&hellip;</td></tr><tr><td>2021</td></tr><tr><td>2021</td></tr><tr><td>2021</td></tr><tr><td>2021</td></tr><tr><td>2021</td></tr><tr><td>2021</td></tr><tr><td>2021</td></tr><tr><td>2021</td></tr><tr><td>2021</td></tr><tr><td>2021</td></tr><tr><td>2021</td></tr><tr><td>2021</td></tr></tbody></table></div>"
      ],
      "text/plain": [
       "shape: (100_000,)\n",
       "Series: 'historical_year' [i64]\n",
       "[\n",
       "\t2021\n",
       "\t2021\n",
       "\t2021\n",
       "\t2021\n",
       "\t2021\n",
       "\t2021\n",
       "\t2021\n",
       "\t2021\n",
       "\t2021\n",
       "\t2021\n",
       "\t2021\n",
       "\t2021\n",
       "\t…\n",
       "\t2023\n",
       "\t2021\n",
       "\t2021\n",
       "\t2021\n",
       "\t2021\n",
       "\t2021\n",
       "\t2021\n",
       "\t2021\n",
       "\t2021\n",
       "\t2021\n",
       "\t2021\n",
       "\t2021\n",
       "\t2021\n",
       "]"
      ]
     },
     "execution_count": 195,
     "metadata": {},
     "output_type": "execute_result"
    }
   ],
   "source": [
    "cst_trnx['historical_year']"
   ]
  },
  {
   "cell_type": "code",
   "execution_count": 196,
   "metadata": {},
   "outputs": [
    {
     "data": {
      "text/plain": [
       "['gross_sales',\n",
       " 'LINEAMOUNT',\n",
       " 'LINEAMOUNT',\n",
       " 'LINEAMOUNT',\n",
       " 'gross_sales',\n",
       " 'gross_sales',\n",
       " 'gross_sales',\n",
       " 'INVOICEDATE',\n",
       " 'history_month',\n",
       " 'LINEAMOUNT',\n",
       " 'COSTPRICE',\n",
       " 'COSTPRICE',\n",
       " 'LINEAMOUNT',\n",
       " 'LINEAMOUNT',\n",
       " 'LINEAMOUNT',\n",
       " 'gross_sales',\n",
       " 'LINEAMOUNT',\n",
       " 'LINEAMOUNT',\n",
       " 'gross_sales',\n",
       " 'gross_sales',\n",
       " 'LINEAMOUNT',\n",
       " 'COSTPRICE',\n",
       " 'LINEAMOUNT',\n",
       " 'COSTPRICE',\n",
       " 'LINEAMOUNT',\n",
       " 'gross_sales',\n",
       " 'gross_sales',\n",
       " 'LINEAMOUNT',\n",
       " 'gross_sales',\n",
       " 'LINEAMOUNT',\n",
       " 'LINEAMOUNT',\n",
       " 'COSTPRICE',\n",
       " 'INVOICEDATE',\n",
       " 'LINEAMOUNT',\n",
       " 'gross_sales',\n",
       " 'gross_sales',\n",
       " 'LINEAMOUNT',\n",
       " 'LINEAMOUNT',\n",
       " 'LINEAMOUNT',\n",
       " 'COSTPRICE',\n",
       " 'LINEAMOUNT',\n",
       " 'gross_sales',\n",
       " 'gross_sales',\n",
       " 'gross_sales',\n",
       " 'gross_sales',\n",
       " 'COSTPRICE',\n",
       " 'gross_sales',\n",
       " 'COSTPRICE',\n",
       " 'INVOICEDATE',\n",
       " 'gross_sales',\n",
       " 'LINEAMOUNT',\n",
       " 'LINEAMOUNT',\n",
       " 'COSTPRICE',\n",
       " 'gross_sales',\n",
       " 'LINEAMOUNT',\n",
       " 'INVOICEDATE',\n",
       " 'LINEAMOUNT',\n",
       " 'gross_sales',\n",
       " 'LINEAMOUNT',\n",
       " 'LINEAMOUNT',\n",
       " 'gross_sales',\n",
       " 'LINEAMOUNT',\n",
       " 'COSTPRICE',\n",
       " 'gross_sales',\n",
       " 'LINEAMOUNT',\n",
       " 'LINEAMOUNT',\n",
       " 'LINEAMOUNT',\n",
       " 'LINEAMOUNT',\n",
       " 'LINEAMOUNT',\n",
       " 'COSTPRICE',\n",
       " 'LINEAMOUNT',\n",
       " 'gross_sales',\n",
       " 'LINEAMOUNT',\n",
       " 'LINEAMOUNT',\n",
       " 'COSTPRICE',\n",
       " 'gross_sales',\n",
       " 'gross_sales',\n",
       " 'COSTPRICE',\n",
       " 'gross_sales',\n",
       " 'gross_sales',\n",
       " 'COSTPRICE',\n",
       " 'gross_sales',\n",
       " 'gross_sales',\n",
       " 'gross_sales',\n",
       " 'ITEMID',\n",
       " 'gross_sales',\n",
       " 'COSTPRICE',\n",
       " 'COSTPRICE',\n",
       " 'INVOICEDATE',\n",
       " 'COSTPRICE',\n",
       " 'COSTPRICE',\n",
       " 'COSTPRICE',\n",
       " 'LINEAMOUNT',\n",
       " 'LINEAMOUNT',\n",
       " 'LINEAMOUNT',\n",
       " 'LINEAMOUNT',\n",
       " 'LINEAMOUNT',\n",
       " 'COSTPRICE',\n",
       " 'COSTPRICE',\n",
       " 'gross_sales',\n",
       " 'LINEAMOUNT',\n",
       " 'LINEAMOUNT',\n",
       " 'gross_sales',\n",
       " 'COSTPRICE',\n",
       " 'gross_sales',\n",
       " 'COSTPRICE',\n",
       " 'LINEAMOUNT',\n",
       " 'SALESQTY',\n",
       " 'LINEAMOUNT',\n",
       " 'LINEAMOUNT',\n",
       " 'gross_sales',\n",
       " 'gross_sales',\n",
       " 'LINEAMOUNT',\n",
       " 'COSTPRICE',\n",
       " 'COSTPRICE',\n",
       " 'COSTPRICE',\n",
       " 'LINEAMOUNT',\n",
       " 'COSTPRICE',\n",
       " 'COSTPRICE',\n",
       " 'COSTPRICE',\n",
       " 'gross_sales',\n",
       " 'gross_sales',\n",
       " 'LINEAMOUNT',\n",
       " 'gross_sales',\n",
       " 'LINEAMOUNT',\n",
       " 'gross_sales',\n",
       " 'LINEAMOUNT',\n",
       " 'gross_sales',\n",
       " 'gross_sales',\n",
       " 'ITEMID',\n",
       " 'COSTPRICE',\n",
       " 'COSTPRICE',\n",
       " 'COSTPRICE',\n",
       " 'LINEAMOUNT',\n",
       " 'gross_sales',\n",
       " 'gross_sales',\n",
       " 'COSTPRICE',\n",
       " 'LINEAMOUNT',\n",
       " 'LINEAMOUNT',\n",
       " 'gross_sales',\n",
       " 'COSTPRICE',\n",
       " 'SALESQTY',\n",
       " 'INVOICEDATE',\n",
       " 'COSTPRICE',\n",
       " 'COSTPRICE',\n",
       " 'gross_sales',\n",
       " 'gross_sales',\n",
       " 'INVOICEDATE',\n",
       " 'gross_sales',\n",
       " 'LINEAMOUNT',\n",
       " 'gross_sales',\n",
       " 'gross_sales',\n",
       " 'gross_sales',\n",
       " 'LINEAMOUNT',\n",
       " 'gross_sales',\n",
       " 'LINEAMOUNT',\n",
       " 'LINEAMOUNT',\n",
       " 'LINEAMOUNT',\n",
       " 'INVOICEDATE',\n",
       " 'LINEAMOUNT',\n",
       " 'COSTPRICE',\n",
       " 'COSTPRICE',\n",
       " 'LINEAMOUNT',\n",
       " 'gross_sales',\n",
       " 'gross_sales',\n",
       " 'LINEAMOUNT',\n",
       " 'gross_sales',\n",
       " 'gross_sales',\n",
       " 'INVENTLOCATIONID',\n",
       " 'COSTPRICE',\n",
       " 'gross_sales',\n",
       " 'LINEAMOUNT',\n",
       " 'LINEAMOUNT',\n",
       " 'COSTPRICE',\n",
       " 'gross_sales',\n",
       " 'gross_sales',\n",
       " 'COSTPRICE',\n",
       " 'COSTPRICE',\n",
       " 'COSTPRICE',\n",
       " 'COSTPRICE',\n",
       " 'gross_sales',\n",
       " 'COSTPRICE',\n",
       " 'LINEAMOUNT',\n",
       " 'gross_sales',\n",
       " 'gross_sales',\n",
       " 'LINEAMOUNT',\n",
       " 'COSTPRICE',\n",
       " 'LINEAMOUNT',\n",
       " 'gross_sales',\n",
       " 'gross_sales',\n",
       " 'LINEAMOUNT',\n",
       " 'LINEAMOUNT',\n",
       " 'LINEAMOUNT',\n",
       " 'gross_sales',\n",
       " 'LINEAMOUNT',\n",
       " 'gross_sales',\n",
       " 'INVOICEDATE',\n",
       " 'gross_sales',\n",
       " 'COSTPRICE',\n",
       " 'gross_sales',\n",
       " 'gross_sales',\n",
       " 'LINEAMOUNT',\n",
       " 'LINEAMOUNT',\n",
       " 'COSTPRICE',\n",
       " 'gross_sales',\n",
       " 'COSTPRICE',\n",
       " 'LINEAMOUNT',\n",
       " 'LINEAMOUNT',\n",
       " 'LINEAMOUNT',\n",
       " 'LINEAMOUNT',\n",
       " 'COSTPRICE',\n",
       " 'gross_sales',\n",
       " 'LINEAMOUNT',\n",
       " 'LINEAMOUNT',\n",
       " 'LINEAMOUNT',\n",
       " 'COSTPRICE',\n",
       " 'COSTPRICE',\n",
       " 'gross_sales',\n",
       " 'gross_sales',\n",
       " 'COSTPRICE',\n",
       " 'gross_sales',\n",
       " 'INVOICEDATE',\n",
       " 'LINEAMOUNT',\n",
       " 'COSTPRICE',\n",
       " 'LINEAMOUNT',\n",
       " 'LINEAMOUNT',\n",
       " 'COSTPRICE',\n",
       " 'gross_sales',\n",
       " 'gross_sales',\n",
       " 'gross_sales',\n",
       " 'gross_sales',\n",
       " 'gross_sales',\n",
       " 'INVOICEDATE',\n",
       " 'LINEAMOUNT',\n",
       " 'COSTPRICE',\n",
       " 'LINEAMOUNT',\n",
       " 'COSTPRICE',\n",
       " 'COSTPRICE',\n",
       " 'INVOICEDATE',\n",
       " 'gross_sales',\n",
       " 'COSTPRICE',\n",
       " 'COSTPRICE',\n",
       " 'COSTPRICE',\n",
       " 'COSTPRICE',\n",
       " 'LINEAMOUNT',\n",
       " 'INVOICEDATE',\n",
       " 'LINEAMOUNT',\n",
       " 'COSTPRICE',\n",
       " 'LINEAMOUNT',\n",
       " 'INVOICEDATE',\n",
       " 'gross_sales',\n",
       " 'LINEAMOUNT',\n",
       " 'COSTPRICE',\n",
       " 'COSTPRICE',\n",
       " 'COSTPRICE',\n",
       " 'gross_sales',\n",
       " 'gross_sales',\n",
       " 'LINEAMOUNT',\n",
       " 'LINEAMOUNT',\n",
       " 'LINEAMOUNT',\n",
       " 'COSTPRICE',\n",
       " 'COSTPRICE',\n",
       " 'LINEAMOUNT',\n",
       " 'LINEAMOUNT',\n",
       " 'COSTPRICE',\n",
       " 'LINEAMOUNT',\n",
       " 'LINEAMOUNT',\n",
       " 'LINEAMOUNT',\n",
       " 'LINEAMOUNT',\n",
       " 'gross_sales',\n",
       " 'LINEAMOUNT',\n",
       " 'LINEAMOUNT',\n",
       " 'LINEAMOUNT',\n",
       " 'LINEAMOUNT',\n",
       " 'gross_sales',\n",
       " 'LINEAMOUNT',\n",
       " 'LINEAMOUNT',\n",
       " 'LINEAMOUNT',\n",
       " 'gross_sales',\n",
       " 'gross_sales',\n",
       " 'LINEAMOUNT',\n",
       " 'LINEAMOUNT',\n",
       " 'LINEAMOUNT',\n",
       " 'gross_sales',\n",
       " 'COSTPRICE',\n",
       " 'COSTPRICE',\n",
       " 'gross_sales',\n",
       " 'gross_sales',\n",
       " 'COSTPRICE',\n",
       " 'LINEAMOUNT',\n",
       " 'gross_sales',\n",
       " 'gross_sales',\n",
       " 'ITEMID',\n",
       " 'LINEAMOUNT',\n",
       " 'gross_sales',\n",
       " 'LINEAMOUNT',\n",
       " 'INVOICEDATE',\n",
       " 'INVOICEDATE',\n",
       " 'gross_sales',\n",
       " 'LINEAMOUNT',\n",
       " 'COSTPRICE',\n",
       " 'gross_sales',\n",
       " 'gross_sales',\n",
       " 'COSTPRICE',\n",
       " 'COSTPRICE',\n",
       " 'gross_sales',\n",
       " 'LINEAMOUNT',\n",
       " 'COSTPRICE',\n",
       " 'INVOICEDATE',\n",
       " 'gross_sales',\n",
       " 'COSTPRICE',\n",
       " 'LINEAMOUNT',\n",
       " 'gross_sales',\n",
       " 'gross_sales',\n",
       " 'gross_sales',\n",
       " 'gross_sales',\n",
       " 'gross_sales',\n",
       " 'COSTPRICE',\n",
       " 'COSTPRICE',\n",
       " 'COSTPRICE',\n",
       " 'COSTPRICE',\n",
       " 'LINEAMOUNT',\n",
       " 'COSTPRICE',\n",
       " 'LINEAMOUNT',\n",
       " 'COSTPRICE',\n",
       " 'LINEAMOUNT',\n",
       " 'LINEAMOUNT',\n",
       " 'gross_sales',\n",
       " 'LINEAMOUNT',\n",
       " 'LINEAMOUNT',\n",
       " 'LINEAMOUNT',\n",
       " 'LINEAMOUNT',\n",
       " 'COSTPRICE',\n",
       " 'gross_sales',\n",
       " 'gross_sales',\n",
       " 'gross_sales',\n",
       " 'gross_sales',\n",
       " 'COSTPRICE',\n",
       " 'LINEAMOUNT',\n",
       " 'gross_sales',\n",
       " 'ITEMID',\n",
       " 'LINEAMOUNT',\n",
       " 'gross_sales',\n",
       " 'gross_sales',\n",
       " 'gross_sales',\n",
       " 'COSTPRICE',\n",
       " 'LINEAMOUNT',\n",
       " 'COSTPRICE',\n",
       " 'COSTPRICE',\n",
       " 'COSTPRICE',\n",
       " 'gross_sales',\n",
       " 'gross_sales',\n",
       " 'LINEAMOUNT',\n",
       " 'gross_sales',\n",
       " 'gross_sales',\n",
       " 'INVOICEDATE',\n",
       " 'gross_sales',\n",
       " 'gross_sales',\n",
       " 'COSTPRICE',\n",
       " 'gross_sales',\n",
       " 'COSTPRICE',\n",
       " 'SALESQTY',\n",
       " 'INVOICEDATE',\n",
       " 'gross_sales',\n",
       " 'LINEAMOUNT',\n",
       " 'LINEAMOUNT',\n",
       " 'LINEAMOUNT',\n",
       " 'COSTPRICE',\n",
       " 'LINEAMOUNT',\n",
       " 'LINEAMOUNT',\n",
       " 'INVENTLOCATIONID',\n",
       " 'LINEAMOUNT',\n",
       " 'LINEAMOUNT',\n",
       " 'LINEAMOUNT',\n",
       " 'LINEAMOUNT',\n",
       " 'LINEAMOUNT',\n",
       " 'LINEAMOUNT',\n",
       " 'LINEAMOUNT',\n",
       " 'gross_sales',\n",
       " 'COSTPRICE',\n",
       " 'COSTPRICE',\n",
       " 'gross_sales',\n",
       " 'COSTPRICE',\n",
       " 'COSTPRICE',\n",
       " 'gross_sales',\n",
       " 'COSTPRICE',\n",
       " 'gross_sales',\n",
       " 'gross_sales',\n",
       " 'SALESQTY',\n",
       " 'gross_sales',\n",
       " 'LINEAMOUNT',\n",
       " 'INVOICEDATE',\n",
       " 'LINEAMOUNT',\n",
       " 'gross_sales',\n",
       " 'LINEAMOUNT',\n",
       " 'LINEAMOUNT',\n",
       " 'LINEAMOUNT',\n",
       " 'COSTPRICE',\n",
       " 'gross_sales',\n",
       " 'LINEAMOUNT',\n",
       " 'LINEAMOUNT',\n",
       " 'COSTPRICE',\n",
       " 'gross_sales',\n",
       " 'INVOICEDATE',\n",
       " 'LINEAMOUNT',\n",
       " 'COSTPRICE',\n",
       " 'LINEAMOUNT',\n",
       " 'LINEAMOUNT',\n",
       " 'COSTPRICE',\n",
       " 'COSTPRICE',\n",
       " 'gross_sales',\n",
       " 'gross_sales',\n",
       " 'COSTPRICE',\n",
       " 'history_week',\n",
       " 'LINEAMOUNT',\n",
       " 'LINEAMOUNT',\n",
       " 'COSTPRICE',\n",
       " 'gross_sales',\n",
       " 'COSTPRICE',\n",
       " 'LINEAMOUNT',\n",
       " 'LINEAMOUNT',\n",
       " 'LINEAMOUNT',\n",
       " 'COSTPRICE',\n",
       " 'INVOICEDATE',\n",
       " 'LINEAMOUNT',\n",
       " 'LINEAMOUNT',\n",
       " 'gross_sales',\n",
       " 'LINEAMOUNT',\n",
       " 'LINEAMOUNT',\n",
       " 'LINEAMOUNT',\n",
       " 'COSTPRICE',\n",
       " 'INVOICEDATE',\n",
       " 'INVOICEDATE',\n",
       " 'INVOICEDATE',\n",
       " 'LINEAMOUNT',\n",
       " 'INVOICEDATE',\n",
       " 'LINEAMOUNT',\n",
       " 'COSTPRICE',\n",
       " 'gross_sales',\n",
       " 'COSTPRICE',\n",
       " 'gross_sales',\n",
       " 'gross_sales',\n",
       " 'gross_sales',\n",
       " 'gross_sales',\n",
       " 'LINEAMOUNT',\n",
       " 'gross_sales',\n",
       " 'COSTPRICE',\n",
       " 'LINEAMOUNT',\n",
       " 'COSTPRICE',\n",
       " 'INVENTLOCATIONID',\n",
       " 'gross_sales',\n",
       " 'COSTPRICE',\n",
       " 'COSTPRICE',\n",
       " 'COSTPRICE',\n",
       " 'LINEAMOUNT',\n",
       " 'COSTPRICE',\n",
       " 'COSTPRICE',\n",
       " 'COSTPRICE',\n",
       " 'gross_sales',\n",
       " 'COSTPRICE',\n",
       " 'gross_sales',\n",
       " 'gross_sales',\n",
       " 'gross_sales',\n",
       " 'gross_sales',\n",
       " 'LINEAMOUNT',\n",
       " 'gross_sales',\n",
       " 'COSTPRICE',\n",
       " 'LINEAMOUNT',\n",
       " 'LINEAMOUNT',\n",
       " 'LINEAMOUNT',\n",
       " 'LINEAMOUNT',\n",
       " 'COSTPRICE',\n",
       " 'LINEAMOUNT',\n",
       " 'LINEAMOUNT',\n",
       " 'gross_sales',\n",
       " 'COSTPRICE',\n",
       " 'COSTPRICE',\n",
       " 'LINEAMOUNT',\n",
       " 'gross_sales',\n",
       " 'COSTPRICE',\n",
       " 'LINEAMOUNT',\n",
       " 'gross_sales',\n",
       " 'COSTPRICE',\n",
       " 'gross_sales',\n",
       " 'gross_sales',\n",
       " 'gross_sales',\n",
       " 'COSTPRICE',\n",
       " 'LINEAMOUNT',\n",
       " 'COSTPRICE',\n",
       " 'COSTPRICE',\n",
       " 'LINEAMOUNT',\n",
       " 'gross_sales',\n",
       " 'LINEAMOUNT',\n",
       " 'LINEAMOUNT',\n",
       " 'COSTPRICE',\n",
       " 'gross_sales',\n",
       " 'gross_sales',\n",
       " 'COSTPRICE',\n",
       " 'COSTPRICE',\n",
       " 'COSTPRICE',\n",
       " 'gross_sales',\n",
       " 'gross_sales',\n",
       " 'INVOICEDATE',\n",
       " 'history_week',\n",
       " 'INVOICEDATE',\n",
       " 'INVOICEDATE',\n",
       " 'LINEAMOUNT',\n",
       " 'LINEAMOUNT',\n",
       " 'LINEAMOUNT',\n",
       " 'gross_sales',\n",
       " 'COSTPRICE',\n",
       " 'gross_sales',\n",
       " 'LINEAMOUNT',\n",
       " 'gross_sales',\n",
       " 'COSTPRICE',\n",
       " 'LINEAMOUNT',\n",
       " 'INVOICEDATE',\n",
       " 'gross_sales',\n",
       " 'gross_sales',\n",
       " 'LINEAMOUNT',\n",
       " 'COSTPRICE',\n",
       " 'LINEAMOUNT',\n",
       " 'gross_sales',\n",
       " 'gross_sales',\n",
       " 'LINEAMOUNT',\n",
       " 'LINEAMOUNT',\n",
       " 'LINEAMOUNT',\n",
       " 'gross_sales',\n",
       " 'COSTPRICE',\n",
       " 'gross_sales',\n",
       " 'gross_sales',\n",
       " 'gross_sales',\n",
       " 'COSTPRICE',\n",
       " 'gross_sales',\n",
       " 'INVOICEDATE',\n",
       " 'gross_sales',\n",
       " 'LINEAMOUNT',\n",
       " 'LINEAMOUNT',\n",
       " 'gross_sales',\n",
       " 'COSTPRICE',\n",
       " 'gross_sales',\n",
       " 'LINEAMOUNT',\n",
       " 'LINEAMOUNT',\n",
       " 'COSTPRICE',\n",
       " 'COSTPRICE',\n",
       " 'LINEAMOUNT',\n",
       " 'gross_sales',\n",
       " 'LINEAMOUNT',\n",
       " 'COSTPRICE',\n",
       " 'COSTPRICE',\n",
       " 'gross_sales',\n",
       " 'LINEAMOUNT',\n",
       " 'LINEAMOUNT',\n",
       " 'gross_sales',\n",
       " 'LINEAMOUNT',\n",
       " 'LINEAMOUNT',\n",
       " 'gross_sales',\n",
       " 'LINEAMOUNT',\n",
       " 'COSTPRICE',\n",
       " 'LINEAMOUNT',\n",
       " 'COSTPRICE',\n",
       " 'LINEAMOUNT',\n",
       " 'COSTPRICE',\n",
       " 'COSTPRICE',\n",
       " 'COSTPRICE',\n",
       " 'gross_sales',\n",
       " 'gross_sales',\n",
       " 'INVOICEDATE',\n",
       " 'INVENTLOCATIONID',\n",
       " 'COSTPRICE',\n",
       " 'COSTPRICE',\n",
       " 'gross_sales',\n",
       " 'COSTPRICE',\n",
       " 'gross_sales',\n",
       " 'LINEAMOUNT',\n",
       " 'COSTPRICE',\n",
       " 'LINEAMOUNT',\n",
       " 'LINEAMOUNT',\n",
       " 'ITEMID',\n",
       " 'COSTPRICE',\n",
       " 'COSTPRICE',\n",
       " 'LINEAMOUNT',\n",
       " 'LINEAMOUNT',\n",
       " 'gross_sales',\n",
       " 'LINEAMOUNT',\n",
       " 'gross_sales',\n",
       " 'LINEAMOUNT',\n",
       " 'LINEAMOUNT',\n",
       " 'COSTPRICE',\n",
       " 'gross_sales',\n",
       " 'gross_sales',\n",
       " 'LINEAMOUNT',\n",
       " 'COSTPRICE',\n",
       " 'COSTPRICE',\n",
       " 'COSTPRICE',\n",
       " 'gross_sales',\n",
       " 'LINEAMOUNT',\n",
       " 'LINEAMOUNT',\n",
       " 'gross_sales',\n",
       " 'gross_sales',\n",
       " 'COSTPRICE',\n",
       " 'COSTPRICE',\n",
       " 'LINEAMOUNT',\n",
       " 'COSTPRICE',\n",
       " 'COSTPRICE',\n",
       " 'COSTPRICE',\n",
       " 'gross_sales',\n",
       " 'INVOICEDATE',\n",
       " 'LINEAMOUNT',\n",
       " 'COSTPRICE',\n",
       " 'COSTPRICE',\n",
       " 'gross_sales',\n",
       " 'gross_sales',\n",
       " 'history_month',\n",
       " 'LINEAMOUNT',\n",
       " 'INVOICEDATE',\n",
       " 'LINEAMOUNT',\n",
       " 'LINEAMOUNT',\n",
       " 'LINEAMOUNT',\n",
       " 'COSTPRICE',\n",
       " 'COSTPRICE',\n",
       " 'gross_sales',\n",
       " 'LINEAMOUNT',\n",
       " 'COSTPRICE',\n",
       " 'gross_sales',\n",
       " 'LINEAMOUNT',\n",
       " 'COSTPRICE',\n",
       " 'LINEAMOUNT',\n",
       " 'LINEAMOUNT',\n",
       " 'gross_sales',\n",
       " 'gross_sales',\n",
       " 'gross_sales',\n",
       " 'gross_sales',\n",
       " 'INVOICEDATE',\n",
       " 'LINEAMOUNT',\n",
       " 'gross_sales',\n",
       " 'gross_sales',\n",
       " 'COSTPRICE',\n",
       " 'gross_sales',\n",
       " 'LINEAMOUNT',\n",
       " 'LINEAMOUNT',\n",
       " 'COSTPRICE',\n",
       " 'gross_sales',\n",
       " 'LINEAMOUNT',\n",
       " 'COSTPRICE',\n",
       " 'gross_sales',\n",
       " 'LINEAMOUNT',\n",
       " 'COSTPRICE',\n",
       " 'gross_sales',\n",
       " 'LINEAMOUNT',\n",
       " 'LINEAMOUNT',\n",
       " 'LINEAMOUNT',\n",
       " 'COSTPRICE',\n",
       " 'INVOICEDATE',\n",
       " 'COSTPRICE',\n",
       " 'LINEAMOUNT',\n",
       " 'gross_sales',\n",
       " 'COSTPRICE',\n",
       " 'COSTPRICE',\n",
       " 'COSTPRICE',\n",
       " 'LINEAMOUNT',\n",
       " 'gross_sales',\n",
       " 'LINEAMOUNT',\n",
       " 'gross_sales',\n",
       " 'LINEAMOUNT',\n",
       " 'gross_sales',\n",
       " 'gross_sales',\n",
       " 'LINEAMOUNT',\n",
       " 'LINEAMOUNT',\n",
       " 'LINEAMOUNT',\n",
       " 'LINEAMOUNT',\n",
       " 'LINEAMOUNT',\n",
       " 'gross_sales',\n",
       " 'LINEAMOUNT',\n",
       " 'gross_sales',\n",
       " 'LINEAMOUNT',\n",
       " 'gross_sales',\n",
       " 'LINEAMOUNT',\n",
       " 'gross_sales',\n",
       " 'LINEAMOUNT',\n",
       " 'gross_sales',\n",
       " 'gross_sales',\n",
       " 'LINEAMOUNT',\n",
       " 'gross_sales',\n",
       " 'LINEAMOUNT',\n",
       " 'COSTPRICE',\n",
       " 'LINEAMOUNT',\n",
       " 'LINEAMOUNT',\n",
       " 'LINEAMOUNT',\n",
       " 'COSTPRICE',\n",
       " 'LINEAMOUNT',\n",
       " 'COSTPRICE',\n",
       " 'LINEAMOUNT',\n",
       " 'COSTPRICE',\n",
       " 'COSTPRICE',\n",
       " 'gross_sales',\n",
       " 'LINEAMOUNT',\n",
       " 'LINEAMOUNT',\n",
       " 'COSTPRICE',\n",
       " 'LINEAMOUNT',\n",
       " 'gross_sales',\n",
       " 'LINEAMOUNT',\n",
       " 'COSTPRICE',\n",
       " 'COSTPRICE',\n",
       " 'gross_sales',\n",
       " 'LINEAMOUNT',\n",
       " 'LINEAMOUNT',\n",
       " 'COSTPRICE',\n",
       " 'COSTPRICE',\n",
       " 'COSTPRICE',\n",
       " 'LINEAMOUNT',\n",
       " 'COSTPRICE',\n",
       " 'LINEAMOUNT',\n",
       " 'COSTPRICE',\n",
       " 'COSTPRICE',\n",
       " 'COSTPRICE',\n",
       " 'COSTPRICE',\n",
       " 'gross_sales',\n",
       " 'gross_sales',\n",
       " 'LINEAMOUNT',\n",
       " 'gross_sales',\n",
       " 'gross_sales',\n",
       " 'COSTPRICE',\n",
       " 'gross_sales',\n",
       " 'COSTPRICE',\n",
       " 'gross_sales',\n",
       " 'gross_sales',\n",
       " 'LINEAMOUNT',\n",
       " 'LINEAMOUNT',\n",
       " 'LINEAMOUNT',\n",
       " 'gross_sales',\n",
       " 'COSTPRICE',\n",
       " 'COSTPRICE',\n",
       " 'gross_sales',\n",
       " 'gross_sales',\n",
       " 'gross_sales',\n",
       " 'LINEAMOUNT',\n",
       " 'LINEAMOUNT',\n",
       " 'COSTPRICE',\n",
       " 'INVOICEDATE',\n",
       " 'LINEAMOUNT',\n",
       " 'gross_sales',\n",
       " 'COSTPRICE',\n",
       " 'COSTPRICE',\n",
       " 'COSTPRICE',\n",
       " 'gross_sales',\n",
       " 'gross_sales',\n",
       " 'LINEAMOUNT',\n",
       " 'COSTPRICE',\n",
       " 'COSTPRICE',\n",
       " 'gross_sales',\n",
       " 'gross_sales',\n",
       " 'gross_sales',\n",
       " 'gross_sales',\n",
       " 'COSTPRICE',\n",
       " 'gross_sales',\n",
       " 'LINEAMOUNT',\n",
       " 'INVOICEDATE',\n",
       " 'LINEAMOUNT',\n",
       " 'LINEAMOUNT',\n",
       " 'COSTPRICE',\n",
       " 'LINEAMOUNT',\n",
       " 'COSTPRICE',\n",
       " 'LINEAMOUNT',\n",
       " 'gross_sales',\n",
       " 'gross_sales',\n",
       " 'LINEAMOUNT',\n",
       " 'COSTPRICE',\n",
       " 'LINEAMOUNT',\n",
       " 'COSTPRICE',\n",
       " 'LINEAMOUNT',\n",
       " 'INVOICEDATE',\n",
       " 'gross_sales',\n",
       " 'COSTPRICE',\n",
       " 'gross_sales',\n",
       " 'LINEAMOUNT',\n",
       " 'gross_sales',\n",
       " 'gross_sales',\n",
       " 'gross_sales',\n",
       " 'COSTPRICE',\n",
       " 'COSTPRICE',\n",
       " 'COSTPRICE',\n",
       " 'INVOICEDATE',\n",
       " 'gross_sales',\n",
       " 'LINEAMOUNT',\n",
       " 'LINEAMOUNT',\n",
       " 'LINEAMOUNT',\n",
       " 'gross_sales',\n",
       " 'gross_sales',\n",
       " 'LINEAMOUNT',\n",
       " 'gross_sales',\n",
       " 'LINEAMOUNT',\n",
       " 'COSTPRICE',\n",
       " 'gross_sales',\n",
       " 'gross_sales',\n",
       " 'gross_sales',\n",
       " 'LINEAMOUNT',\n",
       " 'LINEAMOUNT',\n",
       " 'LINEAMOUNT',\n",
       " 'LINEAMOUNT',\n",
       " 'COSTPRICE',\n",
       " 'gross_sales',\n",
       " 'gross_sales',\n",
       " 'COSTPRICE',\n",
       " 'gross_sales',\n",
       " 'gross_sales',\n",
       " 'COSTPRICE',\n",
       " 'COSTPRICE',\n",
       " 'LINEAMOUNT',\n",
       " 'COSTPRICE',\n",
       " 'LINEAMOUNT',\n",
       " 'COSTPRICE',\n",
       " 'COSTPRICE',\n",
       " 'COSTPRICE',\n",
       " 'COSTPRICE',\n",
       " 'LINEAMOUNT',\n",
       " 'gross_sales',\n",
       " 'LINEAMOUNT',\n",
       " 'COSTPRICE',\n",
       " 'COSTPRICE',\n",
       " 'COSTPRICE',\n",
       " 'COSTPRICE',\n",
       " 'COSTPRICE',\n",
       " 'gross_sales',\n",
       " 'gross_sales',\n",
       " 'gross_sales',\n",
       " 'LINEAMOUNT',\n",
       " 'gross_sales',\n",
       " 'COSTPRICE',\n",
       " 'SALESQTY',\n",
       " 'COSTPRICE',\n",
       " 'gross_sales',\n",
       " 'COSTPRICE',\n",
       " 'COSTPRICE',\n",
       " 'COSTPRICE',\n",
       " 'COSTPRICE',\n",
       " 'LINEAMOUNT',\n",
       " 'COSTPRICE',\n",
       " 'gross_sales',\n",
       " 'SALESQTY',\n",
       " 'LINEAMOUNT',\n",
       " 'LINEAMOUNT',\n",
       " 'COSTPRICE',\n",
       " 'COSTPRICE',\n",
       " 'LINEAMOUNT',\n",
       " 'gross_sales',\n",
       " 'COSTPRICE',\n",
       " 'COSTPRICE',\n",
       " 'gross_sales',\n",
       " 'LINEAMOUNT',\n",
       " 'gross_sales',\n",
       " 'LINEAMOUNT',\n",
       " 'COSTPRICE',\n",
       " 'gross_sales',\n",
       " 'LINEAMOUNT',\n",
       " 'LINEAMOUNT',\n",
       " 'LINEAMOUNT',\n",
       " 'COSTPRICE',\n",
       " 'gross_sales',\n",
       " 'history_week',\n",
       " 'LINEAMOUNT',\n",
       " 'gross_sales',\n",
       " 'LINEAMOUNT',\n",
       " 'INVOICEDATE',\n",
       " 'COSTPRICE',\n",
       " 'COSTPRICE',\n",
       " 'gross_sales',\n",
       " 'gross_sales',\n",
       " 'LINEAMOUNT',\n",
       " 'INVENTLOCATIONID',\n",
       " 'LINEAMOUNT',\n",
       " 'COSTPRICE',\n",
       " 'COSTPRICE',\n",
       " 'gross_sales',\n",
       " 'COSTPRICE',\n",
       " 'COSTPRICE',\n",
       " 'COSTPRICE',\n",
       " 'LINEAMOUNT',\n",
       " 'COSTPRICE',\n",
       " 'gross_sales',\n",
       " 'COSTPRICE',\n",
       " 'LINEAMOUNT',\n",
       " 'INVOICEDATE',\n",
       " 'COSTPRICE',\n",
       " 'gross_sales',\n",
       " 'LINEAMOUNT',\n",
       " 'LINEAMOUNT',\n",
       " 'LINEAMOUNT',\n",
       " 'COSTPRICE',\n",
       " 'COSTPRICE',\n",
       " 'COSTPRICE',\n",
       " 'COSTPRICE',\n",
       " 'gross_sales',\n",
       " 'LINEAMOUNT',\n",
       " 'LINEAMOUNT',\n",
       " 'LINEAMOUNT',\n",
       " 'LINEAMOUNT',\n",
       " 'gross_sales',\n",
       " 'LINEAMOUNT',\n",
       " 'LINEAMOUNT',\n",
       " 'LINEAMOUNT',\n",
       " 'LINEAMOUNT',\n",
       " 'COSTPRICE',\n",
       " 'gross_sales',\n",
       " 'gross_sales',\n",
       " 'LINEAMOUNT',\n",
       " 'gross_sales',\n",
       " 'LINEAMOUNT',\n",
       " 'LINEAMOUNT',\n",
       " 'LINEAMOUNT',\n",
       " 'LINEAMOUNT',\n",
       " 'COSTPRICE',\n",
       " 'gross_sales',\n",
       " 'COSTPRICE',\n",
       " 'gross_sales',\n",
       " 'INVOICEDATE',\n",
       " 'COSTPRICE',\n",
       " 'gross_sales',\n",
       " 'COSTPRICE',\n",
       " 'LINEAMOUNT',\n",
       " 'COSTPRICE',\n",
       " 'COSTPRICE',\n",
       " 'gross_sales',\n",
       " 'gross_sales',\n",
       " 'gross_sales',\n",
       " 'LINEAMOUNT',\n",
       " 'LINEAMOUNT',\n",
       " 'LINEAMOUNT',\n",
       " 'LINEAMOUNT',\n",
       " 'gross_sales',\n",
       " 'gross_sales',\n",
       " 'COSTPRICE',\n",
       " 'LINEAMOUNT',\n",
       " 'gross_sales',\n",
       " 'LINEAMOUNT',\n",
       " 'LINEAMOUNT',\n",
       " 'LINEAMOUNT',\n",
       " 'LINEAMOUNT',\n",
       " 'COSTPRICE',\n",
       " 'LINEAMOUNT',\n",
       " 'COSTPRICE',\n",
       " 'COSTPRICE',\n",
       " 'gross_sales',\n",
       " 'gross_sales',\n",
       " 'gross_sales',\n",
       " 'COSTPRICE',\n",
       " 'gross_sales',\n",
       " 'gross_sales',\n",
       " 'COSTPRICE',\n",
       " 'gross_sales',\n",
       " 'history_week',\n",
       " 'LINEAMOUNT',\n",
       " 'LINEAMOUNT',\n",
       " 'LINEAMOUNT',\n",
       " 'COSTPRICE',\n",
       " 'LINEAMOUNT',\n",
       " 'COSTPRICE',\n",
       " 'gross_sales',\n",
       " 'COSTPRICE',\n",
       " 'INVOICEDATE',\n",
       " 'COSTPRICE',\n",
       " 'LINEAMOUNT',\n",
       " 'COSTPRICE',\n",
       " 'gross_sales',\n",
       " 'LINEAMOUNT',\n",
       " 'COSTPRICE',\n",
       " 'gross_sales',\n",
       " 'COSTPRICE',\n",
       " 'LINEAMOUNT',\n",
       " 'LINEAMOUNT',\n",
       " 'COSTPRICE',\n",
       " 'COSTPRICE',\n",
       " 'gross_sales',\n",
       " 'gross_sales',\n",
       " 'INVOICEDATE',\n",
       " 'COSTPRICE',\n",
       " 'gross_sales',\n",
       " 'COSTPRICE',\n",
       " 'LINEAMOUNT',\n",
       " 'LINEAMOUNT',\n",
       " 'gross_sales',\n",
       " 'LINEAMOUNT',\n",
       " 'LINEAMOUNT',\n",
       " 'gross_sales',\n",
       " 'LINEAMOUNT',\n",
       " 'COSTPRICE',\n",
       " 'gross_sales',\n",
       " 'gross_sales',\n",
       " 'COSTPRICE',\n",
       " 'LINEAMOUNT',\n",
       " 'COSTPRICE',\n",
       " 'INVOICEDATE',\n",
       " 'LINEAMOUNT',\n",
       " 'gross_sales',\n",
       " 'COSTPRICE',\n",
       " 'COSTPRICE',\n",
       " 'gross_sales',\n",
       " 'LINEAMOUNT',\n",
       " 'COSTPRICE',\n",
       " 'gross_sales',\n",
       " ...]"
      ]
     },
     "execution_count": 196,
     "metadata": {},
     "output_type": "execute_result"
    }
   ],
   "source": [
    "cst_trnx.melt(variable_name=\"column\").group_by(pl.all()).len()['column'].to_list()"
   ]
  },
  {
   "cell_type": "code",
   "execution_count": 197,
   "metadata": {},
   "outputs": [
    {
     "data": {
      "text/plain": [
       "VersionedItem(symbol='ra_kpi_joined', library='RA_DATA', data=n/a, version=0, metadata=None, host='LMDB(path=/home/ubuntu/OTB/databases/bmaps_data)')"
      ]
     },
     "execution_count": 197,
     "metadata": {},
     "output_type": "execute_result"
    }
   ],
   "source": [
    "rf.get_library(LIBRARY_NAME).append(\n",
    "            'ra_kpi_joined',\n",
    "            ra_stock_joined.join(kpi_trnx,\n",
    "            on=['ITEMID'],\n",
    "            how='left' \n",
    "            ).to_pandas(), prune_previous_versions=True\n",
    "        )"
   ]
  },
  {
   "cell_type": "code",
   "execution_count": 198,
   "metadata": {},
   "outputs": [],
   "source": [
    "q=QueryBuilder()\n",
    "ra_kpi_joined  = pl.DataFrame(rf.get_library(LIBRARY_NAME).read('ra_kpi_joined', query_builder=q).data)"
   ]
  },
  {
   "cell_type": "code",
   "execution_count": 199,
   "metadata": {},
   "outputs": [
    {
     "data": {
      "text/plain": [
       "(9792848, 47)"
      ]
     },
     "execution_count": 199,
     "metadata": {},
     "output_type": "execute_result"
    }
   ],
   "source": [
    "ra_kpi_joined.shape"
   ]
  },
  {
   "cell_type": "code",
   "execution_count": 200,
   "metadata": {},
   "outputs": [
    {
     "data": {
      "text/html": [
       "<div><style>\n",
       ".dataframe > thead > tr,\n",
       ".dataframe > tbody > tr {\n",
       "  text-align: right;\n",
       "  white-space: pre-wrap;\n",
       "}\n",
       "</style>\n",
       "<small>shape: (1, 2)</small><table border=\"1\" class=\"dataframe\"><thead><tr><th>stock_date</th><th>count</th></tr><tr><td>datetime[ns]</td><td>u32</td></tr></thead><tbody><tr><td>2024-02-26 00:00:00</td><td>9792848</td></tr></tbody></table></div>"
      ],
      "text/plain": [
       "shape: (1, 2)\n",
       "┌─────────────────────┬─────────┐\n",
       "│ stock_date          ┆ count   │\n",
       "│ ---                 ┆ ---     │\n",
       "│ datetime[ns]        ┆ u32     │\n",
       "╞═════════════════════╪═════════╡\n",
       "│ 2024-02-26 00:00:00 ┆ 9792848 │\n",
       "└─────────────────────┴─────────┘"
      ]
     },
     "execution_count": 200,
     "metadata": {},
     "output_type": "execute_result"
    }
   ],
   "source": [
    "ra_kpi_joined['stock_date'].value_counts()"
   ]
  },
  {
   "cell_type": "code",
   "execution_count": 201,
   "metadata": {},
   "outputs": [
    {
     "data": {
      "text/plain": [
       "VersionedItem(symbol='ra_kpi_joined', library='RA_DATA', data=n/a, version=1, metadata=None, host='LMDB(path=/home/ubuntu/OTB/databases/bmaps_data)')"
      ]
     },
     "execution_count": 201,
     "metadata": {},
     "output_type": "execute_result"
    }
   ],
   "source": [
    "fill_date = ra_kpi_joined['stock_date'].dt.max()\n",
    "ra_kpi_joined = ra_kpi_joined.with_columns(stock_date = pl.col('stock_date').fill_null(fill_date))\n",
    "lib.write('ra_kpi_joined', ra_kpi_joined.to_pandas(), prune_previous_versions=True)"
   ]
  },
  {
   "cell_type": "code",
   "execution_count": 202,
   "metadata": {},
   "outputs": [
    {
     "name": "stdout",
     "output_type": "stream",
     "text": [
      "('Store', String)\n",
      "('area', String)\n",
      "('Region', String)\n",
      "('adjusted_budget_gross_margin_percent', Float64)\n",
      "('budget_amount', Float64)\n",
      "('budget_cost', Float64)\n",
      "('budget_qty', Float64)\n",
      "('ITEMID', String)\n",
      "('Channel', String)\n",
      "('INVENTLOCATIONID', String)\n",
      "('Budget_date', Datetime(time_unit='ns', time_zone=None))\n",
      "('Description', String)\n",
      "('Department', String)\n",
      "('Category', String)\n",
      "('Family', String)\n",
      "('SubFamily', String)\n",
      "('SubCategory', String)\n",
      "('ExtendedSubCategory', String)\n",
      "('SubCategorySupplier', String)\n",
      "('AssemblyCodeNickName', String)\n",
      "('ENDOFLife', String)\n",
      "('DOM_COMM', String)\n",
      "('Status', String)\n",
      "('Supplier', String)\n",
      "('stock_on_hand_qty', Float64)\n",
      "('opening_stock', Float64)\n",
      "('closing_stock', Float64)\n",
      "('current_stock_cost_at_retail', Float64)\n",
      "('stock_received_qty', Float64)\n",
      "('opening_stock_at_cost', Float64)\n",
      "('adjustment_at_cost', Float64)\n",
      "('adjustment_at_retail', Float64)\n",
      "('stock_date', Datetime(time_unit='us', time_zone=None))\n",
      "('article_score_sale', Float64)\n",
      "('article_score_abc', Float64)\n",
      "('article_score_ae', Float64)\n",
      "('article_score_speed', Float64)\n",
      "('article_score_terminal', Float64)\n",
      "('article_score_margin', Float64)\n",
      "('article_score_sell', Float64)\n",
      "('article_score_markdown', Float64)\n",
      "('article_score_core', Float64)\n",
      "('article_score_quartile', Float64)\n",
      "('article_score_sortimeter', Float64)\n",
      "('btech_vs_sortimeter', Float64)\n",
      "('store_sku_count', Float64)\n",
      "('price', Float64)\n",
      "('Store', String) ('area', String) ('Region', String) ('adjusted_budget_gross_margin_percent', Float64) ('budget_amount', Float64) ('budget_cost', Float64) ('budget_qty', Float64) ('ITEMID', String) ('Channel', String) ('INVENTLOCATIONID', String) ('Budget_date', Datetime(time_unit='ns', time_zone=None)) ('Description', String) ('Department', String) ('Category', String) ('Family', String) ('SubFamily', String) ('SubCategory', String) ('ExtendedSubCategory', String) ('SubCategorySupplier', String) ('AssemblyCodeNickName', String) ('ENDOFLife', String) ('DOM_COMM', String) ('Status', String) ('Supplier', String) ('stock_on_hand_qty', Float64) ('opening_stock', Float64) ('closing_stock', Float64) ('current_stock_cost_at_retail', Float64) ('stock_received_qty', Float64) ('opening_stock_at_cost', Float64) ('adjustment_at_cost', Float64) ('adjustment_at_retail', Float64) ('stock_date', Datetime(time_unit='us', time_zone=None)) ('article_score_sale', Float64) ('article_score_abc', Float64) ('article_score_ae', Float64) ('article_score_speed', Float64) ('article_score_terminal', Float64) ('article_score_margin', Float64) ('article_score_sell', Float64) ('article_score_markdown', Float64) ('article_score_core', Float64) ('article_score_quartile', Float64) ('article_score_sortimeter', Float64) ('btech_vs_sortimeter', Float64) ('store_sku_count', Float64) ('price', Float64) the symbol version\n"
     ]
    }
   ],
   "source": [
    "print(*map(lambda item:(print(item), item)[1], dict(zip(ra_kpi_joined.columns, ra_kpi_joined.dtypes)).items()), 'the symbol version')"
   ]
  },
  {
   "cell_type": "code",
   "execution_count": 134,
   "metadata": {},
   "outputs": [],
   "source": [
    "def filter_symbol(rf: RapiDF, library_name: str, symbol_name: str, columns: List[str]=None, filter_set: Dict[str, str | int | list]= {}, return_as_pl: bool=True):\n",
    "    # Initialize the QueryBuilder\n",
    "    q = QueryBuilder()\n",
    "\n",
    "    # Apply filters dynamically\n",
    "    for column, conditions in filter_set.items():\n",
    "        for operator, value in conditions.items():\n",
    "            if operator == \"_gt_\": # Greater Than\n",
    "                q = q[(q[column] > value)]\n",
    "            elif operator == \"_gte_\": # Greater than or Equal To\n",
    "                q = q[(q[column] >= pd.to_datetime(value))]\n",
    "            elif operator == \"_lt_\": # Less Than\n",
    "                q = q[(q[column] < value)]\n",
    "            elif operator == \"_lte_\": # Less Than or Equal To\n",
    "                q = q[(q[column] <= pd.to_datetime(value))]\n",
    "            elif operator == \"_eq_\": # Equal To\n",
    "                q = q[(q[column] == value)]\n",
    "            elif operator == \"_isin_\": # Is in the list\n",
    "                q = q[(q[column].isin(value))]\n",
    "\n",
    "    filtered_df = rf.get_library(library_name).read(symbol_name, columns=columns, query_builder=q).data\n",
    "    return pl.DataFrame(filtered_df) if return_as_pl else filtered_df\n"
   ]
  },
  {
   "cell_type": "code",
   "execution_count": 135,
   "metadata": {},
   "outputs": [],
   "source": [
    "history_start_date_str  = \"2021-01-01\"\n",
    "history_end_date_str    = \"2023-12-16\"\n",
    "\n",
    "forecast_start_date_str = \"2024-01-01\"\n",
    "forecast_end_date_str   = \"2024-12-31\"\n"
   ]
  },
  {
   "cell_type": "code",
   "execution_count": 136,
   "metadata": {},
   "outputs": [
    {
     "data": {
      "text/plain": [
       "['Store',\n",
       " 'area',\n",
       " 'Region',\n",
       " 'adjusted_budget_gross_margin_percent',\n",
       " 'budget_amount',\n",
       " 'budget_cost',\n",
       " 'budget_qty',\n",
       " 'ITEMID',\n",
       " 'Channel',\n",
       " 'INVENTLOCATIONID',\n",
       " 'Budget_date',\n",
       " 'Description',\n",
       " 'Department',\n",
       " 'Category',\n",
       " 'Family',\n",
       " 'SubFamily',\n",
       " 'SubCategory',\n",
       " 'ExtendedSubCategory',\n",
       " 'SubCategorySupplier',\n",
       " 'AssemblyCodeNickName',\n",
       " 'ENDOFLife',\n",
       " 'DOM_COMM',\n",
       " 'Status',\n",
       " 'Supplier',\n",
       " 'stock_on_hand_qty',\n",
       " 'opening_stock',\n",
       " 'closing_stock',\n",
       " 'current_stock_cost_at_retail',\n",
       " 'stock_received_qty',\n",
       " 'opening_stock_at_cost',\n",
       " 'adjustment_at_cost',\n",
       " 'adjustment_at_retail',\n",
       " 'stock_date',\n",
       " 'article_score_sale',\n",
       " 'article_score_abc',\n",
       " 'article_score_ae',\n",
       " 'article_score_speed',\n",
       " 'article_score_terminal',\n",
       " 'article_score_margin',\n",
       " 'article_score_sell',\n",
       " 'article_score_markdown',\n",
       " 'article_score_core',\n",
       " 'article_score_quartile',\n",
       " 'article_score_sortimeter',\n",
       " 'btech_vs_sortimeter',\n",
       " 'store_sku_count',\n",
       " 'price']"
      ]
     },
     "execution_count": 136,
     "metadata": {},
     "output_type": "execute_result"
    }
   ],
   "source": [
    "list(ra_kpi_joined.columns)"
   ]
  },
  {
   "cell_type": "code",
   "execution_count": 203,
   "metadata": {},
   "outputs": [
    {
     "data": {
      "text/html": [
       "<div><style>\n",
       ".dataframe > thead > tr,\n",
       ".dataframe > tbody > tr {\n",
       "  text-align: right;\n",
       "  white-space: pre-wrap;\n",
       "}\n",
       "</style>\n",
       "<small>shape: (2, 2)</small><table border=\"1\" class=\"dataframe\"><thead><tr><th>Budget_date</th><th>count</th></tr><tr><td>datetime[ns]</td><td>u32</td></tr></thead><tbody><tr><td>2024-03-28 00:00:00</td><td>4896424</td></tr><tr><td>2024-03-27 00:00:00</td><td>4896424</td></tr></tbody></table></div>"
      ],
      "text/plain": [
       "shape: (2, 2)\n",
       "┌─────────────────────┬─────────┐\n",
       "│ Budget_date         ┆ count   │\n",
       "│ ---                 ┆ ---     │\n",
       "│ datetime[ns]        ┆ u32     │\n",
       "╞═════════════════════╪═════════╡\n",
       "│ 2024-03-28 00:00:00 ┆ 4896424 │\n",
       "│ 2024-03-27 00:00:00 ┆ 4896424 │\n",
       "└─────────────────────┴─────────┘"
      ]
     },
     "execution_count": 203,
     "metadata": {},
     "output_type": "execute_result"
    }
   ],
   "source": [
    "ra_kpi_joined['Budget_date'].value_counts()"
   ]
  },
  {
   "cell_type": "code",
   "execution_count": 204,
   "metadata": {},
   "outputs": [
    {
     "data": {
      "text/plain": [
       "datetime.datetime(2024, 3, 28, 0, 0)"
      ]
     },
     "execution_count": 204,
     "metadata": {},
     "output_type": "execute_result"
    }
   ],
   "source": [
    "ra_kpi_joined['Budget_date'][0]"
   ]
  },
  {
   "cell_type": "code",
   "execution_count": 205,
   "metadata": {},
   "outputs": [],
   "source": [
    "ra_kpi_joined = ra_kpi_joined.with_columns((pl.when(ra_kpi_joined['Budget_date']==datetime(2024,3,27,0,0))\n",
    "                                            .then(datetime(2024,4,5,00,00,00))\n",
    "                                            .otherwise(datetime(2024,4,6,00,00,00))).alias('Budget_date'))"
   ]
  },
  {
   "cell_type": "code",
   "execution_count": 206,
   "metadata": {},
   "outputs": [],
   "source": [
    "ra_kpi_joined = ra_kpi_joined.fill_null(0)"
   ]
  },
  {
   "cell_type": "code",
   "execution_count": 207,
   "metadata": {},
   "outputs": [
    {
     "data": {
      "text/plain": [
       "VersionedItem(symbol='ra_kpi_joined', library='RA_DATA', data=n/a, version=2, metadata=None, host='LMDB(path=/home/ubuntu/OTB/databases/bmaps_data)')"
      ]
     },
     "execution_count": 207,
     "metadata": {},
     "output_type": "execute_result"
    }
   ],
   "source": [
    "lib.append('ra_kpi_joined', ra_kpi_joined.to_pandas(), prune_previous_versions=True)"
   ]
  },
  {
   "cell_type": "code",
   "execution_count": 19,
   "metadata": {},
   "outputs": [],
   "source": [
    "%reset -f"
   ]
  },
  {
   "cell_type": "code",
   "execution_count": null,
   "metadata": {},
   "outputs": [],
   "source": []
  }
 ],
 "metadata": {
  "kernelspec": {
   "display_name": "Python 3",
   "language": "python",
   "name": "python3"
  },
  "language_info": {
   "codemirror_mode": {
    "name": "ipython",
    "version": 3
   },
   "file_extension": ".py",
   "mimetype": "text/x-python",
   "name": "python",
   "nbconvert_exporter": "python",
   "pygments_lexer": "ipython3",
   "version": "3.10.12"
  }
 },
 "nbformat": 4,
 "nbformat_minor": 2
}
